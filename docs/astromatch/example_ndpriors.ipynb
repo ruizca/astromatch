{
 "cells": [
  {
   "cell_type": "markdown",
   "metadata": {},
   "source": [
    "Using multidimensional priors with astromatch\n",
    "========================================\n",
    "\n",
    "\n",
    "This examples uses a source catalogue from the XMM-ATLAS survey (http://xraygroup.astro.noa.gr/atlas.html). The used catalogue is the result of custom X-ray data analysis and does not correspond to the one provided  in the lnk above The catalogue is loaded as an astromatch Catalogue object. The corresponding MOC that describes the XMM-ATLAS field of view is also given. "
   ]
  },
  {
   "cell_type": "code",
   "execution_count": 1,
   "metadata": {},
   "outputs": [],
   "source": [
    "%load_ext autoreload\n",
    "%autoreload 2"
   ]
  },
  {
   "cell_type": "code",
   "execution_count": 2,
   "metadata": {},
   "outputs": [
    {
     "name": "stdout",
     "output_type": "stream",
     "text": [
      "1127 sources in sky area of 7.0 deg2\n"
     ]
    }
   ],
   "source": [
    "from pathlib import Path\n",
    "\n",
    "from astromatch import Catalogue\n",
    "from mocpy import MOC\n",
    "\n",
    "\n",
    "xcat_moc_file = Path(\"DATA\", \"xmmatlas_new.moc\")\n",
    "xcat_moc = MOC.from_fits(xcat_moc_file)     \n",
    "\n",
    "xcat_file = Path(\"DATA\", \"xmmatlas_srclistnew_Legacy.fits\")\n",
    "xcat = Catalogue(\n",
    "    str(xcat_file),\n",
    "    name='xatlas',\n",
    "    id_col='UXID',\n",
    "    coord_cols=['RA_CORR', 'DEC_CORR'],\n",
    "    poserr_cols=['RADEC_TERR'],\n",
    "    poserr_type='circle',\n",
    "    area=xcat_moc,\n",
    ")\n",
    "\n",
    "print(\"{} sources in sky area of {:0.01f}\".format(len(xcat), xcat.area))"
   ]
  },
  {
   "cell_type": "markdown",
   "metadata": {},
   "source": [
    "The next steps is to define the optical catalogue through an astromatch Catalogue object. In this case the [Legacy survey](http://legacysurvey.org/) dataset is used. The table columns of the Legacy survey source list that will be read into the Catalogue class need to be defined.  At this stage no prior is contructed but the relevant columns are read in for the calculations later on."
   ]
  },
  {
   "cell_type": "code",
   "execution_count": 3,
   "metadata": {},
   "outputs": [
    {
     "name": "stdout",
     "output_type": "stream",
     "text": [
      "552530 sources in sky area of 190.0 deg2\n"
     ]
    }
   ],
   "source": [
    "from astropy import units as u\n",
    "\n",
    "\n",
    "ocat_mags = ['MAG_G', 'MAG_Z', 'GAIA_PHOT_G_MEAN_MAG', 'MAG_W1', 'MAG_W2']\n",
    "\n",
    "ocat_moc_file = Path(\"DATA\", \"legacy.moc\")\n",
    "ocat_moc = MOC.from_fits(ocat_moc_file)\n",
    "\n",
    "ocat_file = Path(\"DATA\", \"Legacy_SLIM.fits\")\n",
    "ocat = Catalogue(\n",
    "    str(ocat_file),\n",
    "    name='lgcy',\n",
    "    id_col='UOBJID',\n",
    "    coord_cols=['RA', 'DEC'],\n",
    "    poserr_cols=['RADEC_ERR'],\n",
    "    poserr_type='circle',\n",
    "    area=ocat_moc,\n",
    "    mag_cols=ocat_mags,\n",
    ")\n",
    "\n",
    "# The moc includes the whole area of the legacy survey, \n",
    "# but the data in Legacy_SLIM.fits contains only sources\n",
    "# in the xatlas area. This is corrected later on when we\n",
    "# define the match, since only the common area between \n",
    "# catalogues is taken into account.\n",
    "print(\"{} sources in sky area of {:0.01f}\".format(len(ocat), ocat.area))"
   ]
  },
  {
   "cell_type": "markdown",
   "metadata": {},
   "source": [
    "Define the Match object of the two catalogues. \n",
    "\n"
   ]
  },
  {
   "cell_type": "code",
   "execution_count": 4,
   "metadata": {},
   "outputs": [
    {
     "name": "stdout",
     "output_type": "stream",
     "text": [
      "INFO: Selecting sources in common area... [astromatch.core]\n",
      "INFO: xatlas catalogue: 1127 sources in common area. [astromatch.core]\n",
      "INFO: lgcy catalogue: 552530 sources in common area. [astromatch.core]\n"
     ]
    }
   ],
   "source": [
    "from astromatch import Match\n",
    "\n",
    "xm = Match(xcat, ocat)"
   ]
  },
  {
   "cell_type": "markdown",
   "metadata": {},
   "source": [
    "The two catalogue are matched. Here we define the columns that will be used for the construction of priors. The construction of priors also require boundaries and bin sizes to construct the corresponding N-dimensional histograms. There are also defined here. Priors are calculated internally (and can be access later on using the 'prior' property of 'xm').\n",
    "\n",
    "With the following definitions they consist of one 2-D prior from the MAG_G and MAG_Z columns in the 'ocat' Catalogue object and three 1-D priors using the columns 'MAG_W1', 'MAG_W2', 'GAIA_PHOT_G_MEAN_MAG' in the object. The prior is determined using the \"random\" method using a total of 100 random samples. The Likelihood Ratio (lr) method is used to determine the probability of sources being associated. The positional offset probability distribution is described by the Rayleigh distribution with sigma the combined positional uncertainty of the sources in each catalogue.  "
   ]
  },
  {
   "cell_type": "code",
   "execution_count": 31,
   "metadata": {},
   "outputs": [
    {
     "name": "stdout",
     "output_type": "stream",
     "text": [
      "INFO: Using LR method: [astromatch.core]\n",
      "INFO: Searching for match candidates within 7.5 arcsec... [astromatch.lr]\n",
      "INFO: Calculating priors... [astromatch.lr]\n",
      "INFO: Estimating priors using Catalogues: xatlas and lgcy... [astromatch.priors]\n",
      "INFO: Using columns: [['MAG_G', 'MAG_Z'], 'MAG_W1', 'MAG_W2', 'GAIA_PHOT_G_MEAN_MAG'] [astromatch.priors]\n",
      "INFO: Calculating likelihood ratios for match candidates... [astromatch.lr]\n",
      "INFO: Sorting and flagging match results... [astromatch.lr]\n"
     ]
    },
    {
     "name": "stderr",
     "output_type": "stream",
     "text": [
      "/home/ruizca/data/astrosoft/miniconda3/envs/astromatch/lib/python3.8/site-packages/astropy/units/quantity.py:477: RuntimeWarning: divide by zero encountered in true_divide\n",
      "  result = super().__array_ufunc__(function, method, *arrays, **kwargs)\n",
      "/home/ruizca/data/astrosoft/miniconda3/envs/astromatch/lib/python3.8/site-packages/astropy/units/quantity.py:477: RuntimeWarning: invalid value encountered in true_divide\n",
      "  result = super().__array_ufunc__(function, method, *arrays, **kwargs)\n",
      "/home/ruizca/data/astrosoft/miniconda3/envs/astromatch/lib/python3.8/site-packages/astromatch/lr.py:526: RuntimeWarning: invalid value encountered in true_divide\n",
      "  lr_table[\"p_i_\" + col] = lr_table[\"REL_\" + col] / lr_table[\"p_any_\" + col]\n"
     ]
    }
   ],
   "source": [
    "prior_mags = [['MAG_G', 'MAG_Z'], 'MAG_W1', 'MAG_W2', 'GAIA_PHOT_G_MEAN_MAG']\n",
    "magmin = [[10, 10], 10, 10, 5]\n",
    "magmax = [[30, 30], 30, 30, 25]\n",
    "magbinsize = [[0.25, 0.25], 0.5, 0.5, 0.5]\n",
    "\n",
    "match_results = xm.run(\n",
    "    method='lr',\n",
    "    radius=7.5*u.arcsec,\n",
    "    prior_method='random',\n",
    "    mags=prior_mags,\n",
    "    magmin=magmin,\n",
    "    magmax=magmax,\n",
    "    magbinsize=magbinsize,\n",
    "    random_numrepeat=100,\n",
    "    poserr_dist=\"rayleigh\",\n",
    ")"
   ]
  },
  {
   "cell_type": "markdown",
   "metadata": {},
   "source": [
    "it is possible to visualise the prior using the `plot` method:\n"
   ]
  },
  {
   "cell_type": "code",
   "execution_count": null,
   "metadata": {},
   "outputs": [],
   "source": [
    "for p in xm.priors.magnames:\n",
    "    xm.priors.plot(p, contour_levels=5)"
   ]
  },
  {
   "cell_type": "markdown",
   "metadata": {},
   "source": [
    "The prior can be saved into a fits file:"
   ]
  },
  {
   "cell_type": "code",
   "execution_count": null,
   "metadata": {},
   "outputs": [],
   "source": [
    "prior_file = Path(\"DATA\", \"prior.fits\")\n",
    "prior_hdu = xm.priors.to_fits(include_bkg_priors=True, filename=prior_file)\n",
    "\n",
    "prior_hdu.info()"
   ]
  },
  {
   "cell_type": "code",
   "execution_count": null,
   "metadata": {},
   "outputs": [],
   "source": [
    "from astromatch.priors import Prior\n",
    "\n",
    "prior_fits = Prior.from_fits(prior_file, include_bkg_priors=True)\n",
    "\n",
    "for p in prior_fits.magnames:\n",
    "    prior_fits.plot(p, contour_levels=5)"
   ]
  },
  {
   "cell_type": "code",
   "execution_count": 32,
   "metadata": {},
   "outputs": [
    {
     "name": "stderr",
     "output_type": "stream",
     "text": [
      "/home/ruizca/data/astrosoft/miniconda3/envs/astromatch/lib/python3.8/site-packages/astropy/table/column.py:984: UserWarning: Warning: converting a masked element to nan.\n",
      "  self.data[index] = value\n"
     ]
    },
    {
     "data": {
      "image/png": "[encoded data removed]",
      "text/plain": [
       "<Figure size 936x360 with 2 Axes>"
      ]
     },
     "metadata": {
      "needs_background": "light"
     },
     "output_type": "display_data"
    }
   ],
   "source": [
    "lr_stats = xm.stats(ncutoff=201, maxcutoff=4.0)\n",
    "\n",
    "fig = plt.figure(figsize=(13, 5))\n",
    "\n",
    "plt.subplot(121)\n",
    "plt.plot(lr_stats['cutoff'], lr_stats['error_rate'], lw=3, label=\"stats\")\n",
    "\n",
    "plt.xlabel('LR')\n",
    "plt.ylabel('error rate')\n",
    "\n",
    "\n",
    "plt.subplot(122)\n",
    "plt.plot(lr_stats['reliability'], lr_stats['completeness'], lw=3)\n",
    "\n",
    "plt.xlabel('purity')\n",
    "plt.ylabel('completeness')\n",
    "\n",
    "plt.tight_layout()\n",
    "plt.show()"
   ]
  },
  {
   "cell_type": "code",
   "execution_count": 35,
   "metadata": {},
   "outputs": [
    {
     "data": {
      "image/png": "[encoded data removed]",
      "text/plain": [
       "<Figure size 432x288 with 1 Axes>"
      ]
     },
     "metadata": {
      "needs_background": "light"
     },
     "output_type": "display_data"
    }
   ],
   "source": [
    "import numpy as np\n",
    "import matplotlib.pyplot as plt\n",
    "from astropy import units as u\n",
    "\n",
    "xm.set_best_matchs(cutoff=0.2)\n",
    "best_matches = xm.get_matchs(match_type='best')\n",
    "\n",
    "ocat_best = ocat.select_by_id(best_matches['SRCID_lgcy'])\n",
    "xcat_best = xcat.select_by_id(best_matches['SRCID_xatlas'])\n",
    "\n",
    "d = ocat_best.coords.separation(xcat_best.coords)\n",
    "sigma_x = np.sqrt(ocat_best.poserr.as_array()**2 + xcat_best.poserr.as_array()**2)\n",
    "dnorm = np.array(d.to(u.arcsec)/sigma_x)\n",
    "\n",
    "d0 = np.linspace(0, 4, num=100)\n",
    "f0 = d0 * np.exp(-d0**2/2)\n",
    "\n",
    "plt.hist(dnorm, bins=\"auto\", density=True)\n",
    "plt.plot(d0, f0)\n",
    "plt.show()"
   ]
  },
  {
   "cell_type": "code",
   "execution_count": 7,
   "metadata": {},
   "outputs": [
    {
     "data": {
      "image/png": "[encoded data removed]",
      "text/plain": [
       "<Figure size 432x288 with 1 Axes>"
      ]
     },
     "metadata": {
      "needs_background": "light"
     },
     "output_type": "display_data"
    }
   ],
   "source": [
    "all_matches = xm.get_matchs(match_type='primary')\n",
    "\n",
    "ocat_all = ocat.select_by_id(all_matches['SRCID_lgcy'])\n",
    "xcat_all = xcat.select_by_id(all_matches['SRCID_xatlas'])\n",
    "\n",
    "d = ocat_all.coords.separation(xcat_all.coords)\n",
    "sigma_x = np.sqrt(ocat_best.poserr.as_array()**2 + xcat_best.poserr.as_array()**2)\n",
    "dnorm = np.array(d.to(u.arcsec)/sigma_x)\n",
    "\n",
    "d0 = np.linspace(0, 4, num=100)\n",
    "f0 = d0 * np.exp(-d0**2/2)\n",
    "\n",
    "plt.hist(dnorm, bins=\"auto\", density=True)\n",
    "plt.plot(d0, f0)\n",
    "plt.show()"
   ]
  },
  {
   "cell_type": "code",
   "execution_count": null,
   "metadata": {},
   "outputs": [],
   "source": [
    "from astromatch.priorsND import Prior\n",
    "\n",
    "rp = Prior.from_table(prior_table, [\"PRIOR1\", \"PRIOR2\"])\n",
    "\n",
    "for p in rp.magnames:\n",
    "    rp.plot(p, contour_levels=5)"
   ]
  },
  {
   "cell_type": "markdown",
   "metadata": {},
   "source": [
    "the same for background density of source"
   ]
  },
  {
   "cell_type": "code",
   "execution_count": null,
   "metadata": {},
   "outputs": [],
   "source": [
    "t = xm.bkg.to_table()\n",
    "#t.writeto('DATA/bkg.fits')"
   ]
  },
  {
   "cell_type": "markdown",
   "metadata": {},
   "source": [
    "Define a ploting function for visualising thre results."
   ]
  },
  {
   "cell_type": "code",
   "execution_count": null,
   "metadata": {},
   "outputs": [],
   "source": [
    "import os\n",
    "\n",
    "import numpy as np\n",
    "import matplotlib.pyplot as plt\n",
    "from matplotlib.backends.backend_pdf import PdfPages\n",
    "from matplotlib.ticker import MultipleLocator, FormatStrFormatter\n",
    "\n",
    "    \n",
    "def plot_stats(stats):   \n",
    "    #plotfile = os.path.join('./stats-{}.pdf'.format(ext))\n",
    "          \n",
    "    fontPanel = {'family': 'serif',\n",
    "                     'color': 'black',\n",
    "                     'weight': 'bold',\n",
    "                     'size': 10,} \n",
    "\n",
    "    figall=[]\n",
    "    #pdf = PdfPages(plotfile)\n",
    "    fig, ax = plt.subplots(1, 1)\n",
    "    ax.plot(stats['cutoff'], stats['completeness'], 'r-', label=\"completeness\")            \n",
    "    ax.plot(stats['cutoff'], stats['reliability'], 'b--', label=\"purity\")            \n",
    "    \n",
    "    for axis in ['top','bottom','left','right']:\n",
    "        for a in [ax]:\n",
    "            a.spines[axis].set_linewidth(2)\n",
    "            a.tick_params(labelsize=12)\n",
    "            a.xaxis.set_tick_params(which='major', width=1.5, size=8)\n",
    "            a.yaxis.set_tick_params(which='major', width=1.5, size=8)\n",
    "            a.xaxis.set_tick_params(which='minor', width=1.5, size=5)\n",
    "            a.yaxis.set_tick_params(which='minor', width=1.5, size=5)\n",
    "         \n",
    "    xmax=3\n",
    "    m= stats['cutoff']<xmax\n",
    "    min1 = np.min(stats['completeness'][m])\n",
    "    min2 = np.min(stats['reliability'][m])\n",
    "    min1 = min(min1,min2)\n",
    "    max1 = np.max(stats['completeness'][m])\n",
    "    max2 = np.max(stats['completeness'][m])\n",
    "    max1 = max(max1,max2)\n",
    "    \n",
    "    ax.set_xlim(0, xmax)\n",
    "    ax.set_ylim(min1*0.95, max1*1.05)\n",
    "\n",
    "    ax.grid()\n",
    "    ax.legend()\n",
    "\n",
    "    plt.show()\n",
    "    #pdf.savefig( fig )\n",
    "    #pdf.close()"
   ]
  },
  {
   "cell_type": "code",
   "execution_count": null,
   "metadata": {},
   "outputs": [],
   "source": [
    "xm.set_best_matchs(cutoff=-9.)\n",
    "lr_stats = xm.stats(ncutoff=501, maxcutoff=10.0)\n",
    "#lr_stats.write(\"stats.fits\", format='fits', overwrite=True)\n",
    "\n",
    "plot_stats(stats=lr_stats)\n",
    "lr_stats"
   ]
  }
 ],
 "metadata": {
  "kernelspec": {
   "display_name": "Python 3",
   "language": "python",
   "name": "python3"
  },
  "language_info": {
   "codemirror_mode": {
    "name": "ipython",
    "version": 3
   },
   "file_extension": ".py",
   "mimetype": "text/x-python",
   "name": "python",
   "nbconvert_exporter": "python",
   "pygments_lexer": "ipython3",
   "version": "3.8.3"
  }
 },
 "nbformat": 4,
 "nbformat_minor": 2
}
