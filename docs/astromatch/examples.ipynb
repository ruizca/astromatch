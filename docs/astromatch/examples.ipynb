{
 "cells": [
  {
   "cell_type": "markdown",
   "metadata": {},
   "source": [
    "Astromatch\n",
    "==========\n",
    "\n",
    "Astromatch is a python module for statistical cross-matching of astronomical catalogues. It implements different matching methods and provides a consistent output format (as far as possible) for all of them. This allows easy comparisons between different methods.\n",
    "\n",
    "Astromatch is design as a coherent framework, well integrated with other tools in the Astropy package. When using Astromatch, you should keep in mind that it is more a library that allows you to write your own python scripts for cross-matching astronomical catalogues, than a simple stand-alone software."
   ]
  },
  {
   "cell_type": "markdown",
   "metadata": {},
   "source": [
    "Catalogue objects\n",
    "---------------------------\n",
    "\n",
    "Astromatch provides a useful data structure for defining an astronomical catalogue. The basic information needed for building a ``Catalogue`` object is the position of the sources, the positional errors, their ID labels and the area covered by the catalogue. Having a reasonable estimation of the catalogue area is crucial when using statistical cross-matching methods."
   ]
  },
  {
   "cell_type": "markdown",
   "metadata": {},
   "source": [
    "As an example, lets build an Astromatch Catalogue for X-ray sources in a sky region of 1 deg radius within the XXL-North survey. \n",
    "\n",
    "Lets firs retrieve the data we need from the Vizier database (we will use only the data from the 0.5-2 keV band):"
   ]
  },
  {
   "cell_type": "code",
   "execution_count": 1,
   "metadata": {},
   "outputs": [],
   "source": [
    "%load_ext autoreload\n",
    "%autoreload 2"
   ]
  },
  {
   "cell_type": "code",
   "execution_count": 2,
   "metadata": {},
   "outputs": [],
   "source": [
    "from astropy import units as u\n",
    "from astropy.coordinates import SkyCoord\n",
    "from astropy.table import Table\n",
    "\n",
    "\n",
    "region_center = SkyCoord(ra=35.30109, dec=-4.45962, unit='deg')\n",
    "search_radius = 1*u.deg\n",
    "\n",
    "try:\n",
    "    xcat_table = Table.read('xxl_1deg.fits')\n",
    "\n",
    "except FileNotFoundError:\n",
    "    from astroquery.vizier import Vizier\n",
    "\n",
    "    v = Vizier(\n",
    "        columns=['Xseq', 'RABdeg', 'DEBdeg', 'e_Bpos'],\n",
    "        column_filters={'e_Bpos':'>0', 'Bp1': '==1'},\n",
    "        row_limit=-1,\n",
    "    )\n",
    "    result = v.query_region(region_center, radius=search_radius, catalog='IX/52/3xlss')\n",
    "    xcat_table = result[0]\n",
    "    xcat_table.meta['description'] = ''\n",
    "    xcat_table.write('xxl_1deg.fits', format='fits', overwrite=True)"
   ]
  },
  {
   "cell_type": "markdown",
   "metadata": {},
   "source": [
    "We use the output of the Vizier query for building the corresponding Astromatch catalogue:"
   ]
  },
  {
   "cell_type": "code",
   "execution_count": 3,
   "metadata": {},
   "outputs": [
    {
     "data": {
      "text/plain": [
       "SRCID_xxl    RA      DEC    e_Bpos\n",
       "            deg      deg    arcsec\n",
       "--------- -------- -------- ------\n",
       "   225328 34.31101  -4.6003    0.8\n",
       "   225285  34.3179 -4.50244    1.8\n",
       "   214851  34.3196 -4.28354    1.8\n",
       "   225342  34.3372 -4.63358    1.7\n",
       "   215403 34.33934 -4.18971    1.8\n",
       "   225338 34.34105 -4.61523    1.7\n",
       "   214878 34.34372 -4.37113    0.8\n",
       "   225341 34.34508 -4.62884    1.7\n",
       "   225368 34.34713 -4.69338    1.3\n",
       "   214858 34.34764 -4.31242    1.0\n",
       "      ...      ...      ...    ...\n",
       "   217268 36.26386 -4.19097    1.8\n",
       "   217929 36.26876 -4.61878    1.5\n",
       "   217307 36.27068   -4.308    1.9\n",
       "   217889 36.27654  -4.4801    0.8\n",
       "   217928 36.27669  -4.6049    1.0\n",
       "   217919 36.28076 -4.56787    1.3\n",
       "   217296 36.28341 -4.27467    1.5\n",
       "   217927 36.29433 -4.59714    1.0\n",
       "   217894   36.294 -4.49086    1.7\n",
       "   217882 36.29906 -4.46167    1.7\n",
       "Length = 1238 rows"
      ]
     },
     "execution_count": 3,
     "metadata": {},
     "output_type": "execute_result"
    }
   ],
   "source": [
    "import numpy as np\n",
    "from astromatch import Catalogue\n",
    "\n",
    "xcat = Catalogue(\n",
    "    xcat_table,\n",
    "    name='xxl',\n",
    "    id_col='Xseq',\n",
    "    coord_cols=['RABdeg', 'DEBdeg'],\n",
    "    poserr_cols=['e_Bpos'],\n",
    "    poserr_type='circle',\n",
    "    area=np.pi * search_radius**2,\n",
    ")\n",
    "xcat"
   ]
  },
  {
   "cell_type": "markdown",
   "metadata": {},
   "source": [
    "Astropy units for coordinates and positional errors of the Catalogue are always defined. If the initial data have no units defined for those columns, Astromatch asigns by default degrees to the coordinates and arcsec for the positional errors. By default it assumes that coordinates are in the ICRS reference frame (equatorial system). Other frames can be used by setting the `frame` parameter while defining the Catalogue (see the Astropy SkyCoord documentation for all suported frames). Internally all coordinates frames are transformed into ICRS."
   ]
  },
  {
   "cell_type": "markdown",
   "metadata": {},
   "source": [
    "Instead of passing an Astropy Table for the definition of the catalogue, a path to a file (in a tabular format suported by Astropy) can be used:"
   ]
  },
  {
   "cell_type": "code",
   "execution_count": 4,
   "metadata": {},
   "outputs": [],
   "source": [
    "xcat = Catalogue(\n",
    "    'xxl_1deg.fits',\n",
    "    name='xxl',\n",
    "    id_col='Xseq',\n",
    "    coord_cols=['RABdeg', 'DEBdeg'],\n",
    "    poserr_cols=['e_Bpos'],\n",
    "    poserr_type='circle',\n",
    "    area=np.pi * search_radius**2,\n",
    ")"
   ]
  },
  {
   "cell_type": "markdown",
   "metadata": {},
   "source": [
    "The area of the Catalogue can be set using a MOC object (or the path to a file containing the MOC). The ``mocpy`` package have multiple tools for defining MOCs. For example, for the circular sky region we queried, we can define the following MOC:"
   ]
  },
  {
   "cell_type": "code",
   "execution_count": 5,
   "metadata": {},
   "outputs": [],
   "source": [
    "from mocpy import MOC\n",
    "\n",
    "moc_xxl = MOC.from_elliptical_cone(\n",
    "    lon=region_center.ra,\n",
    "    lat=region_center.dec,\n",
    "    a=search_radius,\n",
    "    b=search_radius,\n",
    "    pa=0*u.deg,\n",
    "    max_depth=14\n",
    ")"
   ]
  },
  {
   "cell_type": "markdown",
   "metadata": {},
   "source": [
    "Now we can use the MOC for the Catalogue definition:"
   ]
  },
  {
   "cell_type": "code",
   "execution_count": 6,
   "metadata": {},
   "outputs": [
    {
     "data": {
      "text/latex": [
       "$3.1595047 \\; \\mathrm{deg^{2}}$"
      ],
      "text/plain": [
       "<Quantity 3.15950474 deg2>"
      ]
     },
     "execution_count": 6,
     "metadata": {},
     "output_type": "execute_result"
    }
   ],
   "source": [
    "xcat = Catalogue(\n",
    "    'xxl_1deg.fits',\n",
    "    name='xxl',\n",
    "    id_col='Xseq',\n",
    "    coord_cols=['RABdeg', 'DEBdeg'],\n",
    "    poserr_cols=['e_Bpos'],\n",
    "    poserr_type='circle',\n",
    "    area=moc_xxl,\n",
    ")\n",
    "xcat.area"
   ]
  },
  {
   "cell_type": "markdown",
   "metadata": {},
   "source": [
    "We strongly recomend using MOCs for defining the areas covered by Catalogues. When cross-matching catalogues with partial common coverage, Astromatch can use the corresponding MOCs to cross-match only the sources in the common area."
   ]
  },
  {
   "cell_type": "markdown",
   "metadata": {},
   "source": [
    "Catalogues can be access by index and sliced as Python lists:"
   ]
  },
  {
   "cell_type": "code",
   "execution_count": 7,
   "metadata": {},
   "outputs": [
    {
     "data": {
      "text/plain": [
       "SRCID_xxl    RA      DEC    e_Bpos\n",
       "            deg      deg    arcsec\n",
       "--------- -------- -------- ------\n",
       "   225336 34.35209 -4.61097    2.0\n",
       "   225330 34.38474  -4.5968    2.0\n",
       "   225412 34.40112 -4.79919    1.9"
      ]
     },
     "execution_count": 7,
     "metadata": {},
     "output_type": "execute_result"
    }
   ],
   "source": [
    "xcat[10]\n",
    "xcat[10:20]\n",
    "xcat[[10, 20, 30]]"
   ]
  },
  {
   "cell_type": "markdown",
   "metadata": {},
   "source": [
    "It is also possible to select sources by their ids:"
   ]
  },
  {
   "cell_type": "code",
   "execution_count": 8,
   "metadata": {},
   "outputs": [
    {
     "data": {
      "text/plain": [
       "SRCID_xxl    RA      DEC    e_Bpos\n",
       "            deg      deg    arcsec\n",
       "--------- -------- -------- ------\n",
       "   225336 34.35209 -4.61097    2.0\n",
       "   225330 34.38474  -4.5968    2.0\n",
       "   225412 34.40112 -4.79919    1.9"
      ]
     },
     "execution_count": 8,
     "metadata": {},
     "output_type": "execute_result"
    }
   ],
   "source": [
    "list_of_ids = ['225336', '225330', '225412']\n",
    "xcat_new = xcat.select_by_id(list_of_ids)\n",
    "xcat_new"
   ]
  },
  {
   "cell_type": "markdown",
   "metadata": {},
   "source": [
    "Sources can also be removed by id from a Catalogue:"
   ]
  },
  {
   "cell_type": "code",
   "execution_count": 9,
   "metadata": {},
   "outputs": [
    {
     "data": {
      "text/plain": [
       "SRCID_xxl    RA      DEC    e_Bpos\n",
       "            deg      deg    arcsec\n",
       "--------- -------- -------- ------\n",
       "   225328 34.31101  -4.6003    0.8\n",
       "   225285  34.3179 -4.50244    1.8\n",
       "   214851  34.3196 -4.28354    1.8\n",
       "   225342  34.3372 -4.63358    1.7\n",
       "   215403 34.33934 -4.18971    1.8\n",
       "   225338 34.34105 -4.61523    1.7\n",
       "   214878 34.34372 -4.37113    0.8\n",
       "   225341 34.34508 -4.62884    1.7\n",
       "   225368 34.34713 -4.69338    1.3\n",
       "   214858 34.34764 -4.31242    1.0\n",
       "      ...      ...      ...    ...\n",
       "   217268 36.26386 -4.19097    1.8\n",
       "   217929 36.26876 -4.61878    1.5\n",
       "   217307 36.27068   -4.308    1.9\n",
       "   217889 36.27654  -4.4801    0.8\n",
       "   217928 36.27669  -4.6049    1.0\n",
       "   217919 36.28076 -4.56787    1.3\n",
       "   217296 36.28341 -4.27467    1.5\n",
       "   217927 36.29433 -4.59714    1.0\n",
       "   217894   36.294 -4.49086    1.7\n",
       "   217882 36.29906 -4.46167    1.7\n",
       "Length = 1235 rows"
      ]
     },
     "execution_count": 9,
     "metadata": {},
     "output_type": "execute_result"
    }
   ],
   "source": [
    "list_of_ids = ['225336', '225330', '225412']\n",
    "xcat_new = xcat.remove_by_id(list_of_ids)\n",
    "xcat_new"
   ]
  },
  {
   "cell_type": "markdown",
   "metadata": {},
   "source": [
    "Two Catalogue objects can be joined in a single Catalogue:"
   ]
  },
  {
   "cell_type": "code",
   "execution_count": 10,
   "metadata": {},
   "outputs": [
    {
     "data": {
      "text/plain": [
       "SRCID_xxl    RA      DEC    e_Bpos\n",
       "            deg      deg    arcsec\n",
       "--------- -------- -------- ------\n",
       "   214851  34.3196 -4.28354    1.8\n",
       "   214857 34.36319 -4.31538    1.5\n",
       "   225285  34.3179 -4.50244    1.8\n",
       "   225289 34.35908 -4.51431    1.8\n",
       "   225336 34.35209 -4.61097    2.0\n",
       "   225342  34.3372 -4.63358    1.7\n",
       "   226800 34.35493  -4.1663    1.6"
      ]
     },
     "execution_count": 10,
     "metadata": {},
     "output_type": "execute_result"
    }
   ],
   "source": [
    "cat1 = xcat[1:4]\n",
    "cat2 = xcat[10:14]\n",
    "\n",
    "cat1.join(cat2)"
   ]
  },
  {
   "cell_type": "markdown",
   "metadata": {},
   "source": [
    "The different atributes of the Catalogue can be access independently:"
   ]
  },
  {
   "cell_type": "code",
   "execution_count": 11,
   "metadata": {},
   "outputs": [
    {
     "data": {
      "text/plain": [
       "<SkyCoordErr (circle): (e_Bpos) in arcsec\n",
       "    [(0.8,) (1.8,) (1.8,) ... (1. ,) (1.7,) (1.7,)]>"
      ]
     },
     "execution_count": 11,
     "metadata": {},
     "output_type": "execute_result"
    }
   ],
   "source": [
    "# IDs\n",
    "xcat.ids\n",
    "\n",
    "# Area\n",
    "xcat.area\n",
    "\n",
    "# Coordinates\n",
    "xcat.coords\n",
    "\n",
    "# Positional errors\n",
    "xcat.poserr"
   ]
  },
  {
   "cell_type": "markdown",
   "metadata": {},
   "source": [
    "The positional errors are defined as SkyCoordErr objects. This class allows to manipulate the errors in several ways. For example, adding a systematic error:"
   ]
  },
  {
   "cell_type": "code",
   "execution_count": 12,
   "metadata": {},
   "outputs": [
    {
     "name": "stdout",
     "output_type": "stream",
     "text": [
      "SRCID_xxl    RA      DEC      e_Bpos \n",
      "            deg      deg      arcsec \n",
      "--------- -------- -------- ---------\n",
      "   225328 34.31101  -4.6003       1.7\n",
      "   225285  34.3179 -4.50244 2.3430748\n",
      "   214851  34.3196 -4.28354 2.3430748\n",
      "   225342  34.3372 -4.63358 2.2671568\n",
      "   215403 34.33934 -4.18971 2.3430748\n",
      "   225338 34.34105 -4.61523 2.2671568\n",
      "   214878 34.34372 -4.37113       1.7\n",
      "   225341 34.34508 -4.62884 2.2671568\n",
      "   225368 34.34713 -4.69338 1.9849433\n",
      "   214858 34.34764 -4.31242 1.8027756\n",
      "      ...      ...      ...       ...\n",
      "   217268 36.26386 -4.19097 2.3430748\n",
      "   217929 36.26876 -4.61878 2.1213202\n",
      "   217307 36.27068   -4.308 2.4207437\n",
      "   217889 36.27654  -4.4801       1.7\n",
      "   217928 36.27669  -4.6049 1.8027756\n",
      "   217919 36.28076 -4.56787 1.9849433\n",
      "   217296 36.28341 -4.27467 2.1213202\n",
      "   217927 36.29433 -4.59714 1.8027756\n",
      "   217894   36.294 -4.49086 2.2671568\n",
      "   217882 36.29906 -4.46167 2.2671568\n",
      "Length = 1238 rows\n"
     ]
    }
   ],
   "source": [
    "# Save the original positional errors\n",
    "old_poserr = xcat.poserr[:]\n",
    "\n",
    "# Add systematic error to the catalogue\n",
    "xcat.poserr.add_syserr(1.5*u.arcsec)\n",
    "print(xcat)\n",
    "\n",
    "# Recover original errors\n",
    "xcat.poserr = old_poserr"
   ]
  },
  {
   "cell_type": "markdown",
   "metadata": {},
   "source": [
    "Cross-matching: Match\n",
    "----------------------------------\n",
    "\n",
    "The ``Match`` class is the basic tool for cross-matching Catalogues. It can use several matching algorithms, and implements different methods to calculate the statistical properties (completeness, error rate, etc) of the results.\n",
    "\n",
    "As an example, we will cross-match the catalogue of X-ray sources we defined above with a catalogue of optical sources from the SDSS. First, we download the data we need, if it is not already available. We will use the optical magnitudes during the cross-match, so we need to download that too:"
   ]
  },
  {
   "cell_type": "code",
   "execution_count": 13,
   "metadata": {},
   "outputs": [],
   "source": [
    "sdss_mags = ['umag', 'gmag', 'rmag', 'imag', 'zmag']\n",
    "\n",
    "try:\n",
    "    ocat_table = Table.read('sdss_1deg.fits')\n",
    "\n",
    "except FileNotFoundError:\n",
    "    from astroquery.vizier import Vizier\n",
    "\n",
    "    sdss_cols = ['objID', 'RA_ICRS', 'DE_ICRS', 'e_RA_ICRS', 'e_DE_ICRS'] + sdss_mags\n",
    "\n",
    "    v = Vizier(\n",
    "        columns=sdss_cols,\n",
    "        column_filters={'mode': '=1', 'q_mode': '=+', 'e_RA_ICRS': '>0', 'e_DE_ICRS': '>0'},\n",
    "        row_limit=-1,\n",
    "    )\n",
    "    result = v.query_region(region_center, radius=1*u.deg, catalog='V/147/sdss12')\n",
    "    ocat_table = result[0]\n",
    "    ocat_table.meta['description'] = ''\n",
    "    ocat_table.write('sdss_1deg.fits', format='fits', overwrite=True)"
   ]
  },
  {
   "cell_type": "markdown",
   "metadata": {},
   "source": [
    "Now we can define a new Catalogue. Since the optical sources are from the exact same sky region as the X-ray sources, we can use the MOC we defined above to set the area of the Catalogue. Note also that here we are using a different type for the positional errors:"
   ]
  },
  {
   "cell_type": "code",
   "execution_count": 14,
   "metadata": {},
   "outputs": [],
   "source": [
    "ocat = Catalogue(\n",
    "    ocat_table,\n",
    "    name='sdss',\n",
    "    id_col='objID',\n",
    "    coord_cols=['RA_ICRS', 'DE_ICRS'],\n",
    "    poserr_cols=['e_RA_ICRS', 'e_DE_ICRS'],\n",
    "    poserr_type='rcd_dec_ellipse',\n",
    "    area=moc_xxl,\n",
    "    mag_cols=sdss_mags,\n",
    ")"
   ]
  },
  {
   "cell_type": "markdown",
   "metadata": {},
   "source": [
    "We define a match between `xcat` and `ocat`:"
   ]
  },
  {
   "cell_type": "code",
   "execution_count": 15,
   "metadata": {},
   "outputs": [
    {
     "name": "stdout",
     "output_type": "stream",
     "text": [
      "INFO: Selecting sources in common area... [astromatch.core]\n",
      "INFO: xxl catalogue: 1238 sources in common area. [astromatch.core]\n",
      "INFO: sdss catalogue: 43559 sources in common area. [astromatch.core]\n"
     ]
    }
   ],
   "source": [
    "from astromatch import Match\n",
    "\n",
    "xm = Match(xcat, ocat)"
   ]
  },
  {
   "cell_type": "markdown",
   "metadata": {},
   "source": [
    "We calculate the cross-match using the likelihood ratio method, with a search radius of 10 arcsec:"
   ]
  },
  {
   "cell_type": "code",
   "execution_count": 16,
   "metadata": {},
   "outputs": [
    {
     "name": "stdout",
     "output_type": "stream",
     "text": [
      "INFO: Using LR method: [astromatch.core]\n"
     ]
    },
    {
     "name": "stderr",
     "output_type": "stream",
     "text": [
      "WARNING: Converting non-circular to circular errors! New errors will preserve the area. [astromatch.catalogues]\n"
     ]
    },
    {
     "name": "stdout",
     "output_type": "stream",
     "text": [
      "INFO: Searching for match candidates within 10.0 arcsec... [astromatch.lr]\n",
      "INFO: Calculating priors... [astromatch.lr]\n",
      "INFO: Estimating priors using Catalogues: xxl and sdss... [astromatch.priors]\n",
      "INFO: Using columns: ['umag', 'gmag', 'rmag', 'imag', 'zmag'] [astromatch.priors]\n",
      "INFO: Using columns: ['umag', 'gmag', 'rmag', 'imag', 'zmag'] [astromatch.priors]\n",
      "INFO: Calculating likelihood ratios for match candidates... [astromatch.lr]\n",
      "INFO: Sorting and flagging match results... [astromatch.lr]\n"
     ]
    }
   ],
   "source": [
    "match_results_lr = xm.run(method='lr', radius=10.0*u.arcsec)"
   ]
  },
  {
   "cell_type": "markdown",
   "metadata": {},
   "source": [
    "By default all cross-matching methods included in astromatch try to estimate magnitude priors using the information provided within the catalogues."
   ]
  },
  {
   "cell_type": "code",
   "execution_count": 17,
   "metadata": {},
   "outputs": [
    {
     "data": {
      "image/png": "[encoded data removed]",
      "text/plain": [
       "<Figure size 432x288 with 1 Axes>"
      ]
     },
     "metadata": {
      "needs_background": "light"
     },
     "output_type": "display_data"
    },
    {
     "name": "stdout",
     "output_type": "stream",
     "text": [
      "Overal identification rate for PRIOR0 (umag band): 0.534685\n"
     ]
    },
    {
     "data": {
      "image/png": "[encoded data removed]",
      "text/plain": [
       "<Figure size 432x288 with 1 Axes>"
      ]
     },
     "metadata": {
      "needs_background": "light"
     },
     "output_type": "display_data"
    },
    {
     "name": "stdout",
     "output_type": "stream",
     "text": [
      "Overal identification rate for PRIOR1 (gmag band): 0.535887\n"
     ]
    },
    {
     "data": {
      "image/png": "[encoded data removed]",
      "text/plain": [
       "<Figure size 432x288 with 1 Axes>"
      ]
     },
     "metadata": {
      "needs_background": "light"
     },
     "output_type": "display_data"
    },
    {
     "name": "stdout",
     "output_type": "stream",
     "text": [
      "Overal identification rate for PRIOR2 (rmag band): 0.534773\n"
     ]
    },
    {
     "data": {
      "image/png": "[encoded data removed]",
      "text/plain": [
       "<Figure size 432x288 with 1 Axes>"
      ]
     },
     "metadata": {
      "needs_background": "light"
     },
     "output_type": "display_data"
    },
    {
     "name": "stdout",
     "output_type": "stream",
     "text": [
      "Overal identification rate for PRIOR3 (imag band): 0.535103\n"
     ]
    },
    {
     "data": {
      "image/png": "[encoded data removed]",
      "text/plain": [
       "<Figure size 432x288 with 1 Axes>"
      ]
     },
     "metadata": {
      "needs_background": "light"
     },
     "output_type": "display_data"
    },
    {
     "name": "stdout",
     "output_type": "stream",
     "text": [
      "Overal identification rate for PRIOR4 (zmag band): 0.534834\n"
     ]
    }
   ],
   "source": [
    "for p in xm.priors.magnames:\n",
    "    xm.priors.plot(p)\n",
    "    print(\n",
    "        \"Overal identification rate for {} ({} band): {:02f}\".format(\n",
    "            p, xm.priors.prior_dict[p][\"name\"][0], xm.priors.qcap(p)\n",
    "        )\n",
    "    )"
   ]
  },
  {
   "cell_type": "markdown",
   "metadata": {},
   "source": [
    "Priors can be stored into files for later use:"
   ]
  },
  {
   "cell_type": "code",
   "execution_count": 18,
   "metadata": {},
   "outputs": [],
   "source": [
    "prior_fits = xm.priors.to_fits(include_bkg_priors=True, filename=\"lrpriors.fits\")\n",
    "#prior_table.write(, format=\"fits\", overwrite=True)"
   ]
  },
  {
   "cell_type": "markdown",
   "metadata": {},
   "source": [
    "Full output of the LR algorithm:"
   ]
  },
  {
   "cell_type": "code",
   "execution_count": 19,
   "metadata": {},
   "outputs": [
    {
     "data": {
      "text/html": [
       "<i>Table length=1073</i>\n",
       "<table id=\"table140296804436336\" class=\"table-striped table-bordered table-condensed\">\n",
       "<thead><tr><th>SRCID_xxl</th><th>SRCID_sdss</th><th>Separation_xxl_sdss</th><th>ncat</th><th>PEF</th><th>LR_PRIOR0</th><th>LR_PRIOR1</th><th>LR_PRIOR2</th><th>LR_PRIOR3</th><th>LR_PRIOR4</th><th>REL_PRIOR0</th><th>p_any_PRIOR0</th><th>p_i_PRIOR0</th><th>REL_PRIOR1</th><th>p_any_PRIOR1</th><th>p_i_PRIOR1</th><th>REL_PRIOR2</th><th>p_any_PRIOR2</th><th>p_i_PRIOR2</th><th>REL_PRIOR3</th><th>p_any_PRIOR3</th><th>p_i_PRIOR3</th><th>REL_PRIOR4</th><th>p_any_PRIOR4</th><th>p_i_PRIOR4</th><th>LR_BEST</th><th>REL_BEST</th><th>LR_BEST_MAG</th><th>prob_has_match</th><th>prob_this_match</th></tr></thead>\n",
       "<thead><tr><th></th><th></th><th>arcsec</th><th></th><th>1 / arcsec2</th><th></th><th></th><th></th><th></th><th></th><th></th><th></th><th></th><th></th><th></th><th></th><th></th><th></th><th></th><th></th><th></th><th></th><th></th><th></th><th></th><th></th><th></th><th></th><th></th><th></th></tr></thead>\n",
       "<thead><tr><th>str11</th><th>str21</th><th>float64</th><th>int64</th><th>float64</th><th>float64</th><th>float64</th><th>float64</th><th>float64</th><th>float64</th><th>float64</th><th>float64</th><th>float64</th><th>float64</th><th>float64</th><th>float64</th><th>float64</th><th>float64</th><th>float64</th><th>float64</th><th>float64</th><th>float64</th><th>float64</th><th>float64</th><th>float64</th><th>float64</th><th>float64</th><th>bytes6</th><th>float64</th><th>float64</th></tr></thead>\n",
       "<tr><td>208384</td><td>1237679323935408452</td><td>3.509611010899394</td><td>2</td><td>0.004619385231110828</td><td>0.7211186877739965</td><td>0.8692087533817221</td><td>1.4711891818546874</td><td>2.0033599077621305</td><td>2.205601694147919</td><td>0.6078037460764179</td><td>0.6078037460764179</td><td>1.0</td><td>0.6519124599374374</td><td>0.6519124599374374</td><td>1.0</td><td>0.7597485914186639</td><td>0.7597485914186639</td><td>1.0</td><td>0.8116495928053381</td><td>0.8116495928053381</td><td>1.0</td><td>0.8258306384351617</td><td>0.8258306384351617</td><td>1.0</td><td>2.205601694147919</td><td>0.8258306384351617</td><td>PRIOR4</td><td>0.8258306384351617</td><td>1.0</td></tr>\n",
       "<tr><td>208385</td><td>1237679323935408430</td><td>8.155210562432602</td><td>2</td><td>6.272762025102116e-16</td><td>6.683918061078352e-14</td><td>9.676154985886561e-14</td><td>2.8803584334312223e-13</td><td>3.77391331851958e-13</td><td>3.925090316501589e-13</td><td>6.696859332287411e-16</td><td>0.9953378431698584</td><td>6.72822738353832e-16</td><td>1.088092631208826e-15</td><td>0.9947810114925495</td><td>1.0938011669284615e-15</td><td>5.080790576220523e-15</td><td>0.991793663503879</td><td>5.122830245023694e-15</td><td>6.360310520141771e-15</td><td>0.9921649212694598</td><td>6.410537586839748e-15</td><td>7.26317502285096e-15</td><td>0.9913923477996943</td><td>7.326236720477944e-15</td><td>6.683918061078352e-14</td><td>6.696859332287411e-16</td><td>PRIOR0</td><td>0.9953378431698584</td><td>6.72822738353832e-16</td></tr>\n",
       "<tr><td>208385</td><td>1237679323935408431</td><td>0.8754558926456739</td><td>2</td><td>0.10841811184318062</td><td>99.3414413029033</td><td>88.46356418584686</td><td>56.22591987316677</td><td>58.870465414329246</td><td>53.575805149793396</td><td>0.9953378425541284</td><td>0.9953378431698584</td><td>0.999999999381386</td><td>0.9947810102410182</td><td>0.9947810114925495</td><td>0.9999999987419027</td><td>0.9917936619110612</td><td>0.991793663503879</td><td>0.9999999983940029</td><td>0.9921649198007617</td><td>0.9921649212694598</td><td>0.9999999985197037</td><td>0.9913923462019573</td><td>0.9913923477996943</td><td>0.9999999983883908</td><td>99.3414413029033</td><td>0.9953378425541284</td><td>PRIOR0</td><td>0.9953378431698584</td><td>0.999999999381386</td></tr>\n",
       "<tr><td>208385</td><td>1237679323935408432</td><td>6.406524871937158</td><td>2</td><td>2.0337872155800483e-10</td><td>6.145394733643782e-08</td><td>1.1129567144861369e-07</td><td>9.029837859192491e-08</td><td>8.714535751451046e-08</td><td>8.634287276322604e-08</td><td>6.157293326536162e-10</td><td>0.9953378431698584</td><td>6.186134053666636e-10</td><td>1.2515301807929805e-09</td><td>0.9947810114925495</td><td>1.2580961702467659e-09</td><td>1.5928127057829942e-09</td><td>0.991793663503879</td><td>1.6059920166819704e-09</td><td>1.4686917462070503e-09</td><td>0.9921649212694598</td><td>1.4802899343869987e-09</td><td>1.5977298515108146e-09</td><td>0.9913923477996943</td><td>1.6116019606736238e-09</td><td>6.145394733643782e-08</td><td>6.157293326536162e-10</td><td>PRIOR0</td><td>0.9953378431698584</td><td>6.186134053666636e-10</td></tr>\n",
       "<tr><td>208388</td><td>1237679323935408818</td><td>9.863831019638171</td><td>2</td><td>3.408446236748559e-11</td><td>3.4909694054329705e-09</td><td>7.1886646817921216e-09</td><td>1.1183439373195099e-08</td><td>1.4466000252825208e-08</td><td>1.561014953729295e-08</td><td>7.502382809500321e-09</td><td>7.502382809500321e-09</td><td>1.0</td><td>1.548905536747556e-08</td><td>1.548905536747556e-08</td><td>1.0</td><td>2.4038691031834752e-08</td><td>2.4038691031834752e-08</td><td>1.0</td><td>3.111655351424073e-08</td><td>3.111655351424073e-08</td><td>1.0</td><td>3.3558241374590047e-08</td><td>3.3558241374590047e-08</td><td>1.0</td><td>1.561014953729295e-08</td><td>3.3558241374590047e-08</td><td>PRIOR4</td><td>3.3558241374590047e-08</td><td>1.0</td></tr>\n",
       "<tr><td>208389</td><td>1237679323935408611</td><td>3.8288362182024844</td><td>2</td><td>0.0001085887897345933</td><td>0.06539605480212256</td><td>0.07442965644764228</td><td>0.05387263257099775</td><td>0.055419444971555626</td><td>0.06794762124164863</td><td>0.12322352257740557</td><td>0.12322352257843154</td><td>0.9999999999916739</td><td>0.13820580679393982</td><td>0.13820580679730704</td><td>0.9999999999756362</td><td>0.10378098554047016</td><td>0.10378098554379966</td><td>0.999999999967918</td><td>0.10651098979529217</td><td>0.10651098979844087</td><td>0.9999999999704378</td><td>0.12745432366159754</td><td>0.12745432366467646</td><td>0.9999999999758429</td><td>0.07442965644764228</td><td>0.13820580679393982</td><td>PRIOR1</td><td>0.13820580679730704</td><td>0.9999999999756362</td></tr>\n",
       "<tr><td>208389</td><td>1237679323935408620</td><td>7.964810803039035</td><td>2</td><td>3.728805296268796e-15</td><td>5.444918149755458e-13</td><td>1.8133983216077406e-12</td><td>1.7283391441581357e-12</td><td>1.6383232124638073e-12</td><td>1.6414220970632882e-12</td><td>1.0259670810244966e-12</td><td>0.12322352257843154</td><td>8.326065182655937e-12</td><td>3.3672354547662715e-12</td><td>0.13820580679730704</td><td>2.4363921696174945e-11</td><td>3.329496465436644e-12</td><td>0.10378098554379966</td><td>3.208195073491054e-11</td><td>3.1487039802308696e-12</td><td>0.10651098979844087</td><td>2.956224504334633e-11</td><td>3.078935500631905e-12</td><td>0.12745432366467646</td><td>2.4157167933607118e-11</td><td>1.8133983216077406e-12</td><td>3.3672354547662715e-12</td><td>PRIOR1</td><td>0.13820580679730704</td><td>2.4363921696174945e-11</td></tr>\n",
       "<tr><td>208390</td><td>1237679323935408628</td><td>1.9930080259933138</td><td>2</td><td>0.02215064302411411</td><td>6.512018569077813</td><td>2.751055004000564</td><td>6.526002738742629</td><td>9.398063767625553</td><td>10.56075642519773</td><td>0.9333105163075235</td><td>0.9333105173623251</td><td>0.9999999988698278</td><td>0.8556490372400724</td><td>0.8556490389423087</td><td>0.9999999980105905</td><td>0.9334556751843658</td><td>0.93345567708456</td><td>0.9999999979643445</td><td>0.9528643333615431</td><td>0.952864333732136</td><td>0.9999999996110749</td><td>0.9578116117052701</td><td>0.9578116124360897</td><td>0.9999999992369902</td><td>10.56075642519773</td><td>0.9578116117052701</td><td>PRIOR4</td><td>0.9578116124360897</td><td>0.9999999992369902</td></tr>\n",
       "<tr><td>208390</td><td>1237679323935408629</td><td>6.841110673091843</td><td>2</td><td>2.0401606442224984e-11</td><td>7.359702126131614e-09</td><td>5.47297513740255e-09</td><td>1.3284693309453474e-08</td><td>3.655143373997887e-09</td><td>8.057960152445822e-09</td><td>1.0548015670327241e-09</td><td>0.9333105173623251</td><td>1.1301721639371975e-09</td><td>1.7022363785338494e-09</td><td>0.8556490389423087</td><td>1.9894095605343406e-09</td><td>1.900194170801462e-09</td><td>0.93345567708456</td><td>2.035655486863922e-09</td><td>3.705929051474516e-10</td><td>0.952864333732136</td><td>3.889251512814317e-10</td><td>7.308196013550678e-10</td><td>0.9578116124360897</td><td>7.63009752508959e-10</td><td>8.057960152445822e-09</td><td>7.308196013550678e-10</td><td>PRIOR4</td><td>0.9578116124360897</td><td>7.63009752508959e-10</td></tr>\n",
       "<tr><td>...</td><td>...</td><td>...</td><td>...</td><td>...</td><td>...</td><td>...</td><td>...</td><td>...</td><td>...</td><td>...</td><td>...</td><td>...</td><td>...</td><td>...</td><td>...</td><td>...</td><td>...</td><td>...</td><td>...</td><td>...</td><td>...</td><td>...</td><td>...</td><td>...</td><td>...</td><td>...</td><td>...</td><td>...</td><td>...</td></tr>\n",
       "<tr><td>226736</td><td>1237679254134653533</td><td>1.0187393486991054</td><td>2</td><td>0.05602972893656763</td><td>22.329176807221053</td><td>6.338191427400341</td><td>16.583938427382474</td><td>23.361061445284708</td><td>24.617939880837053</td><td>0.9795865258698634</td><td>0.9795865264966477</td><td>0.9999999993601543</td><td>0.9317712733208168</td><td>0.9317712754858148</td><td>0.9999999976764705</td><td>0.9727126439510377</td><td>0.9727126446668473</td><td>0.99999999926411</td><td>0.9804877840543977</td><td>0.9804877845842109</td><td>0.9999999994596432</td><td>0.9814550119790317</td><td>0.9814550124651964</td><td>0.999999999504649</td><td>24.617939880837053</td><td>0.9814550119790317</td><td>PRIOR4</td><td>0.9814550124651964</td><td>0.999999999504649</td></tr>\n",
       "<tr><td>226737</td><td>1237679254134653363</td><td>9.379439075877661</td><td>2</td><td>6.384317563109692e-08</td><td>3.164331167726962e-05</td><td>5.1046075111399846e-05</td><td>3.577873656381576e-05</td><td>2.7531011585038306e-05</td><td>3.045248969019882e-05</td><td>1.8081404775816042e-06</td><td>0.973411302762806</td><td>1.8575297743611666e-06</td><td>4.065951015800783e-06</td><td>0.963032245250556</td><td>4.222029984824576e-06</td><td>2.5291891163370897e-06</td><td>0.9671132569163242</td><td>2.6151943407347153e-06</td><td>1.396749859725756e-06</td><td>0.976414046728409</td><td>1.430489313837436e-06</td><td>2.2774342937235205e-06</td><td>0.9652118842433649</td><td>2.3595174602608775e-06</td><td>2.7531011585038306e-05</td><td>1.396749859725756e-06</td><td>PRIOR3</td><td>0.976414046728409</td><td>1.430489313837436e-06</td></tr>\n",
       "<tr><td>226737</td><td>1237679254134653369</td><td>0.2226224247674486</td><td>2</td><td>0.048573839090382</td><td>17.035125539109394</td><td>12.090359324025751</td><td>13.68106470642434</td><td>19.24584261896074</td><td>12.906205760245042</td><td>0.9734094946223284</td><td>0.973411302762806</td><td>0.9999981424702257</td><td>0.9630281792995402</td><td>0.963032245250556</td><td>0.9999957779700153</td><td>0.9671107277272079</td><td>0.9671132569163242</td><td>0.9999973848056593</td><td>0.9764126499785493</td><td>0.976414046728409</td><td>0.9999985695106861</td><td>0.9652096068090712</td><td>0.9652118842433649</td><td>0.9999976404825398</td><td>19.24584261896074</td><td>0.9764126499785493</td><td>PRIOR3</td><td>0.976414046728409</td><td>0.9999985695106861</td></tr>\n",
       "<tr><td>226738</td><td>1237679254134652976</td><td>1.7228066823565693</td><td>2</td><td>0.03103560503960579</td><td>10.811473081464325</td><td>10.972601849842707</td><td>11.39278968123465</td><td>13.638934694623627</td><td>13.079998445034615</td><td>0.9587369420549818</td><td>0.9587369420549818</td><td>1.0</td><td>0.9594190684337327</td><td>0.9594190684337327</td><td>1.0</td><td>0.9607669096387347</td><td>0.9607669096387347</td><td>1.0</td><td>0.9670375227969654</td><td>0.9670375227969654</td><td>1.0</td><td>0.9656581586852657</td><td>0.9656581586852657</td><td>1.0</td><td>13.638934694623627</td><td>0.9670375227969654</td><td>PRIOR3</td><td>0.9670375227969654</td><td>1.0</td></tr>\n",
       "<tr><td>226754</td><td>1237679254134784231</td><td>7.03533235037819</td><td>2</td><td>3.944358973930431e-06</td><td>0.004260355815460065</td><td>0.004273470324180595</td><td>0.002129080247228599</td><td>0.0021128568358193336</td><td>0.0016853218227294133</td><td>0.00022913585332441877</td><td>0.9749738526879201</td><td>0.00023501743425499122</td><td>0.0003399483513644574</td><td>0.9630805235132697</td><td>0.0003529801953883802</td><td>0.0002878533160706012</td><td>0.9371009960854392</td><td>0.00030717427179466627</td><td>0.0002773681002617472</td><td>0.9389699947038564</td><td>0.00029539612748672215</td><td>0.00026634064191469566</td><td>0.9264872866047774</td><td>0.000287473606778494</td><td>0.004260355815460065</td><td>0.00022913585332441877</td><td>PRIOR0</td><td>0.9749738526879201</td><td>0.00023501743425499122</td></tr>\n",
       "<tr><td>226754</td><td>1237679254134784232</td><td>2.8754669632535967</td><td>2</td><td>0.012374351552196785</td><td>18.123568453844797</td><td>12.102553994821687</td><td>6.929051173845809</td><td>7.1505091284144955</td><td>5.860841821505591</td><td>0.9747447168345957</td><td>0.9749738526879201</td><td>0.999764982565745</td><td>0.9627405751619053</td><td>0.9630805235132697</td><td>0.9996470198046117</td><td>0.9368131427693686</td><td>0.9371009960854392</td><td>0.9996928257282053</td><td>0.9386926266035946</td><td>0.9389699947038564</td><td>0.9997046038725133</td><td>0.9262209459628628</td><td>0.9264872866047774</td><td>0.9997125263932215</td><td>18.123568453844797</td><td>0.9747447168345957</td><td>PRIOR0</td><td>0.9749738526879201</td><td>0.999764982565745</td></tr>\n",
       "<tr><td>226755</td><td>1237679254134784231</td><td>5.492235330560495</td><td>2</td><td>0.0001719364881277792</td><td>0.18571094110002884</td><td>0.18628260878743566</td><td>0.09280762300545256</td><td>0.09210043676768942</td><td>0.07346398172184056</td><td>0.2852077529992175</td><td>0.28538742296759045</td><td>0.9993704348758448</td><td>0.2863801194169688</td><td>0.28650022287891064</td><td>0.9995807910348725</td><td>0.16629836799910816</td><td>0.16637851477361848</td><td>0.999518286513019</td><td>0.1653378626449093</td><td>0.165420724668935</td><td>0.9994990831759953</td><td>0.13638089295895472</td><td>0.13645112689525382</td><td>0.999485281375851</td><td>0.18628260878743566</td><td>0.2863801194169688</td><td>PRIOR1</td><td>0.28650022287891064</td><td>0.9995807910348725</td></tr>\n",
       "<tr><td>226755</td><td>1237679254134784232</td><td>8.33794108234263</td><td>2</td><td>7.987859045264879e-08</td><td>0.00011699078500870698</td><td>7.81240899699353e-05</td><td>4.472822988795856e-05</td><td>4.615777948341458e-05</td><td>3.7832752818848986e-05</td><td>0.00017966996837292254</td><td>0.28538742296759045</td><td>0.0006295651241551961</td><td>0.00012010346194185952</td><td>0.28650022287891064</td><td>0.0004192089651274766</td><td>8.01467745103162e-05</td><td>0.16637851477361848</td><td>0.0004817134869809796</td><td>8.28620240257116e-05</td><td>0.165420724668935</td><td>0.0005009168240046562</td><td>7.023393629910054e-05</td><td>0.13645112689525382</td><td>0.0005147186241489625</td><td>7.81240899699353e-05</td><td>0.00012010346194185952</td><td>PRIOR1</td><td>0.28650022287891064</td><td>0.0004192089651274766</td></tr>\n",
       "<tr><td>226800</td><td>1237679323397947782</td><td>5.821647381203046</td><td>2</td><td>8.760088769271888e-05</td><td>0.08247503048799062</td><td>0.03414233850789351</td><td>0.032019659349394866</td><td>0.03793833071385565</td><td>0.03919798187664369</td><td>0.14396617523101268</td><td>0.18775919938225658</td><td>0.7667596352385044</td><td>0.0650532992398089</td><td>0.11570055889650716</td><td>0.5622557043825376</td><td>0.060716750883442874</td><td>0.11782168567425128</td><td>0.5153274674011212</td><td>0.07085385507784356</td><td>0.13175511552114832</td><td>0.5377692911397481</td><td>0.0731297574158025</td><td>0.1321627638946735</td><td>0.553331023510396</td><td>0.08247503048799062</td><td>0.14396617523101268</td><td>PRIOR0</td><td>0.18775919938225658</td><td>0.7667596352385044</td></tr>\n",
       "<tr><td>226800</td><td>1237679323397947788</td><td>6.039430083188515</td><td>2</td><td>5.099093984251449e-05</td><td>0.02508805277517091</td><td>0.026581524748217365</td><td>0.030114927636381628</td><td>0.032609265325793925</td><td>0.0316420401195335</td><td>0.043793024151243885</td><td>0.18775919938225658</td><td>0.2332403647614955</td><td>0.05064725965669826</td><td>0.11570055889650716</td><td>0.4377442956174625</td><td>0.0571049347908084</td><td>0.11782168567425128</td><td>0.48467253259887877</td><td>0.060901260443304774</td><td>0.13175511552114832</td><td>0.46223070886025197</td><td>0.059033006478871</td><td>0.1321627638946735</td><td>0.446668976489604</td><td>0.02508805277517091</td><td>0.043793024151243885</td><td>PRIOR0</td><td>0.18775919938225658</td><td>0.2332403647614955</td></tr>\n",
       "</table>"
      ],
      "text/plain": [
       "<Table length=1073>\n",
       "SRCID_xxl      SRCID_sdss     ...     prob_has_match        prob_this_match    \n",
       "                              ...                                              \n",
       "  str11          str21        ...        float64                float64        \n",
       "--------- ------------------- ... ---------------------- ----------------------\n",
       "   208384 1237679323935408452 ...     0.8258306384351617                    1.0\n",
       "   208385 1237679323935408430 ...     0.9953378431698584   6.72822738353832e-16\n",
       "   208385 1237679323935408431 ...     0.9953378431698584      0.999999999381386\n",
       "   208385 1237679323935408432 ...     0.9953378431698584  6.186134053666636e-10\n",
       "   208388 1237679323935408818 ... 3.3558241374590047e-08                    1.0\n",
       "   208389 1237679323935408611 ...    0.13820580679730704     0.9999999999756362\n",
       "   208389 1237679323935408620 ...    0.13820580679730704 2.4363921696174945e-11\n",
       "   208390 1237679323935408628 ...     0.9578116124360897     0.9999999992369902\n",
       "   208390 1237679323935408629 ...     0.9578116124360897   7.63009752508959e-10\n",
       "      ...                 ... ...                    ...                    ...\n",
       "   226736 1237679254134653533 ...     0.9814550124651964      0.999999999504649\n",
       "   226737 1237679254134653363 ...      0.976414046728409  1.430489313837436e-06\n",
       "   226737 1237679254134653369 ...      0.976414046728409     0.9999985695106861\n",
       "   226738 1237679254134652976 ...     0.9670375227969654                    1.0\n",
       "   226754 1237679254134784231 ...     0.9749738526879201 0.00023501743425499122\n",
       "   226754 1237679254134784232 ...     0.9749738526879201      0.999764982565745\n",
       "   226755 1237679254134784231 ...    0.28650022287891064     0.9995807910348725\n",
       "   226755 1237679254134784232 ...    0.28650022287891064  0.0004192089651274766\n",
       "   226800 1237679323397947782 ...    0.18775919938225658     0.7667596352385044\n",
       "   226800 1237679323397947788 ...    0.18775919938225658     0.2332403647614955"
      ]
     },
     "execution_count": 19,
     "metadata": {},
     "output_type": "execute_result"
    }
   ],
   "source": [
    "xm.lr"
   ]
  },
  {
   "cell_type": "markdown",
   "metadata": {},
   "source": [
    "All matches within the search radius (10 arcsec):"
   ]
  },
  {
   "cell_type": "code",
   "execution_count": 20,
   "metadata": {},
   "outputs": [
    {
     "data": {
      "text/html": [
       "<i>Table length=1073</i>\n",
       "<table id=\"table140296671661456\" class=\"table-striped table-bordered table-condensed\">\n",
       "<thead><tr><th>SRCID_xxl</th><th>SRCID_sdss</th><th>Separation_xxl_sdss</th><th>ncat</th><th>LR_BEST</th><th>REL_BEST</th><th>LR_BEST_MAG</th><th>match_flag</th><th>prob_has_match</th><th>prob_this_match</th></tr></thead>\n",
       "<thead><tr><th></th><th></th><th>arcsec</th><th></th><th></th><th></th><th></th><th></th><th></th><th></th></tr></thead>\n",
       "<thead><tr><th>str11</th><th>str21</th><th>float64</th><th>int64</th><th>float64</th><th>float64</th><th>bytes6</th><th>int64</th><th>float64</th><th>float64</th></tr></thead>\n",
       "<tr><td>225328</td><td>1237679322861011512</td><td>1.3714570888758941</td><td>2</td><td>49.83969044291645</td><td>0.9907738084209701</td><td>PRIOR1</td><td>1</td><td>0.9907738084209701</td><td>1.0</td></tr>\n",
       "<tr><td>214851</td><td>1237679323397882147</td><td>1.3144638565450806</td><td>2</td><td>64.08492140618053</td><td>0.9927914322638925</td><td>PRIOR0</td><td>1</td><td>0.9927914322638925</td><td>1.0</td></tr>\n",
       "<tr><td>225342</td><td>1237679322861011562</td><td>7.170840526164801</td><td>2</td><td>0.0037823979411577453</td><td>0.008065703803741373</td><td>PRIOR4</td><td>1</td><td>0.008065703803741373</td><td>1.0</td></tr>\n",
       "<tr><td>215403</td><td>1237679323397948127</td><td>2.427267359409059</td><td>2</td><td>9.438265631827951</td><td>0.9530298277696311</td><td>PRIOR4</td><td>1</td><td>0.9530298277696311</td><td>1.0</td></tr>\n",
       "<tr><td>214878</td><td>1237679254134587627</td><td>1.9889052193363361</td><td>2</td><td>11.640436697499444</td><td>0.9615625059096444</td><td>PRIOR0</td><td>1</td><td>0.9615625059096444</td><td>1.0</td></tr>\n",
       "<tr><td>225341</td><td>1237679322861076661</td><td>1.5086594463281928</td><td>2</td><td>51.57228149549933</td><td>0.9910581044612662</td><td>PRIOR0</td><td>1</td><td>0.9910581044612662</td><td>1.0</td></tr>\n",
       "<tr><td>214858</td><td>1237679323397948131</td><td>5.848338687360705</td><td>2</td><td>3.3882960537886476e-06</td><td>7.2840066061288715e-06</td><td>PRIOR4</td><td>1</td><td>7.284491965715413e-06</td><td>0.9999333708391984</td></tr>\n",
       "<tr><td>214858</td><td>1237679323397947748</td><td>7.292553467416126</td><td>2</td><td>2.2577436576775825e-10</td><td>4.853595865414566e-10</td><td>PRIOR4</td><td>0</td><td>7.284491965715413e-06</td><td>6.662916080157819e-05</td></tr>\n",
       "<tr><td>226800</td><td>1237679323397947782</td><td>5.821647381203046</td><td>2</td><td>0.08247503048799062</td><td>0.14396617523101268</td><td>PRIOR0</td><td>1</td><td>0.18775919938225658</td><td>0.7667596352385044</td></tr>\n",
       "<tr><td>...</td><td>...</td><td>...</td><td>...</td><td>...</td><td>...</td><td>...</td><td>...</td><td>...</td><td>...</td></tr>\n",
       "<tr><td>217909</td><td>1237679322861863347</td><td>8.785452432742025</td><td>2</td><td>2.5264782579403147e-06</td><td>1.2452548632551527e-07</td><td>PRIOR1</td><td>0</td><td>0.977124743704173</td><td>1.2744072558581698e-07</td></tr>\n",
       "<tr><td>217303</td><td>1237679254135373933</td><td>4.439494436789353</td><td>2</td><td>0.6052461838539445</td><td>0.5659898589625822</td><td>PRIOR1</td><td>1</td><td>0.5659898589625822</td><td>1.0</td></tr>\n",
       "<tr><td>217313</td><td>1237679254135374545</td><td>1.0820380078272642</td><td>2</td><td>25.436782390742955</td><td>0.9820356341346297</td><td>PRIOR0</td><td>1</td><td>0.9820356341346297</td><td>1.0</td></tr>\n",
       "<tr><td>218676</td><td>1237679322861863376</td><td>0.5475653416462244</td><td>2</td><td>29.50392683225591</td><td>0.984478479599858</td><td>PRIOR4</td><td>1</td><td>0.984478479599858</td><td>1.0</td></tr>\n",
       "<tr><td>217294</td><td>1237679323398734463</td><td>1.558445586040676</td><td>2</td><td>20.4380467577158</td><td>0.9777959531797583</td><td>PRIOR1</td><td>1</td><td>0.9777959531797583</td><td>1.0</td></tr>\n",
       "<tr><td>217307</td><td>1237679254135374572</td><td>1.751286873484423</td><td>2</td><td>13.11690500733616</td><td>0.9657514757733722</td><td>PRIOR4</td><td>1</td><td>0.9657514757733722</td><td>1.0</td></tr>\n",
       "<tr><td>217928</td><td>1237679322861863452</td><td>3.669063421348808</td><td>2</td><td>0.11571281138526587</td><td>0.19920305618158196</td><td>PRIOR4</td><td>1</td><td>0.19920305618158196</td><td>1.0</td></tr>\n",
       "<tr><td>217919</td><td>1237679322861863461</td><td>0.338877570253551</td><td>2</td><td>43.00538923299891</td><td>0.9892992881568456</td><td>PRIOR4</td><td>1</td><td>0.9892992881568456</td><td>1.0</td></tr>\n",
       "<tr><td>217894</td><td>1237679254135374463</td><td>8.446828836341155</td><td>2</td><td>0.000221711102096836</td><td>0.0004762486309007232</td><td>PRIOR0</td><td>1</td><td>0.0004762486309007232</td><td>1.0</td></tr>\n",
       "<tr><td>217882</td><td>1237679254135439695</td><td>0.8786664462688236</td><td>2</td><td>22.95830940220687</td><td>0.9801410389241785</td><td>PRIOR4</td><td>1</td><td>0.9801410389241785</td><td>1.0</td></tr>\n",
       "</table>"
      ],
      "text/plain": [
       "<Table length=1073>\n",
       "SRCID_xxl      SRCID_sdss     ...     prob_has_match       prob_this_match    \n",
       "                              ...                                             \n",
       "  str11          str21        ...        float64               float64        \n",
       "--------- ------------------- ... --------------------- ----------------------\n",
       "   225328 1237679322861011512 ...    0.9907738084209701                    1.0\n",
       "   214851 1237679323397882147 ...    0.9927914322638925                    1.0\n",
       "   225342 1237679322861011562 ...  0.008065703803741373                    1.0\n",
       "   215403 1237679323397948127 ...    0.9530298277696311                    1.0\n",
       "   214878 1237679254134587627 ...    0.9615625059096444                    1.0\n",
       "   225341 1237679322861076661 ...    0.9910581044612662                    1.0\n",
       "   214858 1237679323397948131 ... 7.284491965715413e-06     0.9999333708391984\n",
       "   214858 1237679323397947748 ... 7.284491965715413e-06  6.662916080157819e-05\n",
       "   226800 1237679323397947782 ...   0.18775919938225658     0.7667596352385044\n",
       "      ...                 ... ...                   ...                    ...\n",
       "   217909 1237679322861863347 ...     0.977124743704173 1.2744072558581698e-07\n",
       "   217303 1237679254135373933 ...    0.5659898589625822                    1.0\n",
       "   217313 1237679254135374545 ...    0.9820356341346297                    1.0\n",
       "   218676 1237679322861863376 ...     0.984478479599858                    1.0\n",
       "   217294 1237679323398734463 ...    0.9777959531797583                    1.0\n",
       "   217307 1237679254135374572 ...    0.9657514757733722                    1.0\n",
       "   217928 1237679322861863452 ...   0.19920305618158196                    1.0\n",
       "   217919 1237679322861863461 ...    0.9892992881568456                    1.0\n",
       "   217894 1237679254135374463 ... 0.0004762486309007232                    1.0\n",
       "   217882 1237679254135439695 ...    0.9801410389241785                    1.0"
      ]
     },
     "execution_count": 20,
     "metadata": {},
     "output_type": "execute_result"
    }
   ],
   "source": [
    "all_matches = xm.get_matchs()\n",
    "all_matches"
   ]
  },
  {
   "cell_type": "markdown",
   "metadata": {},
   "source": [
    "List of most likely counterparts:"
   ]
  },
  {
   "cell_type": "code",
   "execution_count": 21,
   "metadata": {},
   "outputs": [
    {
     "data": {
      "text/html": [
       "<i>Table length=844</i>\n",
       "<table id=\"table140296671661744\" class=\"table-striped table-bordered table-condensed\">\n",
       "<thead><tr><th>SRCID_xxl</th><th>SRCID_sdss</th><th>Separation_xxl_sdss</th><th>ncat</th><th>LR_BEST</th><th>REL_BEST</th><th>LR_BEST_MAG</th><th>match_flag</th><th>prob_has_match</th><th>prob_this_match</th></tr></thead>\n",
       "<thead><tr><th></th><th></th><th>arcsec</th><th></th><th></th><th></th><th></th><th></th><th></th><th></th></tr></thead>\n",
       "<thead><tr><th>str11</th><th>str21</th><th>float64</th><th>int64</th><th>float64</th><th>float64</th><th>bytes6</th><th>int64</th><th>float64</th><th>float64</th></tr></thead>\n",
       "<tr><td>225328</td><td>1237679322861011512</td><td>1.3714570888758941</td><td>2</td><td>49.83969044291645</td><td>0.9907738084209701</td><td>PRIOR1</td><td>1</td><td>0.9907738084209701</td><td>1.0</td></tr>\n",
       "<tr><td>214851</td><td>1237679323397882147</td><td>1.3144638565450806</td><td>2</td><td>64.08492140618053</td><td>0.9927914322638925</td><td>PRIOR0</td><td>1</td><td>0.9927914322638925</td><td>1.0</td></tr>\n",
       "<tr><td>225342</td><td>1237679322861011562</td><td>7.170840526164801</td><td>2</td><td>0.0037823979411577453</td><td>0.008065703803741373</td><td>PRIOR4</td><td>1</td><td>0.008065703803741373</td><td>1.0</td></tr>\n",
       "<tr><td>215403</td><td>1237679323397948127</td><td>2.427267359409059</td><td>2</td><td>9.438265631827951</td><td>0.9530298277696311</td><td>PRIOR4</td><td>1</td><td>0.9530298277696311</td><td>1.0</td></tr>\n",
       "<tr><td>214878</td><td>1237679254134587627</td><td>1.9889052193363361</td><td>2</td><td>11.640436697499444</td><td>0.9615625059096444</td><td>PRIOR0</td><td>1</td><td>0.9615625059096444</td><td>1.0</td></tr>\n",
       "<tr><td>225341</td><td>1237679322861076661</td><td>1.5086594463281928</td><td>2</td><td>51.57228149549933</td><td>0.9910581044612662</td><td>PRIOR0</td><td>1</td><td>0.9910581044612662</td><td>1.0</td></tr>\n",
       "<tr><td>214858</td><td>1237679323397948131</td><td>5.848338687360705</td><td>2</td><td>3.3882960537886476e-06</td><td>7.2840066061288715e-06</td><td>PRIOR4</td><td>1</td><td>7.284491965715413e-06</td><td>0.9999333708391984</td></tr>\n",
       "<tr><td>226800</td><td>1237679323397947782</td><td>5.821647381203046</td><td>2</td><td>0.08247503048799062</td><td>0.14396617523101268</td><td>PRIOR0</td><td>1</td><td>0.18775919938225658</td><td>0.7667596352385044</td></tr>\n",
       "<tr><td>214857</td><td>1237679323397947789</td><td>1.7711934173395705</td><td>2</td><td>14.585601434048465</td><td>0.9691108343151714</td><td>PRIOR3</td><td>1</td><td>0.9691108417584348</td><td>0.9999999923194922</td></tr>\n",
       "<tr><td>...</td><td>...</td><td>...</td><td>...</td><td>...</td><td>...</td><td>...</td><td>...</td><td>...</td><td>...</td></tr>\n",
       "<tr><td>217909</td><td>1237679322861863352</td><td>2.03633789927016</td><td>2</td><td>19.824729687864135</td><td>0.9771246191786866</td><td>PRIOR1</td><td>1</td><td>0.977124743704173</td><td>0.9999998725592744</td></tr>\n",
       "<tr><td>217303</td><td>1237679254135373933</td><td>4.439494436789353</td><td>2</td><td>0.6052461838539445</td><td>0.5659898589625822</td><td>PRIOR1</td><td>1</td><td>0.5659898589625822</td><td>1.0</td></tr>\n",
       "<tr><td>217313</td><td>1237679254135374545</td><td>1.0820380078272642</td><td>2</td><td>25.436782390742955</td><td>0.9820356341346297</td><td>PRIOR0</td><td>1</td><td>0.9820356341346297</td><td>1.0</td></tr>\n",
       "<tr><td>218676</td><td>1237679322861863376</td><td>0.5475653416462244</td><td>2</td><td>29.50392683225591</td><td>0.984478479599858</td><td>PRIOR4</td><td>1</td><td>0.984478479599858</td><td>1.0</td></tr>\n",
       "<tr><td>217294</td><td>1237679323398734463</td><td>1.558445586040676</td><td>2</td><td>20.4380467577158</td><td>0.9777959531797583</td><td>PRIOR1</td><td>1</td><td>0.9777959531797583</td><td>1.0</td></tr>\n",
       "<tr><td>217307</td><td>1237679254135374572</td><td>1.751286873484423</td><td>2</td><td>13.11690500733616</td><td>0.9657514757733722</td><td>PRIOR4</td><td>1</td><td>0.9657514757733722</td><td>1.0</td></tr>\n",
       "<tr><td>217928</td><td>1237679322861863452</td><td>3.669063421348808</td><td>2</td><td>0.11571281138526587</td><td>0.19920305618158196</td><td>PRIOR4</td><td>1</td><td>0.19920305618158196</td><td>1.0</td></tr>\n",
       "<tr><td>217919</td><td>1237679322861863461</td><td>0.338877570253551</td><td>2</td><td>43.00538923299891</td><td>0.9892992881568456</td><td>PRIOR4</td><td>1</td><td>0.9892992881568456</td><td>1.0</td></tr>\n",
       "<tr><td>217894</td><td>1237679254135374463</td><td>8.446828836341155</td><td>2</td><td>0.000221711102096836</td><td>0.0004762486309007232</td><td>PRIOR0</td><td>1</td><td>0.0004762486309007232</td><td>1.0</td></tr>\n",
       "<tr><td>217882</td><td>1237679254135439695</td><td>0.8786664462688236</td><td>2</td><td>22.95830940220687</td><td>0.9801410389241785</td><td>PRIOR4</td><td>1</td><td>0.9801410389241785</td><td>1.0</td></tr>\n",
       "</table>"
      ],
      "text/plain": [
       "<Table length=844>\n",
       "SRCID_xxl      SRCID_sdss     ...     prob_has_match     prob_this_match  \n",
       "                              ...                                         \n",
       "  str11          str21        ...        float64             float64      \n",
       "--------- ------------------- ... --------------------- ------------------\n",
       "   225328 1237679322861011512 ...    0.9907738084209701                1.0\n",
       "   214851 1237679323397882147 ...    0.9927914322638925                1.0\n",
       "   225342 1237679322861011562 ...  0.008065703803741373                1.0\n",
       "   215403 1237679323397948127 ...    0.9530298277696311                1.0\n",
       "   214878 1237679254134587627 ...    0.9615625059096444                1.0\n",
       "   225341 1237679322861076661 ...    0.9910581044612662                1.0\n",
       "   214858 1237679323397948131 ... 7.284491965715413e-06 0.9999333708391984\n",
       "   226800 1237679323397947782 ...   0.18775919938225658 0.7667596352385044\n",
       "   214857 1237679323397947789 ...    0.9691108417584348 0.9999999923194922\n",
       "      ...                 ... ...                   ...                ...\n",
       "   217909 1237679322861863352 ...     0.977124743704173 0.9999998725592744\n",
       "   217303 1237679254135373933 ...    0.5659898589625822                1.0\n",
       "   217313 1237679254135374545 ...    0.9820356341346297                1.0\n",
       "   218676 1237679322861863376 ...     0.984478479599858                1.0\n",
       "   217294 1237679323398734463 ...    0.9777959531797583                1.0\n",
       "   217307 1237679254135374572 ...    0.9657514757733722                1.0\n",
       "   217928 1237679322861863452 ...   0.19920305618158196                1.0\n",
       "   217919 1237679322861863461 ...    0.9892992881568456                1.0\n",
       "   217894 1237679254135374463 ... 0.0004762486309007232                1.0\n",
       "   217882 1237679254135439695 ...    0.9801410389241785                1.0"
      ]
     },
     "execution_count": 21,
     "metadata": {},
     "output_type": "execute_result"
    }
   ],
   "source": [
    "primary_matches = xm.get_matchs(match_type='primary')\n",
    "primary_matches"
   ]
  },
  {
   "cell_type": "markdown",
   "metadata": {},
   "source": [
    "List of most likely counterparts, including X-ray sources with no counterparts:"
   ]
  },
  {
   "cell_type": "code",
   "execution_count": 22,
   "metadata": {},
   "outputs": [
    {
     "data": {
      "text/html": [
       "<i>Table length=1238</i>\n",
       "<table id=\"table140296671733792\" class=\"table-striped table-bordered table-condensed\">\n",
       "<thead><tr><th>SRCID_xxl</th><th>SRCID_sdss</th><th>Separation_xxl_sdss</th><th>ncat</th><th>LR_BEST</th><th>REL_BEST</th><th>LR_BEST_MAG</th><th>match_flag</th><th>prob_has_match</th><th>prob_this_match</th></tr></thead>\n",
       "<thead><tr><th></th><th></th><th>arcsec</th><th></th><th></th><th></th><th></th><th></th><th></th><th></th></tr></thead>\n",
       "<thead><tr><th>str11</th><th>str21</th><th>float64</th><th>int64</th><th>float64</th><th>float64</th><th>bytes6</th><th>int64</th><th>float64</th><th>float64</th></tr></thead>\n",
       "<tr><td>225328</td><td>1237679322861011512</td><td>1.3714570888758941</td><td>2</td><td>49.83969044291645</td><td>0.9907738084209701</td><td>PRIOR1</td><td>1</td><td>0.9907738084209701</td><td>1.0</td></tr>\n",
       "<tr><td>225285</td><td>--</td><td>--</td><td>1</td><td>--</td><td>--</td><td>0.0</td><td>1</td><td>0.0</td><td>0.0</td></tr>\n",
       "<tr><td>214851</td><td>1237679323397882147</td><td>1.3144638565450806</td><td>2</td><td>64.08492140618053</td><td>0.9927914322638925</td><td>PRIOR0</td><td>1</td><td>0.9927914322638925</td><td>1.0</td></tr>\n",
       "<tr><td>225342</td><td>1237679322861011562</td><td>7.170840526164801</td><td>2</td><td>0.0037823979411577453</td><td>0.008065703803741373</td><td>PRIOR4</td><td>1</td><td>0.008065703803741373</td><td>1.0</td></tr>\n",
       "<tr><td>215403</td><td>1237679323397948127</td><td>2.427267359409059</td><td>2</td><td>9.438265631827951</td><td>0.9530298277696311</td><td>PRIOR4</td><td>1</td><td>0.9530298277696311</td><td>1.0</td></tr>\n",
       "<tr><td>225338</td><td>--</td><td>--</td><td>1</td><td>--</td><td>--</td><td>0.0</td><td>1</td><td>0.0</td><td>0.0</td></tr>\n",
       "<tr><td>214878</td><td>1237679254134587627</td><td>1.9889052193363361</td><td>2</td><td>11.640436697499444</td><td>0.9615625059096444</td><td>PRIOR0</td><td>1</td><td>0.9615625059096444</td><td>1.0</td></tr>\n",
       "<tr><td>225341</td><td>1237679322861076661</td><td>1.5086594463281928</td><td>2</td><td>51.57228149549933</td><td>0.9910581044612662</td><td>PRIOR0</td><td>1</td><td>0.9910581044612662</td><td>1.0</td></tr>\n",
       "<tr><td>225368</td><td>--</td><td>--</td><td>1</td><td>--</td><td>--</td><td>0.0</td><td>1</td><td>0.0</td><td>0.0</td></tr>\n",
       "<tr><td>...</td><td>...</td><td>...</td><td>...</td><td>...</td><td>...</td><td>...</td><td>...</td><td>...</td><td>...</td></tr>\n",
       "<tr><td>217268</td><td>--</td><td>--</td><td>1</td><td>--</td><td>--</td><td>0.0</td><td>1</td><td>0.0</td><td>0.0</td></tr>\n",
       "<tr><td>217929</td><td>--</td><td>--</td><td>1</td><td>--</td><td>--</td><td>0.0</td><td>1</td><td>0.0</td><td>0.0</td></tr>\n",
       "<tr><td>217307</td><td>1237679254135374572</td><td>1.751286873484423</td><td>2</td><td>13.11690500733616</td><td>0.9657514757733722</td><td>PRIOR4</td><td>1</td><td>0.9657514757733722</td><td>1.0</td></tr>\n",
       "<tr><td>217889</td><td>--</td><td>--</td><td>1</td><td>--</td><td>--</td><td>0.0</td><td>1</td><td>0.0</td><td>0.0</td></tr>\n",
       "<tr><td>217928</td><td>1237679322861863452</td><td>3.669063421348808</td><td>2</td><td>0.11571281138526587</td><td>0.19920305618158196</td><td>PRIOR4</td><td>1</td><td>0.19920305618158196</td><td>1.0</td></tr>\n",
       "<tr><td>217919</td><td>1237679322861863461</td><td>0.338877570253551</td><td>2</td><td>43.00538923299891</td><td>0.9892992881568456</td><td>PRIOR4</td><td>1</td><td>0.9892992881568456</td><td>1.0</td></tr>\n",
       "<tr><td>217296</td><td>--</td><td>--</td><td>1</td><td>--</td><td>--</td><td>0.0</td><td>1</td><td>0.0</td><td>0.0</td></tr>\n",
       "<tr><td>217927</td><td>--</td><td>--</td><td>1</td><td>--</td><td>--</td><td>0.0</td><td>1</td><td>0.0</td><td>0.0</td></tr>\n",
       "<tr><td>217894</td><td>1237679254135374463</td><td>8.446828836341155</td><td>2</td><td>0.000221711102096836</td><td>0.0004762486309007232</td><td>PRIOR0</td><td>1</td><td>0.0004762486309007232</td><td>1.0</td></tr>\n",
       "<tr><td>217882</td><td>1237679254135439695</td><td>0.8786664462688236</td><td>2</td><td>22.95830940220687</td><td>0.9801410389241785</td><td>PRIOR4</td><td>1</td><td>0.9801410389241785</td><td>1.0</td></tr>\n",
       "</table>"
      ],
      "text/plain": [
       "<Table length=1238>\n",
       "SRCID_xxl      SRCID_sdss     ...     prob_has_match    prob_this_match\n",
       "                              ...                                      \n",
       "  str11          str21        ...        float64            float64    \n",
       "--------- ------------------- ... --------------------- ---------------\n",
       "   225328 1237679322861011512 ...    0.9907738084209701             1.0\n",
       "   225285                  -- ...                   0.0             0.0\n",
       "   214851 1237679323397882147 ...    0.9927914322638925             1.0\n",
       "   225342 1237679322861011562 ...  0.008065703803741373             1.0\n",
       "   215403 1237679323397948127 ...    0.9530298277696311             1.0\n",
       "   225338                  -- ...                   0.0             0.0\n",
       "   214878 1237679254134587627 ...    0.9615625059096444             1.0\n",
       "   225341 1237679322861076661 ...    0.9910581044612662             1.0\n",
       "   225368                  -- ...                   0.0             0.0\n",
       "      ...                 ... ...                   ...             ...\n",
       "   217268                  -- ...                   0.0             0.0\n",
       "   217929                  -- ...                   0.0             0.0\n",
       "   217307 1237679254135374572 ...    0.9657514757733722             1.0\n",
       "   217889                  -- ...                   0.0             0.0\n",
       "   217928 1237679322861863452 ...   0.19920305618158196             1.0\n",
       "   217919 1237679322861863461 ...    0.9892992881568456             1.0\n",
       "   217296                  -- ...                   0.0             0.0\n",
       "   217927                  -- ...                   0.0             0.0\n",
       "   217894 1237679254135374463 ... 0.0004762486309007232             1.0\n",
       "   217882 1237679254135439695 ...    0.9801410389241785             1.0"
      ]
     },
     "execution_count": 22,
     "metadata": {},
     "output_type": "execute_result"
    }
   ],
   "source": [
    "primary_matches = xm.get_matchs(match_type='primary_all')\n",
    "primary_matches"
   ]
  },
  {
   "cell_type": "markdown",
   "metadata": {},
   "source": [
    "Set as best matches only counterparts with LR above a given threshold:"
   ]
  },
  {
   "cell_type": "code",
   "execution_count": 23,
   "metadata": {},
   "outputs": [
    {
     "data": {
      "text/html": [
       "<i>Table length=664</i>\n",
       "<table id=\"table140296804434992\" class=\"table-striped table-bordered table-condensed\">\n",
       "<thead><tr><th>SRCID_xxl</th><th>SRCID_sdss</th><th>Separation_xxl_sdss</th><th>ncat</th><th>LR_BEST</th><th>REL_BEST</th><th>LR_BEST_MAG</th><th>match_flag</th><th>prob_has_match</th><th>prob_this_match</th><th>best_match_flag</th></tr></thead>\n",
       "<thead><tr><th></th><th></th><th>arcsec</th><th></th><th></th><th></th><th></th><th></th><th></th><th></th><th></th></tr></thead>\n",
       "<thead><tr><th>str11</th><th>str21</th><th>float64</th><th>int64</th><th>float64</th><th>float64</th><th>bytes6</th><th>int64</th><th>float64</th><th>float64</th><th>int64</th></tr></thead>\n",
       "<tr><td>225328</td><td>1237679322861011512</td><td>1.3714570888758941</td><td>2</td><td>49.83969044291645</td><td>0.9907738084209701</td><td>PRIOR1</td><td>1</td><td>0.9907738084209701</td><td>1.0</td><td>1</td></tr>\n",
       "<tr><td>214851</td><td>1237679323397882147</td><td>1.3144638565450806</td><td>2</td><td>64.08492140618053</td><td>0.9927914322638925</td><td>PRIOR0</td><td>1</td><td>0.9927914322638925</td><td>1.0</td><td>1</td></tr>\n",
       "<tr><td>215403</td><td>1237679323397948127</td><td>2.427267359409059</td><td>2</td><td>9.438265631827951</td><td>0.9530298277696311</td><td>PRIOR4</td><td>1</td><td>0.9530298277696311</td><td>1.0</td><td>1</td></tr>\n",
       "<tr><td>214878</td><td>1237679254134587627</td><td>1.9889052193363361</td><td>2</td><td>11.640436697499444</td><td>0.9615625059096444</td><td>PRIOR0</td><td>1</td><td>0.9615625059096444</td><td>1.0</td><td>1</td></tr>\n",
       "<tr><td>225341</td><td>1237679322861076661</td><td>1.5086594463281928</td><td>2</td><td>51.57228149549933</td><td>0.9910581044612662</td><td>PRIOR0</td><td>1</td><td>0.9910581044612662</td><td>1.0</td><td>1</td></tr>\n",
       "<tr><td>214857</td><td>1237679323397947789</td><td>1.7711934173395705</td><td>2</td><td>14.585601434048465</td><td>0.9691108343151714</td><td>PRIOR3</td><td>1</td><td>0.9691108417584348</td><td>0.9999999923194922</td><td>1</td></tr>\n",
       "<tr><td>225416</td><td>1237679253597716770</td><td>2.0121705162664454</td><td>2</td><td>19.208252427955824</td><td>0.9764078937906158</td><td>PRIOR1</td><td>1</td><td>0.9764078937906158</td><td>1.0</td><td>1</td></tr>\n",
       "<tr><td>225370</td><td>1237679322861076786</td><td>4.746065774034002</td><td>2</td><td>1.018746766552515</td><td>0.6564951869401793</td><td>PRIOR3</td><td>1</td><td>0.700413479025742</td><td>0.9372966206380665</td><td>1</td></tr>\n",
       "<tr><td>214924</td><td>1237679254134587794</td><td>2.1276531024306267</td><td>2</td><td>10.698837100692732</td><td>0.9583334145818719</td><td>PRIOR4</td><td>1</td><td>0.9583334145818719</td><td>1.0</td><td>1</td></tr>\n",
       "<tr><td>...</td><td>...</td><td>...</td><td>...</td><td>...</td><td>...</td><td>...</td><td>...</td><td>...</td><td>...</td><td>...</td></tr>\n",
       "<tr><td>218678</td><td>1237679253598503462</td><td>1.2999506812016144</td><td>2</td><td>22.60110047287444</td><td>0.979833498981918</td><td>PRIOR4</td><td>1</td><td>0.979833498981918</td><td>1.0</td><td>1</td></tr>\n",
       "<tr><td>217238</td><td>1237679323398734414</td><td>1.5270863141427915</td><td>2</td><td>34.84769380388368</td><td>0.9868567323059108</td><td>PRIOR1</td><td>1</td><td>0.9868567323059108</td><td>1.0</td><td>1</td></tr>\n",
       "<tr><td>217909</td><td>1237679322861863352</td><td>2.03633789927016</td><td>2</td><td>19.824729687864135</td><td>0.9771246191786866</td><td>PRIOR1</td><td>1</td><td>0.977124743704173</td><td>0.9999998725592744</td><td>1</td></tr>\n",
       "<tr><td>217303</td><td>1237679254135373933</td><td>4.439494436789353</td><td>2</td><td>0.6052461838539445</td><td>0.5659898589625822</td><td>PRIOR1</td><td>1</td><td>0.5659898589625822</td><td>1.0</td><td>1</td></tr>\n",
       "<tr><td>217313</td><td>1237679254135374545</td><td>1.0820380078272642</td><td>2</td><td>25.436782390742955</td><td>0.9820356341346297</td><td>PRIOR0</td><td>1</td><td>0.9820356341346297</td><td>1.0</td><td>1</td></tr>\n",
       "<tr><td>218676</td><td>1237679322861863376</td><td>0.5475653416462244</td><td>2</td><td>29.50392683225591</td><td>0.984478479599858</td><td>PRIOR4</td><td>1</td><td>0.984478479599858</td><td>1.0</td><td>1</td></tr>\n",
       "<tr><td>217294</td><td>1237679323398734463</td><td>1.558445586040676</td><td>2</td><td>20.4380467577158</td><td>0.9777959531797583</td><td>PRIOR1</td><td>1</td><td>0.9777959531797583</td><td>1.0</td><td>1</td></tr>\n",
       "<tr><td>217307</td><td>1237679254135374572</td><td>1.751286873484423</td><td>2</td><td>13.11690500733616</td><td>0.9657514757733722</td><td>PRIOR4</td><td>1</td><td>0.9657514757733722</td><td>1.0</td><td>1</td></tr>\n",
       "<tr><td>217919</td><td>1237679322861863461</td><td>0.338877570253551</td><td>2</td><td>43.00538923299891</td><td>0.9892992881568456</td><td>PRIOR4</td><td>1</td><td>0.9892992881568456</td><td>1.0</td><td>1</td></tr>\n",
       "<tr><td>217882</td><td>1237679254135439695</td><td>0.8786664462688236</td><td>2</td><td>22.95830940220687</td><td>0.9801410389241785</td><td>PRIOR4</td><td>1</td><td>0.9801410389241785</td><td>1.0</td><td>1</td></tr>\n",
       "</table>"
      ],
      "text/plain": [
       "<Table length=664>\n",
       "SRCID_xxl      SRCID_sdss     ...  prob_this_match   best_match_flag\n",
       "                              ...                                   \n",
       "  str11          str21        ...      float64            int64     \n",
       "--------- ------------------- ... ------------------ ---------------\n",
       "   225328 1237679322861011512 ...                1.0               1\n",
       "   214851 1237679323397882147 ...                1.0               1\n",
       "   215403 1237679323397948127 ...                1.0               1\n",
       "   214878 1237679254134587627 ...                1.0               1\n",
       "   225341 1237679322861076661 ...                1.0               1\n",
       "   214857 1237679323397947789 ... 0.9999999923194922               1\n",
       "   225416 1237679253597716770 ...                1.0               1\n",
       "   225370 1237679322861076786 ... 0.9372966206380665               1\n",
       "   214924 1237679254134587794 ...                1.0               1\n",
       "      ...                 ... ...                ...             ...\n",
       "   218678 1237679253598503462 ...                1.0               1\n",
       "   217238 1237679323398734414 ...                1.0               1\n",
       "   217909 1237679322861863352 ... 0.9999998725592744               1\n",
       "   217303 1237679254135373933 ...                1.0               1\n",
       "   217313 1237679254135374545 ...                1.0               1\n",
       "   218676 1237679322861863376 ...                1.0               1\n",
       "   217294 1237679323398734463 ...                1.0               1\n",
       "   217307 1237679254135374572 ...                1.0               1\n",
       "   217919 1237679322861863461 ...                1.0               1\n",
       "   217882 1237679254135439695 ...                1.0               1"
      ]
     },
     "execution_count": 23,
     "metadata": {},
     "output_type": "execute_result"
    }
   ],
   "source": [
    "xm.set_best_matchs(cutoff=0.5)\n",
    "\n",
    "best_matches = xm.get_matchs(match_type='best')\n",
    "best_matches"
   ]
  },
  {
   "cell_type": "markdown",
   "metadata": {},
   "source": [
    "If no LR threshold is given, the method will try to find the optimum threshold (maximizing the completeness while minimizing the error rate):"
   ]
  },
  {
   "cell_type": "code",
   "execution_count": 24,
   "metadata": {},
   "outputs": [
    {
     "name": "stdout",
     "output_type": "stream",
     "text": [
      "Optimal threshold is 0.30000000000000004:\n",
      "Selects ~55% of matches with a false detection rate of < 6%\n"
     ]
    },
    {
     "data": {
      "text/html": [
       "<i>Table length=680</i>\n",
       "<table id=\"table140296804434080\" class=\"table-striped table-bordered table-condensed\">\n",
       "<thead><tr><th>SRCID_xxl</th><th>SRCID_sdss</th><th>Separation_xxl_sdss</th><th>ncat</th><th>LR_BEST</th><th>REL_BEST</th><th>LR_BEST_MAG</th><th>match_flag</th><th>prob_has_match</th><th>prob_this_match</th><th>best_match_flag</th></tr></thead>\n",
       "<thead><tr><th></th><th></th><th>arcsec</th><th></th><th></th><th></th><th></th><th></th><th></th><th></th><th></th></tr></thead>\n",
       "<thead><tr><th>str11</th><th>str21</th><th>float64</th><th>int64</th><th>float64</th><th>float64</th><th>bytes6</th><th>int64</th><th>float64</th><th>float64</th><th>int64</th></tr></thead>\n",
       "<tr><td>225328</td><td>1237679322861011512</td><td>1.3714570888758941</td><td>2</td><td>49.83969044291645</td><td>0.9907738084209701</td><td>PRIOR1</td><td>1</td><td>0.9907738084209701</td><td>1.0</td><td>1</td></tr>\n",
       "<tr><td>214851</td><td>1237679323397882147</td><td>1.3144638565450806</td><td>2</td><td>64.08492140618053</td><td>0.9927914322638925</td><td>PRIOR0</td><td>1</td><td>0.9927914322638925</td><td>1.0</td><td>1</td></tr>\n",
       "<tr><td>215403</td><td>1237679323397948127</td><td>2.427267359409059</td><td>2</td><td>9.438265631827951</td><td>0.9530298277696311</td><td>PRIOR4</td><td>1</td><td>0.9530298277696311</td><td>1.0</td><td>1</td></tr>\n",
       "<tr><td>214878</td><td>1237679254134587627</td><td>1.9889052193363361</td><td>2</td><td>11.640436697499444</td><td>0.9615625059096444</td><td>PRIOR0</td><td>1</td><td>0.9615625059096444</td><td>1.0</td><td>1</td></tr>\n",
       "<tr><td>225341</td><td>1237679322861076661</td><td>1.5086594463281928</td><td>2</td><td>51.57228149549933</td><td>0.9910581044612662</td><td>PRIOR0</td><td>1</td><td>0.9910581044612662</td><td>1.0</td><td>1</td></tr>\n",
       "<tr><td>214857</td><td>1237679323397947789</td><td>1.7711934173395705</td><td>2</td><td>14.585601434048465</td><td>0.9691108343151714</td><td>PRIOR3</td><td>1</td><td>0.9691108417584348</td><td>0.9999999923194922</td><td>1</td></tr>\n",
       "<tr><td>225416</td><td>1237679253597716770</td><td>2.0121705162664454</td><td>2</td><td>19.208252427955824</td><td>0.9764078937906158</td><td>PRIOR1</td><td>1</td><td>0.9764078937906158</td><td>1.0</td><td>1</td></tr>\n",
       "<tr><td>225370</td><td>1237679322861076786</td><td>4.746065774034002</td><td>2</td><td>1.018746766552515</td><td>0.6564951869401793</td><td>PRIOR3</td><td>1</td><td>0.700413479025742</td><td>0.9372966206380665</td><td>1</td></tr>\n",
       "<tr><td>214924</td><td>1237679254134587794</td><td>2.1276531024306267</td><td>2</td><td>10.698837100692732</td><td>0.9583334145818719</td><td>PRIOR4</td><td>1</td><td>0.9583334145818719</td><td>1.0</td><td>1</td></tr>\n",
       "<tr><td>...</td><td>...</td><td>...</td><td>...</td><td>...</td><td>...</td><td>...</td><td>...</td><td>...</td><td>...</td><td>...</td></tr>\n",
       "<tr><td>218678</td><td>1237679253598503462</td><td>1.2999506812016144</td><td>2</td><td>22.60110047287444</td><td>0.979833498981918</td><td>PRIOR4</td><td>1</td><td>0.979833498981918</td><td>1.0</td><td>1</td></tr>\n",
       "<tr><td>217238</td><td>1237679323398734414</td><td>1.5270863141427915</td><td>2</td><td>34.84769380388368</td><td>0.9868567323059108</td><td>PRIOR1</td><td>1</td><td>0.9868567323059108</td><td>1.0</td><td>1</td></tr>\n",
       "<tr><td>217909</td><td>1237679322861863352</td><td>2.03633789927016</td><td>2</td><td>19.824729687864135</td><td>0.9771246191786866</td><td>PRIOR1</td><td>1</td><td>0.977124743704173</td><td>0.9999998725592744</td><td>1</td></tr>\n",
       "<tr><td>217303</td><td>1237679254135373933</td><td>4.439494436789353</td><td>2</td><td>0.6052461838539445</td><td>0.5659898589625822</td><td>PRIOR1</td><td>1</td><td>0.5659898589625822</td><td>1.0</td><td>1</td></tr>\n",
       "<tr><td>217313</td><td>1237679254135374545</td><td>1.0820380078272642</td><td>2</td><td>25.436782390742955</td><td>0.9820356341346297</td><td>PRIOR0</td><td>1</td><td>0.9820356341346297</td><td>1.0</td><td>1</td></tr>\n",
       "<tr><td>218676</td><td>1237679322861863376</td><td>0.5475653416462244</td><td>2</td><td>29.50392683225591</td><td>0.984478479599858</td><td>PRIOR4</td><td>1</td><td>0.984478479599858</td><td>1.0</td><td>1</td></tr>\n",
       "<tr><td>217294</td><td>1237679323398734463</td><td>1.558445586040676</td><td>2</td><td>20.4380467577158</td><td>0.9777959531797583</td><td>PRIOR1</td><td>1</td><td>0.9777959531797583</td><td>1.0</td><td>1</td></tr>\n",
       "<tr><td>217307</td><td>1237679254135374572</td><td>1.751286873484423</td><td>2</td><td>13.11690500733616</td><td>0.9657514757733722</td><td>PRIOR4</td><td>1</td><td>0.9657514757733722</td><td>1.0</td><td>1</td></tr>\n",
       "<tr><td>217919</td><td>1237679322861863461</td><td>0.338877570253551</td><td>2</td><td>43.00538923299891</td><td>0.9892992881568456</td><td>PRIOR4</td><td>1</td><td>0.9892992881568456</td><td>1.0</td><td>1</td></tr>\n",
       "<tr><td>217882</td><td>1237679254135439695</td><td>0.8786664462688236</td><td>2</td><td>22.95830940220687</td><td>0.9801410389241785</td><td>PRIOR4</td><td>1</td><td>0.9801410389241785</td><td>1.0</td><td>1</td></tr>\n",
       "</table>"
      ],
      "text/plain": [
       "<Table length=680>\n",
       "SRCID_xxl      SRCID_sdss     ...  prob_this_match   best_match_flag\n",
       "                              ...                                   \n",
       "  str11          str21        ...      float64            int64     \n",
       "--------- ------------------- ... ------------------ ---------------\n",
       "   225328 1237679322861011512 ...                1.0               1\n",
       "   214851 1237679323397882147 ...                1.0               1\n",
       "   215403 1237679323397948127 ...                1.0               1\n",
       "   214878 1237679254134587627 ...                1.0               1\n",
       "   225341 1237679322861076661 ...                1.0               1\n",
       "   214857 1237679323397947789 ... 0.9999999923194922               1\n",
       "   225416 1237679253597716770 ...                1.0               1\n",
       "   225370 1237679322861076786 ... 0.9372966206380665               1\n",
       "   214924 1237679254134587794 ...                1.0               1\n",
       "      ...                 ... ...                ...             ...\n",
       "   218678 1237679253598503462 ...                1.0               1\n",
       "   217238 1237679323398734414 ...                1.0               1\n",
       "   217909 1237679322861863352 ... 0.9999998725592744               1\n",
       "   217303 1237679254135373933 ...                1.0               1\n",
       "   217313 1237679254135374545 ...                1.0               1\n",
       "   218676 1237679322861863376 ...                1.0               1\n",
       "   217294 1237679323398734463 ...                1.0               1\n",
       "   217307 1237679254135374572 ...                1.0               1\n",
       "   217919 1237679322861863461 ...                1.0               1\n",
       "   217882 1237679254135439695 ...                1.0               1"
      ]
     },
     "execution_count": 24,
     "metadata": {},
     "output_type": "execute_result"
    }
   ],
   "source": [
    "xm.set_best_matchs()\n",
    "\n",
    "best_matches = xm.get_matchs(match_type='best')\n",
    "best_matches"
   ]
  },
  {
   "cell_type": "markdown",
   "metadata": {},
   "source": [
    "DRA, DDEC offsets between matches:"
   ]
  },
  {
   "cell_type": "code",
   "execution_count": 25,
   "metadata": {},
   "outputs": [],
   "source": [
    "from matplotlib import pyplot as plt\n",
    "from scipy.stats import norm\n",
    "\n",
    "dra, ddec = xm.offset('xxl', 'sdss', match_type='best')"
   ]
  },
  {
   "cell_type": "code",
   "execution_count": 26,
   "metadata": {},
   "outputs": [
    {
     "data": {
      "image/png": "[encoded data removed]",
      "text/plain": [
       "<Figure size 936x360 with 2 Axes>"
      ]
     },
     "metadata": {
      "needs_background": "light"
     },
     "output_type": "display_data"
    }
   ],
   "source": [
    "x = np.linspace(-10, 10, num=100)\n",
    "\n",
    "fig = plt.figure(figsize=(13, 5))\n",
    "\n",
    "plt.subplot(121)\n",
    "plt.hist(dra.value, bins='auto', density=True)\n",
    "plt.plot(x, norm.pdf(x, np.mean(dra), np.std(dra)))\n",
    "plt.xlabel('DRA / arcsec')\n",
    "\n",
    "plt.subplot(122)\n",
    "plt.hist(ddec.value, bins='auto', density=True)\n",
    "plt.plot(x, norm.pdf(x, np.mean(ddec), np.std(ddec)))\n",
    "plt.xlabel('DDEC / arcsec')\n",
    "\n",
    "plt.show()"
   ]
  },
  {
   "cell_type": "markdown",
   "metadata": {},
   "source": [
    "How to obtain the information in the optical and X-ray catalogues for the primary counterparts:"
   ]
  },
  {
   "cell_type": "code",
   "execution_count": 27,
   "metadata": {},
   "outputs": [
    {
     "data": {
      "text/plain": [
       "     SRCID_sdss         RA       DEC    e_RA_ICRS ...  rmag   imag   zmag \n",
       "                       deg       deg      arcsec  ...  mag    mag    mag  \n",
       "------------------- --------- --------- --------- ... ------ ------ ------\n",
       "1237679322861011512 34.311354 -4.600466     0.024 ... 20.062 19.671 19.333\n",
       "1237679323397882147 34.319672 -4.283898     0.025 ... 20.590 20.662 20.694\n",
       "1237679323397948127 34.340016 -4.189702     0.088 ... 22.611 22.353 21.180\n",
       "1237679254134587627 34.344256  -4.37099     0.022 ... 20.801 20.766 20.311\n",
       "1237679322861076661 34.345445 -4.628632     0.047 ... 21.579 21.498 21.188\n",
       "1237679323397947789 34.363663  -4.31552     0.082 ... 22.112 22.576 21.722\n",
       "1237679253597716770 34.362917 -4.810162     0.018 ... 20.557 19.961 19.497\n",
       "1237679322861076786 34.367421 -4.700677     0.089 ... 21.764 21.845 21.954\n",
       "1237679254134587794 34.375441 -4.519295     0.071 ... 22.544 22.683 22.686\n",
       "1237679323397947552 34.378941 -4.306573     0.009 ... 19.443 19.272 19.039\n",
       "                ...       ...       ...       ... ...    ...    ...    ...\n",
       "1237679253598503462 36.226313 -4.719962     0.094 ... 22.028 21.498 21.388\n",
       "1237679323398734414 36.228419  -4.10802     0.059 ... 21.395 21.137 21.121\n",
       "1237679322861863352 36.232427 -4.533076     0.076 ... 21.375 21.025 21.663\n",
       "1237679254135373933 36.233767 -4.290447     0.216 ... 21.514 21.702 21.500\n",
       "1237679254135374545 36.233673 -4.329557     0.121 ... 22.358 21.962 21.302\n",
       "1237679322861863376 36.246582 -4.697877     0.118 ... 21.983 22.091 21.495\n",
       "1237679323398734463 36.253822 -4.220832      0.09 ... 22.002 21.816 22.337\n",
       "1237679254135374572 36.270566 -4.307527     0.105 ... 22.164 22.086 21.460\n",
       "1237679322861863461 36.280666 -4.567879     0.069 ... 21.635 21.209 20.965\n",
       "1237679254135439695 36.299244 -4.461509     0.065 ... 21.548 21.210 21.170\n",
       "Length = 680 rows"
      ]
     },
     "execution_count": 27,
     "metadata": {},
     "output_type": "execute_result"
    }
   ],
   "source": [
    "ocat_best = ocat.select_by_id(best_matches['SRCID_sdss'])\n",
    "ocat_best"
   ]
  },
  {
   "cell_type": "code",
   "execution_count": 28,
   "metadata": {},
   "outputs": [
    {
     "data": {
      "text/plain": [
       "SRCID_xxl    RA      DEC    e_Bpos\n",
       "            deg      deg    arcsec\n",
       "--------- -------- -------- ------\n",
       "   225328 34.31101  -4.6003    0.8\n",
       "   214851  34.3196 -4.28354    1.8\n",
       "   215403 34.33934 -4.18971    1.8\n",
       "   214878 34.34372 -4.37113    0.8\n",
       "   225341 34.34508 -4.62884    1.7\n",
       "   214857 34.36319 -4.31538    1.5\n",
       "   225416 34.36344 -4.80996    1.0\n",
       "   225370 34.36855 -4.69999    2.0\n",
       "   214924   34.375 -4.51969    1.8\n",
       "   214856 34.37853 -4.30686    1.0\n",
       "      ...      ...      ...    ...\n",
       "   218678 36.22601 -4.72016    1.5\n",
       "   217238 36.22823 -4.10764    1.5\n",
       "   217909 36.23192 -4.53333    1.5\n",
       "   217303 36.23278 -4.29119    1.5\n",
       "   217313 36.23379 -4.32928    1.6\n",
       "   218676 36.24653 -4.69802    1.5\n",
       "   217294 36.25385  -4.2204    1.8\n",
       "   217307 36.27068   -4.308    1.9\n",
       "   217919 36.28076 -4.56787    1.3\n",
       "   217882 36.29906 -4.46167    1.7\n",
       "Length = 680 rows"
      ]
     },
     "execution_count": 28,
     "metadata": {},
     "output_type": "execute_result"
    }
   ],
   "source": [
    "xcat_best = xcat.select_by_id(best_matches['SRCID_xxl'])\n",
    "xcat_best"
   ]
  },
  {
   "cell_type": "markdown",
   "metadata": {},
   "source": [
    "Join X-ray and optical information of the best matches in a single Astropy Table:"
   ]
  },
  {
   "cell_type": "code",
   "execution_count": 29,
   "metadata": {
    "scrolled": false
   },
   "outputs": [
    {
     "data": {
      "text/html": [
       "<i>Table length=680</i>\n",
       "<table id=\"table140296662797472\" class=\"table-striped table-bordered table-condensed\">\n",
       "<thead><tr><th>SRCID_xxl</th><th>RA_xxl</th><th>DEC_xxl</th><th>e_Bpos</th><th>SRCID_sdss</th><th>RA_sdss</th><th>DEC_sdss</th><th>e_RA_ICRS</th><th>e_DE_ICRS</th><th>umag</th><th>gmag</th><th>rmag</th><th>imag</th><th>zmag</th></tr></thead>\n",
       "<thead><tr><th></th><th>deg</th><th>deg</th><th>arcsec</th><th></th><th>deg</th><th>deg</th><th>arcsec</th><th>arcsec</th><th>mag</th><th>mag</th><th>mag</th><th>mag</th><th>mag</th></tr></thead>\n",
       "<thead><tr><th>str11</th><th>float64</th><th>float64</th><th>float32</th><th>str21</th><th>float64</th><th>float64</th><th>float32</th><th>float32</th><th>float32</th><th>float32</th><th>float32</th><th>float32</th><th>float32</th></tr></thead>\n",
       "<tr><td>225328</td><td>34.31101</td><td>-4.6003</td><td>0.8</td><td>1237679322861011512</td><td>34.311354</td><td>-4.600466</td><td>0.024</td><td>0.021</td><td>23.089</td><td>21.392</td><td>20.062</td><td>19.671</td><td>19.333</td></tr>\n",
       "<tr><td>214851</td><td>34.3196</td><td>-4.28354</td><td>1.8</td><td>1237679323397882147</td><td>34.319672</td><td>-4.283898</td><td>0.025</td><td>0.022</td><td>21.144</td><td>20.703</td><td>20.590</td><td>20.662</td><td>20.694</td></tr>\n",
       "<tr><td>215403</td><td>34.33934</td><td>-4.18971</td><td>1.8</td><td>1237679323397948127</td><td>34.340016</td><td>-4.189702</td><td>0.088</td><td>0.115</td><td>23.631</td><td>23.822</td><td>22.611</td><td>22.353</td><td>21.180</td></tr>\n",
       "<tr><td>214878</td><td>34.34372</td><td>-4.37113</td><td>0.8</td><td>1237679254134587627</td><td>34.344256</td><td>-4.37099</td><td>0.022</td><td>0.021</td><td>21.645</td><td>21.046</td><td>20.801</td><td>20.766</td><td>20.311</td></tr>\n",
       "<tr><td>225341</td><td>34.34508</td><td>-4.62884</td><td>1.7</td><td>1237679322861076661</td><td>34.345445</td><td>-4.628632</td><td>0.047</td><td>0.058</td><td>21.358</td><td>21.705</td><td>21.579</td><td>21.498</td><td>21.188</td></tr>\n",
       "<tr><td>214857</td><td>34.36319</td><td>-4.31538</td><td>1.5</td><td>1237679323397947789</td><td>34.363663</td><td>-4.31552</td><td>0.082</td><td>0.096</td><td>23.996</td><td>22.407</td><td>22.112</td><td>22.576</td><td>21.722</td></tr>\n",
       "<tr><td>225416</td><td>34.36344</td><td>-4.80996</td><td>1.0</td><td>1237679253597716770</td><td>34.362917</td><td>-4.810162</td><td>0.018</td><td>0.019</td><td>23.055</td><td>21.299</td><td>20.557</td><td>19.961</td><td>19.497</td></tr>\n",
       "<tr><td>225370</td><td>34.36855</td><td>-4.69999</td><td>2.0</td><td>1237679322861076786</td><td>34.367421</td><td>-4.700677</td><td>0.089</td><td>0.125</td><td>23.424</td><td>22.809</td><td>21.764</td><td>21.845</td><td>21.954</td></tr>\n",
       "<tr><td>214924</td><td>34.375</td><td>-4.51969</td><td>1.8</td><td>1237679254134587794</td><td>34.375441</td><td>-4.519295</td><td>0.071</td><td>0.09</td><td>22.714</td><td>22.410</td><td>22.544</td><td>22.683</td><td>22.686</td></tr>\n",
       "<tr><td>...</td><td>...</td><td>...</td><td>...</td><td>...</td><td>...</td><td>...</td><td>...</td><td>...</td><td>...</td><td>...</td><td>...</td><td>...</td><td>...</td></tr>\n",
       "<tr><td>218678</td><td>36.22601</td><td>-4.72016</td><td>1.5</td><td>1237679253598503462</td><td>36.226313</td><td>-4.719962</td><td>0.094</td><td>0.129</td><td>25.564</td><td>22.878</td><td>22.028</td><td>21.498</td><td>21.388</td></tr>\n",
       "<tr><td>217238</td><td>36.22823</td><td>-4.10764</td><td>1.5</td><td>1237679323398734414</td><td>36.228419</td><td>-4.10802</td><td>0.059</td><td>0.052</td><td>22.946</td><td>21.472</td><td>21.395</td><td>21.137</td><td>21.121</td></tr>\n",
       "<tr><td>217909</td><td>36.23192</td><td>-4.53333</td><td>1.5</td><td>1237679322861863352</td><td>36.232427</td><td>-4.533076</td><td>0.076</td><td>0.058</td><td>22.324</td><td>21.713</td><td>21.375</td><td>21.025</td><td>21.663</td></tr>\n",
       "<tr><td>217303</td><td>36.23278</td><td>-4.29119</td><td>1.5</td><td>1237679254135373933</td><td>36.233767</td><td>-4.290447</td><td>0.216</td><td>0.095</td><td>22.468</td><td>21.813</td><td>21.514</td><td>21.702</td><td>21.500</td></tr>\n",
       "<tr><td>217313</td><td>36.23379</td><td>-4.32928</td><td>1.6</td><td>1237679254135374545</td><td>36.233673</td><td>-4.329557</td><td>0.121</td><td>0.099</td><td>22.341</td><td>23.148</td><td>22.358</td><td>21.962</td><td>21.302</td></tr>\n",
       "<tr><td>218676</td><td>36.24653</td><td>-4.69802</td><td>1.5</td><td>1237679322861863376</td><td>36.246582</td><td>-4.697877</td><td>0.118</td><td>0.164</td><td>23.839</td><td>22.289</td><td>21.983</td><td>22.091</td><td>21.495</td></tr>\n",
       "<tr><td>217294</td><td>36.25385</td><td>-4.2204</td><td>1.8</td><td>1237679323398734463</td><td>36.253822</td><td>-4.220832</td><td>0.09</td><td>0.079</td><td>22.482</td><td>21.943</td><td>22.002</td><td>21.816</td><td>22.337</td></tr>\n",
       "<tr><td>217307</td><td>36.27068</td><td>-4.308</td><td>1.9</td><td>1237679254135374572</td><td>36.270566</td><td>-4.307527</td><td>0.105</td><td>0.143</td><td>23.583</td><td>23.752</td><td>22.164</td><td>22.086</td><td>21.460</td></tr>\n",
       "<tr><td>217919</td><td>36.28076</td><td>-4.56787</td><td>1.3</td><td>1237679322861863461</td><td>36.280666</td><td>-4.567879</td><td>0.069</td><td>0.074</td><td>23.573</td><td>22.825</td><td>21.635</td><td>21.209</td><td>20.965</td></tr>\n",
       "<tr><td>217882</td><td>36.29906</td><td>-4.46167</td><td>1.7</td><td>1237679254135439695</td><td>36.299244</td><td>-4.461509</td><td>0.065</td><td>0.061</td><td>25.124</td><td>22.586</td><td>21.548</td><td>21.210</td><td>21.170</td></tr>\n",
       "</table>"
      ],
      "text/plain": [
       "<Table length=680>\n",
       "SRCID_xxl  RA_xxl  DEC_xxl   e_Bpos ...   gmag    rmag    imag    zmag \n",
       "            deg      deg     arcsec ...   mag     mag     mag     mag  \n",
       "  str11   float64  float64  float32 ... float32 float32 float32 float32\n",
       "--------- -------- -------- ------- ... ------- ------- ------- -------\n",
       "   225328 34.31101  -4.6003     0.8 ...  21.392  20.062  19.671  19.333\n",
       "   214851  34.3196 -4.28354     1.8 ...  20.703  20.590  20.662  20.694\n",
       "   215403 34.33934 -4.18971     1.8 ...  23.822  22.611  22.353  21.180\n",
       "   214878 34.34372 -4.37113     0.8 ...  21.046  20.801  20.766  20.311\n",
       "   225341 34.34508 -4.62884     1.7 ...  21.705  21.579  21.498  21.188\n",
       "   214857 34.36319 -4.31538     1.5 ...  22.407  22.112  22.576  21.722\n",
       "   225416 34.36344 -4.80996     1.0 ...  21.299  20.557  19.961  19.497\n",
       "   225370 34.36855 -4.69999     2.0 ...  22.809  21.764  21.845  21.954\n",
       "   214924   34.375 -4.51969     1.8 ...  22.410  22.544  22.683  22.686\n",
       "      ...      ...      ...     ... ...     ...     ...     ...     ...\n",
       "   218678 36.22601 -4.72016     1.5 ...  22.878  22.028  21.498  21.388\n",
       "   217238 36.22823 -4.10764     1.5 ...  21.472  21.395  21.137  21.121\n",
       "   217909 36.23192 -4.53333     1.5 ...  21.713  21.375  21.025  21.663\n",
       "   217303 36.23278 -4.29119     1.5 ...  21.813  21.514  21.702  21.500\n",
       "   217313 36.23379 -4.32928     1.6 ...  23.148  22.358  21.962  21.302\n",
       "   218676 36.24653 -4.69802     1.5 ...  22.289  21.983  22.091  21.495\n",
       "   217294 36.25385  -4.2204     1.8 ...  21.943  22.002  21.816  22.337\n",
       "   217307 36.27068   -4.308     1.9 ...  23.752  22.164  22.086  21.460\n",
       "   217919 36.28076 -4.56787     1.3 ...  22.825  21.635  21.209  20.965\n",
       "   217882 36.29906 -4.46167     1.7 ...  22.586  21.548  21.210  21.170"
      ]
     },
     "execution_count": 29,
     "metadata": {},
     "output_type": "execute_result"
    }
   ],
   "source": [
    "from astropy.table import hstack\n",
    "\n",
    "best_all = hstack(\n",
    "    [xcat_best.save(), ocat_best.save()],  # Catalogues can be converted into Tables using the `save` method\n",
    "    table_names=[xcat_best.name, ocat_best.name],\n",
    "    join_type='exact')\n",
    "best_all"
   ]
  },
  {
   "cell_type": "markdown",
   "metadata": {},
   "source": [
    "There are differents methods to characterize the statistical properties of the cross-match.\n",
    "\n",
    "Using the probabilities estimated by the LR algorithm:"
   ]
  },
  {
   "cell_type": "code",
   "execution_count": 30,
   "metadata": {},
   "outputs": [],
   "source": [
    "lr_stats = xm.stats(ncutoff=501, maxcutoff=10.0)"
   ]
  },
  {
   "cell_type": "markdown",
   "metadata": {},
   "source": [
    "By cross-matching with a randomized catalogue of X-ray sources:"
   ]
  },
  {
   "cell_type": "code",
   "execution_count": 31,
   "metadata": {},
   "outputs": [
    {
     "name": "stdout",
     "output_type": "stream",
     "text": [
      "INFO: Randomizing primary catalogue... [astromatch.lr]\n",
      "INFO: Cross-matching with randomized catalogue... [astromatch.lr]\n"
     ]
    },
    {
     "name": "stderr",
     "output_type": "stream",
     "text": [
      "/home/alnoah/miniconda2/envs/astromatch/lib/python3.8/site-packages/astromatch/lr.py:513: RuntimeWarning: invalid value encountered in true_divide\n",
      "  lr_table[\"p_i_\" + col] = lr_table[\"REL_\" + col] / lr_table[\"p_any_\" + col]\n"
     ]
    }
   ],
   "source": [
    "lr_stats_rnd = xm.stats(match_rnd=True, ncutoff=501, maxcutoff=10.0)"
   ]
  },
  {
   "cell_type": "markdown",
   "metadata": {},
   "source": [
    "By using the randomization method described in Broos et al. 2006:"
   ]
  },
  {
   "cell_type": "code",
   "execution_count": 32,
   "metadata": {},
   "outputs": [
    {
     "name": "stdout",
     "output_type": "stream",
     "text": [
      "INFO: Randomizing primary catalogue... [astromatch.lr]\n",
      "INFO: Cross-matching with randomized catalogue... [astromatch.lr]\n"
     ]
    },
    {
     "name": "stderr",
     "output_type": "stream",
     "text": [
      "/home/alnoah/miniconda2/envs/astromatch/lib/python3.8/site-packages/astromatch/lr.py:513: RuntimeWarning: invalid value encountered in true_divide\n",
      "  lr_table[\"p_i_\" + col] = lr_table[\"REL_\" + col] / lr_table[\"p_any_\" + col]\n"
     ]
    }
   ],
   "source": [
    "lr_stats_broos = xm.stats(use_broos=True, ntest=1, ncutoff=501, maxcutoff=10.0)"
   ]
  },
  {
   "cell_type": "code",
   "execution_count": 33,
   "metadata": {},
   "outputs": [
    {
     "data": {
      "image/png": "[encoded data removed]",
      "text/plain": [
       "<Figure size 936x360 with 2 Axes>"
      ]
     },
     "metadata": {
      "needs_background": "light"
     },
     "output_type": "display_data"
    }
   ],
   "source": [
    "fig = plt.figure(figsize=(13, 5))\n",
    "\n",
    "plt.subplot(121)\n",
    "plt.plot(lr_stats['cutoff'], lr_stats['error_rate'], lw=3, label=\"stats\")\n",
    "plt.plot(lr_stats_rnd['cutoff'], lr_stats_rnd['error_rate'], lw=3, ls=':', label=\"rand\")\n",
    "plt.plot(lr_stats_broos['cutoff'], lr_stats_broos['error_rate'], lw=3, ls='--', label=\"broos\")\n",
    "plt.legend()\n",
    "\n",
    "plt.xlabel('LR')\n",
    "plt.ylabel('error rate')\n",
    "\n",
    "\n",
    "plt.subplot(122)\n",
    "plt.plot(lr_stats['reliability'], lr_stats['completeness'], lw=3)\n",
    "plt.plot(lr_stats_rnd['reliability'], lr_stats_rnd['completeness'], lw=3, ls=':')\n",
    "plt.plot(lr_stats_broos['reliability'], lr_stats_broos['completeness'], lw=3, ls='--')\n",
    "\n",
    "plt.xlabel('purity')\n",
    "plt.ylabel('completeness')\n",
    "\n",
    "plt.tight_layout()\n",
    "plt.show()"
   ]
  },
  {
   "cell_type": "markdown",
   "metadata": {},
   "source": [
    "We repeat the cross-matching of our two catalogues using NWAY:"
   ]
  },
  {
   "cell_type": "code",
   "execution_count": 34,
   "metadata": {},
   "outputs": [
    {
     "name": "stdout",
     "output_type": "stream",
     "text": [
      "INFO: Using NWAY method: [astromatch.core]\n"
     ]
    },
    {
     "name": "stderr",
     "output_type": "stream",
     "text": [
      "    adding angular separation columns\n",
      "matching:   2311 matches after filtering by search radius\n",
      "Primary catalogue \"xxl\" (1238), density gives 1.62e+07 objects on entire sky\n",
      "Catalogue \"sdss\" (43559), density gives 5.69e+08 objects on entire sky\n",
      "Computing distance-based probabilities ...\n",
      "    correcting for unrelated associations ...\n",
      "100%|██████████| 1238/1238 [00:02<00:00, 558.58it/s]\n",
      "\n",
      "Computing final probabilities ...\n",
      "    grouping by primary catalogue ID and flagging ...\n"
     ]
    }
   ],
   "source": [
    "match_nway_nomags = xm.run(method='nway', radius=10.0*u.arcsec, prior_completeness=0.55)"
   ]
  },
  {
   "cell_type": "markdown",
   "metadata": {},
   "source": [
    "The match we have just performed does not take into account the optical magnitudes of the SDSS sources. If we want to use that information during the cross-matching, we set the `use_mags` parameter to `True` and astromatch automatically estimates magnitude priors from the photometric data contained in the optical catalogue:"
   ]
  },
  {
   "cell_type": "code",
   "execution_count": 35,
   "metadata": {},
   "outputs": [
    {
     "name": "stderr",
     "output_type": "stream",
     "text": [
      "    adding angular separation columns\n",
      "matching:   2311 matches after filtering by search radius\n",
      "Primary catalogue \"xxl\" (1238), density gives 1.62e+07 objects on entire sky\n",
      "Catalogue \"sdss\" (43559), density gives 5.69e+08 objects on entire sky\n",
      "Computing distance-based probabilities ...\n",
      "    correcting for unrelated associations ...\n",
      "  5%|▍         | 61/1238 [00:00<00:01, 609.01it/s]"
     ]
    },
    {
     "name": "stdout",
     "output_type": "stream",
     "text": [
      "INFO: Using NWAY method: [astromatch.core]\n"
     ]
    },
    {
     "name": "stderr",
     "output_type": "stream",
     "text": [
      "100%|██████████| 1238/1238 [00:02<00:00, 593.35it/s]\n",
      "Incorporating bias \"sdss:umag\" ...\n",
      "magnitude histogram of column \"sdss_umag\": 490 secure matches, 792 insecure matches and 42767 secure non-matches of 43559 total entries (43559 valid)\n",
      "magnitude histogram stored to \"sdss_umag_fit.txt\".\n",
      "Incorporating bias \"sdss:gmag\" ...\n",
      "magnitude histogram of column \"sdss_gmag\": 490 secure matches, 792 insecure matches and 42767 secure non-matches of 43559 total entries (43559 valid)\n",
      "magnitude histogram stored to \"sdss_gmag_fit.txt\".\n",
      "Incorporating bias \"sdss:rmag\" ...\n",
      "magnitude histogram of column \"sdss_rmag\": 490 secure matches, 792 insecure matches and 42767 secure non-matches of 43559 total entries (43559 valid)\n",
      "magnitude histogram stored to \"sdss_rmag_fit.txt\".\n",
      "Incorporating bias \"sdss:imag\" ...\n",
      "magnitude histogram of column \"sdss_imag\": 490 secure matches, 792 insecure matches and 42767 secure non-matches of 43559 total entries (43559 valid)\n",
      "magnitude histogram stored to \"sdss_imag_fit.txt\".\n",
      "Incorporating bias \"sdss:zmag\" ...\n",
      "magnitude histogram of column \"sdss_zmag\": 490 secure matches, 792 insecure matches and 42767 secure non-matches of 43559 total entries (43559 valid)\n",
      "magnitude histogram stored to \"sdss_zmag_fit.txt\".\n",
      "\n",
      "Computing final probabilities ...\n",
      "    grouping by primary catalogue ID and flagging ...\n"
     ]
    },
    {
     "name": "stdout",
     "output_type": "stream",
     "text": [
      "INFO: Using provided prior... [astromatch.priors]\n"
     ]
    }
   ],
   "source": [
    "match_nway_mags_default = xm.run(method='nway', radius=10.0*u.arcsec, use_mags=True, prior_completeness=0.55)"
   ]
  },
  {
   "cell_type": "markdown",
   "metadata": {},
   "source": [
    "By default NWAY uses high likelihood counterparts (matches with high posterior probability estimated using only the positional information) to calculate the magnitude priors. This is controlled by the argument `dist_post_min`, by default using a value of 0.9 (i.e. only matches with a posterior positional probability above 0.9 are used for building the magnitude priors). Alternatively, if `dist_post_min` is `None`, you can build priors using the same method implemented in the LR algorithm:"
   ]
  },
  {
   "cell_type": "code",
   "execution_count": 36,
   "metadata": {},
   "outputs": [
    {
     "name": "stdout",
     "output_type": "stream",
     "text": [
      "INFO: Using NWAY method: [astromatch.core]\n",
      "INFO: Estimating priors using Catalogues: xxl and sdss... [astromatch.priors]\n",
      "INFO: Using columns: ['umag', 'gmag', 'rmag', 'imag', 'zmag'] [astromatch.priors]\n"
     ]
    },
    {
     "name": "stderr",
     "output_type": "stream",
     "text": [
      "    adding angular separation columns\n",
      "matching:   2311 matches after filtering by search radius\n",
      "Primary catalogue \"xxl\" (1238), density gives 1.62e+07 objects on entire sky\n",
      "Catalogue \"sdss\" (43559), density gives 5.69e+08 objects on entire sky\n",
      "Computing distance-based probabilities ...\n",
      "    correcting for unrelated associations ...\n",
      "100%|██████████| 1238/1238 [00:02<00:00, 593.34it/s]\n",
      "Incorporating bias \"sdss:umag\" ...\n",
      "magnitude histogramming: using user-supplied histogram for \"sdss_umag\"\n",
      "Incorporating bias \"sdss:gmag\" ...\n",
      "magnitude histogramming: using user-supplied histogram for \"sdss_gmag\"\n",
      "Incorporating bias \"sdss:rmag\" ...\n",
      "magnitude histogramming: using user-supplied histogram for \"sdss_rmag\"\n",
      "Incorporating bias \"sdss:imag\" ...\n",
      "magnitude histogramming: using user-supplied histogram for \"sdss_imag\"\n",
      "Incorporating bias \"sdss:zmag\" ...\n",
      "magnitude histogramming: using user-supplied histogram for \"sdss_zmag\"\n",
      "\n",
      "Computing final probabilities ...\n",
      "    grouping by primary catalogue ID and flagging ...\n"
     ]
    }
   ],
   "source": [
    "match_nway_mags_custom = xm.run(\n",
    "    method='nway',\n",
    "    radius=10.0*u.arcsec,\n",
    "    prior_completeness=0.55,\n",
    "    use_mags=True,\n",
    "    dist_post_min=None,\n",
    "# Default settings for LR magnitude priors\n",
    "    mag_include_radius=10*u.arcsec,\n",
    "    magmin=10.0,\n",
    "    magmax=30.0,\n",
    "    rndcat=True,\n",
    ")"
   ]
  },
  {
   "cell_type": "markdown",
   "metadata": {},
   "source": [
    "Or we can just use the magnitude prior we calculated during the LR match. In this case we need to define a dictionary containing the priors for each secondary catalogue that is included in the match (only the SDSS catalogue in this particular example):"
   ]
  },
  {
   "cell_type": "code",
   "execution_count": 37,
   "metadata": {},
   "outputs": [
    {
     "name": "stderr",
     "output_type": "stream",
     "text": [
      "    adding angular separation columns\n",
      "matching:   2311 matches after filtering by search radius\n",
      "Primary catalogue \"xxl\" (1238), density gives 1.62e+07 objects on entire sky\n",
      "Catalogue \"sdss\" (43559), density gives 5.69e+08 objects on entire sky\n",
      "Computing distance-based probabilities ...\n",
      "    correcting for unrelated associations ...\n",
      "  5%|▍         | 61/1238 [00:00<00:01, 605.03it/s]"
     ]
    },
    {
     "name": "stdout",
     "output_type": "stream",
     "text": [
      "INFO: Using provided prior... [astromatch.priors]\n",
      "INFO: Using NWAY method: [astromatch.core]\n"
     ]
    },
    {
     "name": "stderr",
     "output_type": "stream",
     "text": [
      "100%|██████████| 1238/1238 [00:02<00:00, 595.48it/s]\n",
      "Incorporating bias \"sdss:umag\" ...\n",
      "magnitude histogramming: using user-supplied histogram for \"sdss_umag\"\n",
      "Incorporating bias \"sdss:gmag\" ...\n",
      "magnitude histogramming: using user-supplied histogram for \"sdss_gmag\"\n",
      "Incorporating bias \"sdss:rmag\" ...\n",
      "magnitude histogramming: using user-supplied histogram for \"sdss_rmag\"\n",
      "Incorporating bias \"sdss:imag\" ...\n",
      "magnitude histogramming: using user-supplied histogram for \"sdss_imag\"\n",
      "Incorporating bias \"sdss:zmag\" ...\n",
      "magnitude histogramming: using user-supplied histogram for \"sdss_zmag\"\n",
      "\n",
      "Computing final probabilities ...\n",
      "    grouping by primary catalogue ID and flagging ...\n"
     ]
    }
   ],
   "source": [
    "from astromatch.priors import Prior\n",
    "\n",
    "priors = {'sdss': Prior.from_fits(\"lrpriors.fits\")}\n",
    "\n",
    "match_nway_mags_custom2 = xm.run(\n",
    "    method='nway', radius=10.0*u.arcsec, prior_completeness=0.55, use_mags=True, priors=priors\n",
    ")"
   ]
  },
  {
   "cell_type": "code",
   "execution_count": 38,
   "metadata": {},
   "outputs": [
    {
     "data": {
      "image/png": "[encoded data removed]",
      "text/plain": [
       "<Figure size 504x360 with 1 Axes>"
      ]
     },
     "metadata": {
      "needs_background": "light"
     },
     "output_type": "display_data"
    }
   ],
   "source": [
    "fig = plt.figure(figsize=(7, 5))\n",
    "\n",
    "plt.hist(match_nway_nomags['prob_has_match'], bins='auto')\n",
    "plt.hist(match_nway_mags_default['prob_has_match'], bins='auto', histtype='step', lw=3)\n",
    "plt.hist(match_nway_mags_custom['prob_has_match'], bins='auto', histtype='step', lw=3, ls='--')\n",
    "plt.hist(match_nway_mags_custom2['prob_has_match'], bins='auto', histtype='step', lw=3, ls=':')\n",
    "\n",
    "plt.show()"
   ]
  },
  {
   "cell_type": "markdown",
   "metadata": {},
   "source": [
    "DRA, DDEC offsets between matches for NWAY results:"
   ]
  },
  {
   "cell_type": "code",
   "execution_count": 39,
   "metadata": {},
   "outputs": [
    {
     "data": {
      "image/png": "[encoded data removed]",
      "text/plain": [
       "<Figure size 936x360 with 2 Axes>"
      ]
     },
     "metadata": {
      "needs_background": "light"
     },
     "output_type": "display_data"
    }
   ],
   "source": [
    "from matplotlib import pyplot as plt\n",
    "from scipy.stats import norm\n",
    "\n",
    "xm.set_best_matchs(cutoff=0.8)\n",
    "dra, ddec = xm.offset('xxl', 'sdss', match_type='best')\n",
    "x = np.linspace(-10, 10, num=100)\n",
    "\n",
    "fig = plt.figure(figsize=(13, 5))\n",
    "\n",
    "plt.subplot(121)\n",
    "plt.hist(dra.value, bins='auto', density=True)\n",
    "plt.plot(x, norm.pdf(x, np.mean(dra), np.std(dra)))\n",
    "plt.xlabel('DRA / arcsec')\n",
    "\n",
    "plt.subplot(122)\n",
    "plt.hist(ddec.value, bins='auto', density=True)\n",
    "plt.plot(x, norm.pdf(x, np.mean(ddec), np.std(ddec)))\n",
    "plt.xlabel('DDEC / arcsec')\n",
    "\n",
    "plt.show()"
   ]
  },
  {
   "cell_type": "code",
   "execution_count": 40,
   "metadata": {
    "scrolled": true
   },
   "outputs": [
    {
     "name": "stderr",
     "output_type": "stream",
     "text": [
      "matching: using fast flat-sky approximation for this match\n",
      "100%|██████████| 44797/44797 [00:00<00:00, 105650.21it/s]\n",
      "matching: collecting from 4951 buckets, creating cartesian products ...\n",
      "100%|██████████| 4951/4951 [00:00<00:00, 128376.95it/s]\n",
      "matching:   2415 unique matches from cartesian product. sorting ...\n",
      "    adding angular separation columns\n",
      "matching:   1625 matches after filtering by search radius\n",
      "Primary catalogue \"xxl\" (1238), density gives 1.62e+07 objects on entire sky\n",
      "Catalogue \"sdss\" (43559), density gives 5.69e+08 objects on entire sky\n",
      "Computing distance-based probabilities ...\n",
      "    correcting for unrelated associations ...\n",
      "100%|██████████| 1238/1238 [00:02<00:00, 577.90it/s]\n",
      "Incorporating bias \"sdss:umag\" ...\n",
      "magnitude histogramming: using user-supplied histogram for \"sdss_umag\"\n",
      "Incorporating bias \"sdss:gmag\" ...\n",
      "magnitude histogramming: using user-supplied histogram for \"sdss_gmag\"\n",
      "Incorporating bias \"sdss:rmag\" ...\n",
      "magnitude histogramming: using user-supplied histogram for \"sdss_rmag\"\n",
      "Incorporating bias \"sdss:imag\" ...\n",
      "magnitude histogramming: using user-supplied histogram for \"sdss_imag\"\n",
      "Incorporating bias \"sdss:zmag\" ...\n",
      "magnitude histogramming: using user-supplied histogram for \"sdss_zmag\"\n",
      "\n",
      "Computing final probabilities ...\n",
      "    grouping by primary catalogue ID and flagging ...\n",
      "matching: using fast flat-sky approximation for this match\n",
      "100%|██████████| 44797/44797 [00:00<00:00, 152678.23it/s]\n",
      "matching: collecting from 4950 buckets, creating cartesian products ...\n",
      "100%|██████████| 4950/4950 [00:00<00:00, 134753.91it/s]\n",
      "matching:   2454 unique matches from cartesian product. sorting ...\n",
      "    adding angular separation columns\n",
      "matching:   1645 matches after filtering by search radius\n",
      "Primary catalogue \"xxl\" (1238), density gives 1.62e+07 objects on entire sky\n",
      "Catalogue \"sdss\" (43559), density gives 5.69e+08 objects on entire sky\n",
      "Computing distance-based probabilities ...\n",
      "    correcting for unrelated associations ...\n",
      "100%|██████████| 1238/1238 [00:02<00:00, 595.95it/s]\n",
      "Incorporating bias \"sdss:umag\" ...\n",
      "magnitude histogramming: using user-supplied histogram for \"sdss_umag\"\n",
      "Incorporating bias \"sdss:gmag\" ...\n",
      "magnitude histogramming: using user-supplied histogram for \"sdss_gmag\"\n",
      "Incorporating bias \"sdss:rmag\" ...\n",
      "magnitude histogramming: using user-supplied histogram for \"sdss_rmag\"\n",
      "Incorporating bias \"sdss:imag\" ...\n",
      "magnitude histogramming: using user-supplied histogram for \"sdss_imag\"\n",
      "Incorporating bias \"sdss:zmag\" ...\n",
      "magnitude histogramming: using user-supplied histogram for \"sdss_zmag\"\n",
      "\n",
      "Computing final probabilities ...\n",
      "    grouping by primary catalogue ID and flagging ...\n",
      "WARNING: MergeConflictWarning: Cannot merge meta key 'ucd' types <class 'str'> and <class 'str'>, choosing ucd='ID_NUMBER' [astropy.utils.metadata]\n",
      "WARNING: MergeConflictWarning: Cannot merge meta key 'width' types <class 'int'> and <class 'int'>, choosing width=6 [astropy.utils.metadata]\n",
      "WARNING: MergeConflictWarning: In merged column 'SRCID_sdss' the 'description' attribute does not match (SDSS unique object identifier (2) != Internal sequence identifier (G1)).  Using Internal sequence identifier (G1) for merged output [astropy.utils.metadata]\n",
      "WARNING: MergeConflictWarning: Cannot merge meta key 'null' types <class 'float'> and <class 'float'>, choosing null=nan [astropy.utils.metadata]\n",
      "matching: using fast flat-sky approximation for this match\n",
      "100%|██████████| 45602/45602 [00:00<00:00, 146782.98it/s]\n",
      "matching: collecting from 4951 buckets, creating cartesian products ...\n",
      "100%|██████████| 4951/4951 [00:00<00:00, 131591.95it/s]\n",
      "matching:   3644 unique matches from cartesian product. sorting ...\n",
      "    adding angular separation columns\n",
      "matching:   2910 matches after filtering by search radius\n",
      "Primary catalogue \"xxl\" (1238), density gives 1.62e+07 objects on entire sky\n",
      "Catalogue \"sdss\" (44364), density gives 5.79e+08 objects on entire sky\n",
      "Computing distance-based probabilities ...\n",
      "    correcting for unrelated associations ...\n",
      "100%|██████████| 1238/1238 [00:02<00:00, 594.84it/s]\n",
      "Incorporating bias \"sdss:umag\" ...\n",
      "magnitude histogramming: using user-supplied histogram for \"sdss_umag\"\n",
      "Incorporating bias \"sdss:gmag\" ...\n",
      "magnitude histogramming: using user-supplied histogram for \"sdss_gmag\"\n",
      "Incorporating bias \"sdss:rmag\" ...\n",
      "magnitude histogramming: using user-supplied histogram for \"sdss_rmag\"\n",
      "Incorporating bias \"sdss:imag\" ...\n",
      "magnitude histogramming: using user-supplied histogram for \"sdss_imag\"\n",
      "Incorporating bias \"sdss:zmag\" ...\n",
      "magnitude histogramming: using user-supplied histogram for \"sdss_zmag\"\n",
      "\n",
      "Computing final probabilities ...\n",
      "    grouping by primary catalogue ID and flagging ...\n",
      "matching: using fast flat-sky approximation for this match\n",
      "100%|██████████| 44797/44797 [00:00<00:00, 107546.13it/s]\n",
      "matching: collecting from 4952 buckets, creating cartesian products ...\n",
      "100%|██████████| 4952/4952 [00:00<00:00, 137129.57it/s]\n",
      "matching:   2410 unique matches from cartesian product. sorting ...\n",
      "    adding angular separation columns\n",
      "matching:   1643 matches after filtering by search radius\n",
      "Primary catalogue \"xxl\" (1238), density gives 1.62e+07 objects on entire sky\n",
      "Catalogue \"sdss\" (43559), density gives 5.69e+08 objects on entire sky\n",
      "Computing distance-based probabilities ...\n",
      "    correcting for unrelated associations ...\n",
      "100%|██████████| 1238/1238 [00:02<00:00, 597.82it/s]\n",
      "Incorporating bias \"sdss:umag\" ...\n",
      "magnitude histogramming: using user-supplied histogram for \"sdss_umag\"\n",
      "Incorporating bias \"sdss:gmag\" ...\n",
      "magnitude histogramming: using user-supplied histogram for \"sdss_gmag\"\n",
      "Incorporating bias \"sdss:rmag\" ...\n",
      "magnitude histogramming: using user-supplied histogram for \"sdss_rmag\"\n",
      "Incorporating bias \"sdss:imag\" ...\n",
      "magnitude histogramming: using user-supplied histogram for \"sdss_imag\"\n",
      "Incorporating bias \"sdss:zmag\" ...\n",
      "magnitude histogramming: using user-supplied histogram for \"sdss_zmag\"\n",
      "\n",
      "Computing final probabilities ...\n",
      "    grouping by primary catalogue ID and flagging ...\n",
      "WARNING: MergeConflictWarning: Cannot merge meta key 'ucd' types <class 'str'> and <class 'str'>, choosing ucd='ID_NUMBER' [astropy.utils.metadata]\n",
      "WARNING: MergeConflictWarning: Cannot merge meta key 'width' types <class 'int'> and <class 'int'>, choosing width=6 [astropy.utils.metadata]\n",
      "WARNING: MergeConflictWarning: In merged column 'SRCID_sdss' the 'description' attribute does not match (SDSS unique object identifier (2) != Internal sequence identifier (G1)).  Using Internal sequence identifier (G1) for merged output [astropy.utils.metadata]\n",
      "WARNING: MergeConflictWarning: Cannot merge meta key 'null' types <class 'float'> and <class 'float'>, choosing null=nan [astropy.utils.metadata]\n",
      "matching: using fast flat-sky approximation for this match\n",
      "100%|██████████| 45602/45602 [00:00<00:00, 149674.54it/s]\n",
      "matching: collecting from 4951 buckets, creating cartesian products ...\n",
      "100%|██████████| 4951/4951 [00:00<00:00, 132824.19it/s]\n",
      "matching:   3701 unique matches from cartesian product. sorting ...\n",
      "    adding angular separation columns\n",
      "matching:   2909 matches after filtering by search radius\n",
      "Primary catalogue \"xxl\" (1238), density gives 1.62e+07 objects on entire sky\n",
      "Catalogue \"sdss\" (44364), density gives 5.79e+08 objects on entire sky\n",
      "Computing distance-based probabilities ...\n",
      "    correcting for unrelated associations ...\n",
      "100%|██████████| 1238/1238 [00:02<00:00, 570.79it/s]\n",
      "Incorporating bias \"sdss:umag\" ...\n",
      "magnitude histogramming: using user-supplied histogram for \"sdss_umag\"\n",
      "Incorporating bias \"sdss:gmag\" ...\n",
      "magnitude histogramming: using user-supplied histogram for \"sdss_gmag\"\n",
      "Incorporating bias \"sdss:rmag\" ...\n",
      "magnitude histogramming: using user-supplied histogram for \"sdss_rmag\"\n",
      "Incorporating bias \"sdss:imag\" ...\n",
      "magnitude histogramming: using user-supplied histogram for \"sdss_imag\"\n",
      "Incorporating bias \"sdss:zmag\" ...\n",
      "magnitude histogramming: using user-supplied histogram for \"sdss_zmag\"\n",
      "\n",
      "Computing final probabilities ...\n",
      "    grouping by primary catalogue ID and flagging ...\n",
      "matching: using fast flat-sky approximation for this match\n",
      "100%|██████████| 44797/44797 [00:00<00:00, 153100.84it/s]\n",
      "matching: collecting from 4951 buckets, creating cartesian products ...\n"
     ]
    },
    {
     "name": "stderr",
     "output_type": "stream",
     "text": [
      "100%|██████████| 4951/4951 [00:00<00:00, 140470.26it/s]\n",
      "matching:   2484 unique matches from cartesian product. sorting ...\n",
      "    adding angular separation columns\n",
      "matching:   1649 matches after filtering by search radius\n",
      "Primary catalogue \"xxl\" (1238), density gives 1.62e+07 objects on entire sky\n",
      "Catalogue \"sdss\" (43559), density gives 5.69e+08 objects on entire sky\n",
      "Computing distance-based probabilities ...\n",
      "    correcting for unrelated associations ...\n",
      "100%|██████████| 1238/1238 [00:02<00:00, 597.39it/s]\n",
      "Incorporating bias \"sdss:umag\" ...\n",
      "magnitude histogramming: using user-supplied histogram for \"sdss_umag\"\n",
      "Incorporating bias \"sdss:gmag\" ...\n",
      "magnitude histogramming: using user-supplied histogram for \"sdss_gmag\"\n",
      "Incorporating bias \"sdss:rmag\" ...\n",
      "magnitude histogramming: using user-supplied histogram for \"sdss_rmag\"\n",
      "Incorporating bias \"sdss:imag\" ...\n",
      "magnitude histogramming: using user-supplied histogram for \"sdss_imag\"\n",
      "Incorporating bias \"sdss:zmag\" ...\n",
      "magnitude histogramming: using user-supplied histogram for \"sdss_zmag\"\n",
      "\n",
      "Computing final probabilities ...\n",
      "    grouping by primary catalogue ID and flagging ...\n",
      "WARNING: MergeConflictWarning: Cannot merge meta key 'ucd' types <class 'str'> and <class 'str'>, choosing ucd='ID_NUMBER' [astropy.utils.metadata]\n",
      "WARNING: MergeConflictWarning: Cannot merge meta key 'width' types <class 'int'> and <class 'int'>, choosing width=6 [astropy.utils.metadata]\n",
      "WARNING: MergeConflictWarning: In merged column 'SRCID_sdss' the 'description' attribute does not match (SDSS unique object identifier (2) != Internal sequence identifier (G1)).  Using Internal sequence identifier (G1) for merged output [astropy.utils.metadata]\n",
      "WARNING: MergeConflictWarning: Cannot merge meta key 'null' types <class 'float'> and <class 'float'>, choosing null=nan [astropy.utils.metadata]\n",
      "matching: using fast flat-sky approximation for this match\n",
      "100%|██████████| 45602/45602 [00:00<00:00, 135805.73it/s]\n",
      "matching: collecting from 4951 buckets, creating cartesian products ...\n",
      "100%|██████████| 4951/4951 [00:00<00:00, 128658.52it/s]\n",
      "matching:   3636 unique matches from cartesian product. sorting ...\n",
      "    adding angular separation columns\n",
      "matching:   2896 matches after filtering by search radius\n",
      "Primary catalogue \"xxl\" (1238), density gives 1.62e+07 objects on entire sky\n",
      "Catalogue \"sdss\" (44364), density gives 5.79e+08 objects on entire sky\n",
      "Computing distance-based probabilities ...\n",
      "    correcting for unrelated associations ...\n",
      "100%|██████████| 1238/1238 [00:02<00:00, 601.47it/s]\n",
      "Incorporating bias \"sdss:umag\" ...\n",
      "magnitude histogramming: using user-supplied histogram for \"sdss_umag\"\n",
      "Incorporating bias \"sdss:gmag\" ...\n",
      "magnitude histogramming: using user-supplied histogram for \"sdss_gmag\"\n",
      "Incorporating bias \"sdss:rmag\" ...\n",
      "magnitude histogramming: using user-supplied histogram for \"sdss_rmag\"\n",
      "Incorporating bias \"sdss:imag\" ...\n",
      "magnitude histogramming: using user-supplied histogram for \"sdss_imag\"\n",
      "Incorporating bias \"sdss:zmag\" ...\n",
      "magnitude histogramming: using user-supplied histogram for \"sdss_zmag\"\n",
      "\n",
      "Computing final probabilities ...\n",
      "    grouping by primary catalogue ID and flagging ...\n",
      "matching: using fast flat-sky approximation for this match\n",
      "100%|██████████| 44797/44797 [00:00<00:00, 106212.67it/s]\n",
      "matching: collecting from 4951 buckets, creating cartesian products ...\n",
      "100%|██████████| 4951/4951 [00:00<00:00, 132190.89it/s]\n",
      "matching:   2382 unique matches from cartesian product. sorting ...\n",
      "    adding angular separation columns\n",
      "matching:   1613 matches after filtering by search radius\n",
      "Primary catalogue \"xxl\" (1238), density gives 1.62e+07 objects on entire sky\n",
      "Catalogue \"sdss\" (43559), density gives 5.69e+08 objects on entire sky\n",
      "Computing distance-based probabilities ...\n",
      "    correcting for unrelated associations ...\n",
      "100%|██████████| 1238/1238 [00:02<00:00, 583.19it/s]\n",
      "Incorporating bias \"sdss:umag\" ...\n",
      "magnitude histogramming: using user-supplied histogram for \"sdss_umag\"\n",
      "Incorporating bias \"sdss:gmag\" ...\n",
      "magnitude histogramming: using user-supplied histogram for \"sdss_gmag\"\n",
      "Incorporating bias \"sdss:rmag\" ...\n",
      "magnitude histogramming: using user-supplied histogram for \"sdss_rmag\"\n",
      "Incorporating bias \"sdss:imag\" ...\n",
      "magnitude histogramming: using user-supplied histogram for \"sdss_imag\"\n",
      "Incorporating bias \"sdss:zmag\" ...\n",
      "magnitude histogramming: using user-supplied histogram for \"sdss_zmag\"\n",
      "\n",
      "Computing final probabilities ...\n",
      "    grouping by primary catalogue ID and flagging ...\n",
      "WARNING: MergeConflictWarning: Cannot merge meta key 'ucd' types <class 'str'> and <class 'str'>, choosing ucd='ID_NUMBER' [astropy.utils.metadata]\n",
      "WARNING: MergeConflictWarning: Cannot merge meta key 'width' types <class 'int'> and <class 'int'>, choosing width=6 [astropy.utils.metadata]\n",
      "WARNING: MergeConflictWarning: In merged column 'SRCID_sdss' the 'description' attribute does not match (SDSS unique object identifier (2) != Internal sequence identifier (G1)).  Using Internal sequence identifier (G1) for merged output [astropy.utils.metadata]\n",
      "WARNING: MergeConflictWarning: Cannot merge meta key 'null' types <class 'float'> and <class 'float'>, choosing null=nan [astropy.utils.metadata]\n",
      "matching: using fast flat-sky approximation for this match\n",
      "100%|██████████| 45602/45602 [00:00<00:00, 153103.11it/s]\n",
      "matching: collecting from 4947 buckets, creating cartesian products ...\n",
      "100%|██████████| 4947/4947 [00:00<00:00, 127863.77it/s]\n",
      "matching:   3631 unique matches from cartesian product. sorting ...\n",
      "    adding angular separation columns\n",
      "matching:   2893 matches after filtering by search radius\n",
      "Primary catalogue \"xxl\" (1238), density gives 1.62e+07 objects on entire sky\n",
      "Catalogue \"sdss\" (44364), density gives 5.79e+08 objects on entire sky\n",
      "Computing distance-based probabilities ...\n",
      "    correcting for unrelated associations ...\n",
      "100%|██████████| 1238/1238 [00:02<00:00, 593.09it/s]\n",
      "Incorporating bias \"sdss:umag\" ...\n",
      "magnitude histogramming: using user-supplied histogram for \"sdss_umag\"\n",
      "Incorporating bias \"sdss:gmag\" ...\n",
      "magnitude histogramming: using user-supplied histogram for \"sdss_gmag\"\n",
      "Incorporating bias \"sdss:rmag\" ...\n",
      "magnitude histogramming: using user-supplied histogram for \"sdss_rmag\"\n",
      "Incorporating bias \"sdss:imag\" ...\n",
      "magnitude histogramming: using user-supplied histogram for \"sdss_imag\"\n",
      "Incorporating bias \"sdss:zmag\" ...\n",
      "magnitude histogramming: using user-supplied histogram for \"sdss_zmag\"\n",
      "\n",
      "Computing final probabilities ...\n",
      "    grouping by primary catalogue ID and flagging ...\n",
      "matching: using fast flat-sky approximation for this match\n",
      "100%|██████████| 44797/44797 [00:00<00:00, 152559.09it/s]\n",
      "matching: collecting from 4951 buckets, creating cartesian products ...\n",
      "100%|██████████| 4951/4951 [00:00<00:00, 136005.50it/s]\n",
      "matching:   2387 unique matches from cartesian product. sorting ...\n",
      "    adding angular separation columns\n",
      "matching:   1635 matches after filtering by search radius\n",
      "Primary catalogue \"xxl\" (1238), density gives 1.62e+07 objects on entire sky\n",
      "Catalogue \"sdss\" (43559), density gives 5.69e+08 objects on entire sky\n",
      "Computing distance-based probabilities ...\n",
      "    correcting for unrelated associations ...\n",
      "100%|██████████| 1238/1238 [00:02<00:00, 596.95it/s]\n",
      "Incorporating bias \"sdss:umag\" ...\n",
      "magnitude histogramming: using user-supplied histogram for \"sdss_umag\"\n",
      "Incorporating bias \"sdss:gmag\" ...\n",
      "magnitude histogramming: using user-supplied histogram for \"sdss_gmag\"\n",
      "Incorporating bias \"sdss:rmag\" ...\n",
      "magnitude histogramming: using user-supplied histogram for \"sdss_rmag\"\n",
      "Incorporating bias \"sdss:imag\" ...\n",
      "magnitude histogramming: using user-supplied histogram for \"sdss_imag\"\n",
      "Incorporating bias \"sdss:zmag\" ...\n",
      "magnitude histogramming: using user-supplied histogram for \"sdss_zmag\"\n",
      "\n",
      "Computing final probabilities ...\n",
      "    grouping by primary catalogue ID and flagging ...\n",
      "WARNING: MergeConflictWarning: Cannot merge meta key 'ucd' types <class 'str'> and <class 'str'>, choosing ucd='ID_NUMBER' [astropy.utils.metadata]\n",
      "WARNING: MergeConflictWarning: Cannot merge meta key 'width' types <class 'int'> and <class 'int'>, choosing width=6 [astropy.utils.metadata]\n",
      "WARNING: MergeConflictWarning: In merged column 'SRCID_sdss' the 'description' attribute does not match (SDSS unique object identifier (2) != Internal sequence identifier (G1)).  Using Internal sequence identifier (G1) for merged output [astropy.utils.metadata]\n",
      "WARNING: MergeConflictWarning: Cannot merge meta key 'null' types <class 'float'> and <class 'float'>, choosing null=nan [astropy.utils.metadata]\n"
     ]
    },
    {
     "name": "stderr",
     "output_type": "stream",
     "text": [
      "matching: using fast flat-sky approximation for this match\n",
      "100%|██████████| 45602/45602 [00:00<00:00, 79636.90it/s]\n",
      "matching: collecting from 4951 buckets, creating cartesian products ...\n",
      "100%|██████████| 4951/4951 [00:00<00:00, 115009.49it/s]\n",
      "matching:   3672 unique matches from cartesian product. sorting ...\n",
      "    adding angular separation columns\n",
      "matching:   2888 matches after filtering by search radius\n",
      "Primary catalogue \"xxl\" (1238), density gives 1.62e+07 objects on entire sky\n",
      "Catalogue \"sdss\" (44364), density gives 5.79e+08 objects on entire sky\n",
      "Computing distance-based probabilities ...\n",
      "    correcting for unrelated associations ...\n",
      "100%|██████████| 1238/1238 [00:03<00:00, 366.64it/s]\n",
      "Incorporating bias \"sdss:umag\" ...\n",
      "magnitude histogramming: using user-supplied histogram for \"sdss_umag\"\n",
      "Incorporating bias \"sdss:gmag\" ...\n",
      "magnitude histogramming: using user-supplied histogram for \"sdss_gmag\"\n",
      "Incorporating bias \"sdss:rmag\" ...\n",
      "magnitude histogramming: using user-supplied histogram for \"sdss_rmag\"\n",
      "Incorporating bias \"sdss:imag\" ...\n",
      "magnitude histogramming: using user-supplied histogram for \"sdss_imag\"\n",
      "Incorporating bias \"sdss:zmag\" ...\n",
      "magnitude histogramming: using user-supplied histogram for \"sdss_zmag\"\n",
      "\n",
      "Computing final probabilities ...\n",
      "    grouping by primary catalogue ID and flagging ...\n"
     ]
    }
   ],
   "source": [
    "nway_stats = xm.stats(ncutoff=100, maxcutoff=0.99)\n",
    "nway_stats_rnd = xm.stats(match_rnd=True, ncutoff=100, maxcutoff=0.99, prior_completeness=0.55)\n",
    "nway_stats_broos = xm.stats(use_broos=True, ntest=5, ncutoff=100, maxcutoff=0.99, prior_completeness=0.55)"
   ]
  },
  {
   "cell_type": "code",
   "execution_count": 41,
   "metadata": {},
   "outputs": [
    {
     "data": {
      "image/png": "[encoded data removed]",
      "text/plain": [
       "<Figure size 936x360 with 2 Axes>"
      ]
     },
     "metadata": {
      "needs_background": "light"
     },
     "output_type": "display_data"
    }
   ],
   "source": [
    "fig = plt.figure(figsize=(13, 5))\n",
    "\n",
    "plt.subplot(121)\n",
    "plt.plot(nway_stats['cutoff'], nway_stats['error_rate'], lw=3, label='stats')\n",
    "plt.plot(nway_stats_rnd['cutoff'], nway_stats_rnd['error_rate'], lw=3, ls=':', label='random')\n",
    "plt.plot(nway_stats_broos['cutoff'], nway_stats_broos['error_rate'], lw=3, ls='--', label='broos')\n",
    "plt.legend()\n",
    "\n",
    "plt.xlabel('prob_has_match')\n",
    "plt.ylabel('error rate')\n",
    "\n",
    "\n",
    "plt.subplot(122)\n",
    "plt.plot(nway_stats['reliability'], nway_stats['completeness'], lw=3)\n",
    "plt.plot(nway_stats_rnd['reliability'], nway_stats_rnd['completeness'], lw=3, ls=':')\n",
    "plt.plot(nway_stats_broos['reliability'], nway_stats_broos['completeness'], lw=3, ls='--')\n",
    "\n",
    "plt.xlabel('purity')\n",
    "plt.ylabel('completeness')\n",
    "\n",
    "plt.tight_layout()\n",
    "plt.show()"
   ]
  }
 ],
 "metadata": {
  "kernelspec": {
   "display_name": "Python 3",
   "language": "python",
   "name": "python3"
  },
  "language_info": {
   "codemirror_mode": {
    "name": "ipython",
    "version": 3
   },
   "file_extension": ".py",
   "mimetype": "text/x-python",
   "name": "python",
   "nbconvert_exporter": "python",
   "pygments_lexer": "ipython3",
   "version": "3.8.3"
  }
 },
 "nbformat": 4,
 "nbformat_minor": 2
}
