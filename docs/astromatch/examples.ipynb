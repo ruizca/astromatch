{
 "cells": [
  {
   "cell_type": "markdown",
   "metadata": {},
   "source": [
    "Astromatch\n",
    "==========\n",
    "\n",
    "Astromatch is a python module for statistical cross-matching of astronomical catalogues. It implements different matching methods and provides a consistent output format (as far as possible) for all of them. This allows easy comparisons between different methods.\n",
    "\n",
    "Astromatch is design as a coherent framework, well integrated with other tools in the Astropy package. When using Astromatch, you should keep in mind that it is more a library that allows you to write your own python scripts for cross-matching astronomical catalogues, than a simple stand-alone software."
   ]
  },
  {
   "cell_type": "markdown",
   "metadata": {},
   "source": [
    "Catalogue objects\n",
    "---------------------------\n",
    "\n",
    "Astromatch provides a useful data structure for defining an astronomical catalogue. The basic information needed for building a ``Catalogue`` object is the position of the sources, the positional errors, their ID labels and the area covered by the catalogue. Having a reasonable estimation of the catalogue area is crucial when using statistical cross-matching methods."
   ]
  },
  {
   "cell_type": "markdown",
   "metadata": {},
   "source": [
    "As an example, lets build an Astromatch Catalogue for X-ray sources in a sky region of 1 deg radius within the XXL-North survey. \n",
    "\n",
    "Lets firs retrieve the data we need from the Vizier database (we will use only the data from the 0.5-2 keV band):"
   ]
  },
  {
   "cell_type": "code",
   "execution_count": 1,
   "metadata": {},
   "outputs": [],
   "source": [
    "%load_ext autoreload\n",
    "%autoreload 2"
   ]
  },
  {
   "cell_type": "code",
   "execution_count": 2,
   "metadata": {},
   "outputs": [],
   "source": [
    "from astropy import units as u\n",
    "from astropy.coordinates import SkyCoord\n",
    "from astropy.table import Table\n",
    "\n",
    "\n",
    "region_center = SkyCoord(ra=35.30109, dec=-4.45962, unit='deg')\n",
    "search_radius = 1*u.deg\n",
    "\n",
    "try:\n",
    "    xcat_table = Table.read('xxl_1deg.fits')\n",
    "\n",
    "except FileNotFoundError:\n",
    "    from astroquery.vizier import Vizier\n",
    "\n",
    "    v = Vizier(\n",
    "        columns=['Xseq', 'RABdeg', 'DEBdeg', 'e_Bpos'],\n",
    "        column_filters={'e_Bpos':'>0', 'Bp1': '==1'},\n",
    "        row_limit=-1,\n",
    "    )\n",
    "    result = v.query_region(region_center, radius=search_radius, catalog='IX/52/3xlss')\n",
    "    xcat_table = result[0]\n",
    "    xcat_table.meta['description'] = ''\n",
    "    xcat_table.write('xxl_1deg.fits', format='fits', overwrite=True)"
   ]
  },
  {
   "cell_type": "markdown",
   "metadata": {},
   "source": [
    "We use the output of the Vizier query for building the corresponding Astromatch catalogue:"
   ]
  },
  {
   "cell_type": "code",
   "execution_count": 3,
   "metadata": {},
   "outputs": [
    {
     "data": {
      "text/plain": [
       "SRCID_xxl    RA      DEC    e_Bpos\n",
       "            deg      deg    arcsec\n",
       "--------- -------- -------- ------\n",
       "   225328 34.31101  -4.6003    0.8\n",
       "   225285  34.3179 -4.50244    1.8\n",
       "   214851  34.3196 -4.28354    1.8\n",
       "   225342  34.3372 -4.63358    1.7\n",
       "   215403 34.33934 -4.18971    1.8\n",
       "   225338 34.34105 -4.61523    1.7\n",
       "   214878 34.34372 -4.37113    0.8\n",
       "   225341 34.34508 -4.62884    1.7\n",
       "   225368 34.34713 -4.69338    1.3\n",
       "   214858 34.34764 -4.31242    1.0\n",
       "      ...      ...      ...    ...\n",
       "   217268 36.26386 -4.19097    1.8\n",
       "   217929 36.26876 -4.61878    1.5\n",
       "   217307 36.27068   -4.308    1.9\n",
       "   217889 36.27654  -4.4801    0.8\n",
       "   217928 36.27669  -4.6049    1.0\n",
       "   217919 36.28076 -4.56787    1.3\n",
       "   217296 36.28341 -4.27467    1.5\n",
       "   217927 36.29433 -4.59714    1.0\n",
       "   217894   36.294 -4.49086    1.7\n",
       "   217882 36.29906 -4.46167    1.7\n",
       "Length = 1238 rows"
      ]
     },
     "execution_count": 3,
     "metadata": {},
     "output_type": "execute_result"
    }
   ],
   "source": [
    "import numpy as np\n",
    "from astromatch import Catalogue\n",
    "\n",
    "xcat = Catalogue(\n",
    "    xcat_table,\n",
    "    name='xxl',\n",
    "    id_col='Xseq',\n",
    "    coord_cols=['RABdeg', 'DEBdeg'],\n",
    "    poserr_cols=['e_Bpos'],\n",
    "    poserr_type='circle',\n",
    "    area=np.pi * search_radius**2,\n",
    ")\n",
    "xcat"
   ]
  },
  {
   "cell_type": "markdown",
   "metadata": {},
   "source": [
    "Astropy units for coordinates and positional errors of the Catalogue are always defined. If the initial data have no units defined for those columns, Astromatch asigns by default degrees to the coordinates and arcsec for the positional errors. By default it assumes that coordinates are in the ICRS reference frame (equatorial system). Other frames can be used by setting the `frame` parameter while defining the Catalogue (see the Astropy SkyCoord documentation for all suported frames). Internally all coordinates frames are transformed into ICRS."
   ]
  },
  {
   "cell_type": "markdown",
   "metadata": {},
   "source": [
    "Instead of passing an Astropy Table for the definition of the catalogue, a path to a file (in a tabular format suported by Astropy) can be used:"
   ]
  },
  {
   "cell_type": "code",
   "execution_count": 4,
   "metadata": {},
   "outputs": [],
   "source": [
    "xcat = Catalogue(\n",
    "    'xxl_1deg.fits',\n",
    "    name='xxl',\n",
    "    id_col='Xseq',\n",
    "    coord_cols=['RABdeg', 'DEBdeg'],\n",
    "    poserr_cols=['e_Bpos'],\n",
    "    poserr_type='circle',\n",
    "    area=np.pi * search_radius**2,\n",
    ")"
   ]
  },
  {
   "cell_type": "markdown",
   "metadata": {},
   "source": [
    "The area of the Catalogue can be set using a MOC object (or the path to a file containing the MOC). The ``mocpy`` package have multiple tools for defining MOCs. For example, for the circular sky region we queried, we can define the following MOC:"
   ]
  },
  {
   "cell_type": "code",
   "execution_count": 5,
   "metadata": {},
   "outputs": [],
   "source": [
    "from mocpy import MOC\n",
    "\n",
    "moc_xxl = MOC.from_elliptical_cone(\n",
    "    lon=region_center.ra,\n",
    "    lat=region_center.dec,\n",
    "    a=search_radius,\n",
    "    b=search_radius,\n",
    "    pa=0*u.deg,\n",
    "    max_depth=14\n",
    ")"
   ]
  },
  {
   "cell_type": "markdown",
   "metadata": {},
   "source": [
    "Now we can use the MOC for the Catalogue definition:"
   ]
  },
  {
   "cell_type": "code",
   "execution_count": 6,
   "metadata": {},
   "outputs": [
    {
     "data": {
      "text/latex": [
       "$3.1595047 \\; \\mathrm{deg^{2}}$"
      ],
      "text/plain": [
       "<Quantity 3.15950474 deg2>"
      ]
     },
     "execution_count": 6,
     "metadata": {},
     "output_type": "execute_result"
    }
   ],
   "source": [
    "xcat = Catalogue(\n",
    "    'xxl_1deg.fits',\n",
    "    name='xxl',\n",
    "    id_col='Xseq',\n",
    "    coord_cols=['RABdeg', 'DEBdeg'],\n",
    "    poserr_cols=['e_Bpos'],\n",
    "    poserr_type='circle',\n",
    "    area=moc_xxl,\n",
    ")\n",
    "xcat.area"
   ]
  },
  {
   "cell_type": "markdown",
   "metadata": {},
   "source": [
    "We strongly recomend using MOCs for defining the areas covered by Catalogues. When cross-matching catalogues with partial common coverage, Astromatch can use the corresponding MOCs to cross-match only the sources in the common area."
   ]
  },
  {
   "cell_type": "markdown",
   "metadata": {},
   "source": [
    "Catalogues can be access by index and sliced as Python lists:"
   ]
  },
  {
   "cell_type": "code",
   "execution_count": 7,
   "metadata": {},
   "outputs": [
    {
     "data": {
      "text/plain": [
       "SRCID_xxl    RA      DEC    e_Bpos\n",
       "            deg      deg    arcsec\n",
       "--------- -------- -------- ------\n",
       "   225336 34.35209 -4.61097    2.0\n",
       "   225330 34.38474  -4.5968    2.0\n",
       "   225412 34.40112 -4.79919    1.9"
      ]
     },
     "execution_count": 7,
     "metadata": {},
     "output_type": "execute_result"
    }
   ],
   "source": [
    "xcat[10]\n",
    "xcat[10:20]\n",
    "xcat[[10, 20, 30]]"
   ]
  },
  {
   "cell_type": "markdown",
   "metadata": {},
   "source": [
    "It is also possible to select sources by their ids:"
   ]
  },
  {
   "cell_type": "code",
   "execution_count": 8,
   "metadata": {},
   "outputs": [
    {
     "data": {
      "text/plain": [
       "SRCID_xxl    RA      DEC    e_Bpos\n",
       "            deg      deg    arcsec\n",
       "--------- -------- -------- ------\n",
       "   225336 34.35209 -4.61097    2.0\n",
       "   225330 34.38474  -4.5968    2.0\n",
       "   225412 34.40112 -4.79919    1.9"
      ]
     },
     "execution_count": 8,
     "metadata": {},
     "output_type": "execute_result"
    }
   ],
   "source": [
    "list_of_ids = ['225336', '225330', '225412']\n",
    "xcat_new = xcat.select_by_id(list_of_ids)\n",
    "xcat_new"
   ]
  },
  {
   "cell_type": "markdown",
   "metadata": {},
   "source": [
    "Sources can also be removed by id from a Catalogue:"
   ]
  },
  {
   "cell_type": "code",
   "execution_count": 9,
   "metadata": {},
   "outputs": [
    {
     "data": {
      "text/plain": [
       "SRCID_xxl    RA      DEC    e_Bpos\n",
       "            deg      deg    arcsec\n",
       "--------- -------- -------- ------\n",
       "   225328 34.31101  -4.6003    0.8\n",
       "   225285  34.3179 -4.50244    1.8\n",
       "   214851  34.3196 -4.28354    1.8\n",
       "   225342  34.3372 -4.63358    1.7\n",
       "   215403 34.33934 -4.18971    1.8\n",
       "   225338 34.34105 -4.61523    1.7\n",
       "   214878 34.34372 -4.37113    0.8\n",
       "   225341 34.34508 -4.62884    1.7\n",
       "   225368 34.34713 -4.69338    1.3\n",
       "   214858 34.34764 -4.31242    1.0\n",
       "      ...      ...      ...    ...\n",
       "   217268 36.26386 -4.19097    1.8\n",
       "   217929 36.26876 -4.61878    1.5\n",
       "   217307 36.27068   -4.308    1.9\n",
       "   217889 36.27654  -4.4801    0.8\n",
       "   217928 36.27669  -4.6049    1.0\n",
       "   217919 36.28076 -4.56787    1.3\n",
       "   217296 36.28341 -4.27467    1.5\n",
       "   217927 36.29433 -4.59714    1.0\n",
       "   217894   36.294 -4.49086    1.7\n",
       "   217882 36.29906 -4.46167    1.7\n",
       "Length = 1235 rows"
      ]
     },
     "execution_count": 9,
     "metadata": {},
     "output_type": "execute_result"
    }
   ],
   "source": [
    "list_of_ids = ['225336', '225330', '225412']\n",
    "xcat_new = xcat.remove_by_id(list_of_ids)\n",
    "xcat_new"
   ]
  },
  {
   "cell_type": "markdown",
   "metadata": {},
   "source": [
    "Two Catalogue objects can be joined in a single Catalogue:"
   ]
  },
  {
   "cell_type": "code",
   "execution_count": 10,
   "metadata": {},
   "outputs": [
    {
     "data": {
      "text/plain": [
       "SRCID_xxl    RA      DEC    e_Bpos\n",
       "            deg      deg    arcsec\n",
       "--------- -------- -------- ------\n",
       "   214851  34.3196 -4.28354    1.8\n",
       "   214857 34.36319 -4.31538    1.5\n",
       "   225285  34.3179 -4.50244    1.8\n",
       "   225289 34.35908 -4.51431    1.8\n",
       "   225336 34.35209 -4.61097    2.0\n",
       "   225342  34.3372 -4.63358    1.7\n",
       "   226800 34.35493  -4.1663    1.6"
      ]
     },
     "execution_count": 10,
     "metadata": {},
     "output_type": "execute_result"
    }
   ],
   "source": [
    "cat1 = xcat[1:4]\n",
    "cat2 = xcat[10:14]\n",
    "\n",
    "cat1.join(cat2)"
   ]
  },
  {
   "cell_type": "markdown",
   "metadata": {},
   "source": [
    "The different atributes of the Catalogue can be access independently:"
   ]
  },
  {
   "cell_type": "code",
   "execution_count": 11,
   "metadata": {},
   "outputs": [
    {
     "data": {
      "text/plain": [
       "<SkyCoordErr (circle): (e_Bpos) in arcsec\n",
       "    [(0.8,) (1.8,) (1.8,) ... (1. ,) (1.7,) (1.7,)]>"
      ]
     },
     "execution_count": 11,
     "metadata": {},
     "output_type": "execute_result"
    }
   ],
   "source": [
    "# IDs\n",
    "xcat.ids\n",
    "\n",
    "# Area\n",
    "xcat.area\n",
    "\n",
    "# Coordinates\n",
    "xcat.coords\n",
    "\n",
    "# Positional errors\n",
    "xcat.poserr"
   ]
  },
  {
   "cell_type": "markdown",
   "metadata": {},
   "source": [
    "The positional errors are defined as SkyCoordErr objects. This class allows to manipulate the errors in several ways. For example, adding a systematic error:"
   ]
  },
  {
   "cell_type": "code",
   "execution_count": 12,
   "metadata": {},
   "outputs": [
    {
     "name": "stdout",
     "output_type": "stream",
     "text": [
      "SRCID_xxl    RA      DEC      e_Bpos \n",
      "            deg      deg      arcsec \n",
      "--------- -------- -------- ---------\n",
      "   225328 34.31101  -4.6003       1.7\n",
      "   225285  34.3179 -4.50244 2.3430748\n",
      "   214851  34.3196 -4.28354 2.3430748\n",
      "   225342  34.3372 -4.63358 2.2671568\n",
      "   215403 34.33934 -4.18971 2.3430748\n",
      "   225338 34.34105 -4.61523 2.2671568\n",
      "   214878 34.34372 -4.37113       1.7\n",
      "   225341 34.34508 -4.62884 2.2671568\n",
      "   225368 34.34713 -4.69338 1.9849433\n",
      "   214858 34.34764 -4.31242 1.8027756\n",
      "      ...      ...      ...       ...\n",
      "   217268 36.26386 -4.19097 2.3430748\n",
      "   217929 36.26876 -4.61878 2.1213202\n",
      "   217307 36.27068   -4.308 2.4207437\n",
      "   217889 36.27654  -4.4801       1.7\n",
      "   217928 36.27669  -4.6049 1.8027756\n",
      "   217919 36.28076 -4.56787 1.9849433\n",
      "   217296 36.28341 -4.27467 2.1213202\n",
      "   217927 36.29433 -4.59714 1.8027756\n",
      "   217894   36.294 -4.49086 2.2671568\n",
      "   217882 36.29906 -4.46167 2.2671568\n",
      "Length = 1238 rows\n"
     ]
    }
   ],
   "source": [
    "# Save the original positional errors\n",
    "old_poserr = xcat.poserr[:]\n",
    "\n",
    "# Add systematic error to the catalogue\n",
    "xcat.poserr.add_syserr(1.5*u.arcsec)\n",
    "print(xcat)\n",
    "\n",
    "# Recover original errors\n",
    "xcat.poserr = old_poserr"
   ]
  },
  {
   "cell_type": "markdown",
   "metadata": {},
   "source": [
    "Cross-matching: Match\n",
    "----------------------------------\n",
    "\n",
    "The ``Match`` class is the basic tool for cross-matching Catalogues. It can use several matching algorithms, and implements different methods to calculate the statistical properties (completeness, error rate, etc) of the results.\n",
    "\n",
    "As an example, we will cross-match the catalogue of X-ray sources we defined above with a catalogue of optical sources from the SDSS. First, we download the data we need, if it is not already available. We will use the optical magnitudes during the cross-match, so we need to download that too:"
   ]
  },
  {
   "cell_type": "code",
   "execution_count": 13,
   "metadata": {},
   "outputs": [],
   "source": [
    "sdss_mags = ['umag', 'gmag', 'rmag', 'imag', 'zmag']\n",
    "\n",
    "try:\n",
    "    ocat_table = Table.read('sdss_1deg.fits')\n",
    "\n",
    "except FileNotFoundError:\n",
    "    from astroquery.vizier import Vizier\n",
    "\n",
    "    sdss_cols = ['objID', 'RA_ICRS', 'DE_ICRS', 'e_RA_ICRS', 'e_DE_ICRS'] + sdss_mags\n",
    "\n",
    "    v = Vizier(\n",
    "        columns=sdss_cols,\n",
    "        column_filters={'mode': '=1', 'q_mode': '=+', 'e_RA_ICRS': '>0', 'e_DE_ICRS': '>0'},\n",
    "        row_limit=-1,\n",
    "    )\n",
    "    result = v.query_region(region_center, radius=1*u.deg, catalog='V/147/sdss12')\n",
    "    ocat_table = result[0]\n",
    "    ocat_table.meta['description'] = ''\n",
    "    ocat_table.write('sdss_1deg.fits', format='fits', overwrite=True)"
   ]
  },
  {
   "cell_type": "markdown",
   "metadata": {},
   "source": [
    "Now we can define a new Catalogue. Since the optical sources are from the exact same sky region as the X-ray sources, we can use the MOC we defined above to set the area of the Catalogue. Note also that here we are using a different type for the positional errors:"
   ]
  },
  {
   "cell_type": "code",
   "execution_count": 14,
   "metadata": {},
   "outputs": [],
   "source": [
    "ocat = Catalogue(\n",
    "    ocat_table,\n",
    "    name='sdss',\n",
    "    id_col='objID',\n",
    "    coord_cols=['RA_ICRS', 'DE_ICRS'],\n",
    "    poserr_cols=['e_RA_ICRS', 'e_DE_ICRS'],\n",
    "    poserr_type='rcd_dec_ellipse',\n",
    "    area=moc_xxl,\n",
    "    mag_cols=sdss_mags,\n",
    ")"
   ]
  },
  {
   "cell_type": "markdown",
   "metadata": {},
   "source": [
    "We define a match between `xcat` and `ocat`:"
   ]
  },
  {
   "cell_type": "code",
   "execution_count": 15,
   "metadata": {},
   "outputs": [
    {
     "name": "stdout",
     "output_type": "stream",
     "text": [
      "INFO: Selecting sources in common area... [astromatch.core]\n",
      "INFO: xxl catalogue: 1238 sources in common area. [astromatch.core]\n",
      "INFO: sdss catalogue: 43559 sources in common area. [astromatch.core]\n"
     ]
    }
   ],
   "source": [
    "from astromatch import Match\n",
    "\n",
    "xm = Match(xcat, ocat)"
   ]
  },
  {
   "cell_type": "markdown",
   "metadata": {},
   "source": [
    "We calculate the cross-match using the likelihood ratio method. We use a search radius of 10 arcsec, and we assume that the statistical distribution of positional errors follows a normal distribution (by default the likelihood ratio method assumes a Rayleigh distribution):"
   ]
  },
  {
   "cell_type": "code",
   "execution_count": 16,
   "metadata": {},
   "outputs": [
    {
     "name": "stdout",
     "output_type": "stream",
     "text": [
      "INFO: Using LR method: [astromatch.core]\n"
     ]
    },
    {
     "name": "stderr",
     "output_type": "stream",
     "text": [
      "WARNING: Converting non-circular to circular errors! New errors will preserve the area. [astromatch.catalogues]\n"
     ]
    },
    {
     "name": "stdout",
     "output_type": "stream",
     "text": [
      "INFO: Searching for match candidates within 10.0 arcsec... [astromatch.lr]\n",
      "INFO: Calculating priors... [astromatch.lr]\n",
      "INFO: Estimating priors using Catalogues: xxl and sdss... [astromatch.priors]\n",
      "INFO: Using columns: ['umag', 'gmag', 'rmag', 'imag', 'zmag'] [astromatch.priors]\n",
      "INFO: Calculating likelihood ratios for match candidates... [astromatch.lr]\n",
      "INFO: Sorting and flagging match results... [astromatch.lr]\n"
     ]
    }
   ],
   "source": [
    "match_results_lr = xm.run(method='lr', radius=10.0*u.arcsec, poserr_dist=\"normal\")"
   ]
  },
  {
   "cell_type": "markdown",
   "metadata": {},
   "source": [
    "By default all cross-matching methods included in astromatch try to estimate magnitude priors using the information provided within the catalogues."
   ]
  },
  {
   "cell_type": "code",
   "execution_count": 17,
   "metadata": {},
   "outputs": [
    {
     "data": {
      "image/png": "[encoded data removed]",
      "text/plain": [
       "<Figure size 432x288 with 1 Axes>"
      ]
     },
     "metadata": {
      "needs_background": "light"
     },
     "output_type": "display_data"
    },
    {
     "name": "stdout",
     "output_type": "stream",
     "text": [
      "Overal identification rate for PRIOR0 (umag band): 0.536184\n"
     ]
    },
    {
     "data": {
      "image/png": "[encoded data removed]",
      "text/plain": [
       "<Figure size 432x288 with 1 Axes>"
      ]
     },
     "metadata": {
      "needs_background": "light"
     },
     "output_type": "display_data"
    },
    {
     "name": "stdout",
     "output_type": "stream",
     "text": [
      "Overal identification rate for PRIOR1 (gmag band): 0.537316\n"
     ]
    },
    {
     "data": {
      "image/png": "[encoded data removed]",
      "text/plain": [
       "<Figure size 432x288 with 1 Axes>"
      ]
     },
     "metadata": {
      "needs_background": "light"
     },
     "output_type": "display_data"
    },
    {
     "name": "stdout",
     "output_type": "stream",
     "text": [
      "Overal identification rate for PRIOR2 (rmag band): 0.535093\n"
     ]
    },
    {
     "data": {
      "image/png": "[encoded data removed]",
      "text/plain": [
       "<Figure size 432x288 with 1 Axes>"
      ]
     },
     "metadata": {
      "needs_background": "light"
     },
     "output_type": "display_data"
    },
    {
     "name": "stdout",
     "output_type": "stream",
     "text": [
      "Overal identification rate for PRIOR3 (imag band): 0.535472\n"
     ]
    },
    {
     "data": {
      "image/png": "[encoded data removed]",
      "text/plain": [
       "<Figure size 432x288 with 1 Axes>"
      ]
     },
     "metadata": {
      "needs_background": "light"
     },
     "output_type": "display_data"
    },
    {
     "name": "stdout",
     "output_type": "stream",
     "text": [
      "Overal identification rate for PRIOR4 (zmag band): 0.535579\n"
     ]
    }
   ],
   "source": [
    "for p in xm.priors.magnames:\n",
    "    xm.priors.plot(p)\n",
    "    print(\n",
    "        \"Overal identification rate for {} ({} band): {:02f}\".format(\n",
    "            p, xm.priors.prior_dict[p][\"name\"][0], xm.priors.qcap(p)\n",
    "        )\n",
    "    )"
   ]
  },
  {
   "cell_type": "markdown",
   "metadata": {},
   "source": [
    "Priors can be stored into files for later use:"
   ]
  },
  {
   "cell_type": "code",
   "execution_count": 18,
   "metadata": {},
   "outputs": [],
   "source": [
    "prior_table = xm.priors.to_table(include_bkg_priors=True)\n",
    "prior_table.write(\"lrpriors.fits\", format=\"fits\", overwrite=True)\n"
   ]
  },
  {
   "cell_type": "markdown",
   "metadata": {},
   "source": [
    "Full output of the LR algorithm:"
   ]
  },
  {
   "cell_type": "code",
   "execution_count": 19,
   "metadata": {},
   "outputs": [
    {
     "data": {
      "text/html": [
       "<i>Table length=1073</i>\n",
       "<table id=\"table139933592884032\" class=\"table-striped table-bordered table-condensed\">\n",
       "<thead><tr><th>SRCID_xxl</th><th>SRCID_sdss</th><th>Separation_xxl_sdss</th><th>ncat</th><th>PEF</th><th>LR_PRIOR0</th><th>LR_PRIOR1</th><th>LR_PRIOR2</th><th>LR_PRIOR3</th><th>LR_PRIOR4</th><th>REL_PRIOR0</th><th>p_any_PRIOR0</th><th>p_i_PRIOR0</th><th>REL_PRIOR1</th><th>p_any_PRIOR1</th><th>p_i_PRIOR1</th><th>REL_PRIOR2</th><th>p_any_PRIOR2</th><th>p_i_PRIOR2</th><th>REL_PRIOR3</th><th>p_any_PRIOR3</th><th>p_i_PRIOR3</th><th>REL_PRIOR4</th><th>p_any_PRIOR4</th><th>p_i_PRIOR4</th><th>LR_BEST</th><th>REL_BEST</th><th>LR_BEST_MAG</th><th>prob_has_match</th><th>prob_this_match</th></tr></thead>\n",
       "<thead><tr><th></th><th></th><th>arcsec</th><th></th><th>1 / arcsec2</th><th></th><th></th><th></th><th></th><th></th><th></th><th></th><th></th><th></th><th></th><th></th><th></th><th></th><th></th><th></th><th></th><th></th><th></th><th></th><th></th><th></th><th></th><th></th><th></th><th></th></tr></thead>\n",
       "<thead><tr><th>str11</th><th>str21</th><th>float64</th><th>int64</th><th>float64</th><th>float64</th><th>float64</th><th>float64</th><th>float64</th><th>float64</th><th>float64</th><th>float64</th><th>float64</th><th>float64</th><th>float64</th><th>float64</th><th>float64</th><th>float64</th><th>float64</th><th>float64</th><th>float64</th><th>float64</th><th>float64</th><th>float64</th><th>float64</th><th>float64</th><th>float64</th><th>bytes6</th><th>float64</th><th>float64</th></tr></thead>\n",
       "<tr><td>208384</td><td>1237679323935408452</td><td>3.509611010899394</td><td>2</td><td>0.004619385231110828</td><td>0.6412782277149981</td><td>1.064703243952401</td><td>1.2116442020347868</td><td>1.764048533594662</td><td>1.9344133242860126</td><td>0.5802927597971037</td><td>0.5802927597971037</td><td>1.0</td><td>0.6970747675699615</td><td>0.6970747675699615</td><td>1.0</td><td>0.7227004777748501</td><td>0.7227004777748501</td><td>1.0</td><td>0.7915582981776547</td><td>0.7915582981776547</td><td>1.0</td><td>0.806397053283155</td><td>0.806397053283155</td><td>1.0</td><td>1.9344133242860126</td><td>0.806397053283155</td><td>PRIOR4</td><td>0.806397053283155</td><td>1.0</td></tr>\n",
       "<tr><td>208385</td><td>1237679323935408430</td><td>8.155210562432602</td><td>2</td><td>6.272762025102117e-16</td><td>1.173831005591134e-13</td><td>1.445783311529885e-13</td><td>1.9292274221114706e-13</td><td>2.9416330128694134e-13</td><td>3.1347220817788203e-13</td><td>1.235646373715037e-15</td><td>0.9951175879750264</td><td>1.2417089082200474e-15</td><td>1.6262824444534922e-15</td><td>0.994795518958133</td><td>1.6347906815631081e-15</td><td>3.9771146628301675e-15</td><td>0.99041591683236</td><td>4.015600512106211e-15</td><td>5.733331443513781e-15</td><td>0.9909462021821781</td><td>5.785714129473752e-15</td><td>6.314334188234744e-15</td><td>0.9906450638824392</td><td>6.373962197407236e-15</td><td>1.173831005591134e-13</td><td>1.235646373715037e-15</td><td>PRIOR0</td><td>0.9951175879750264</td><td>1.2417089082200474e-15</td></tr>\n",
       "<tr><td>208385</td><td>1237679323935408431</td><td>0.8754558926456739</td><td>2</td><td>0.10841811184318062</td><td>94.53350918211099</td><td>88.43843597885592</td><td>48.043310428501634</td><td>50.843041026361355</td><td>49.18011715281362</td><td>0.9951175872766098</td><td>0.9951175879750264</td><td>0.9999999992981567</td><td>0.9947955181136043</td><td>0.994795518958133</td><td>0.999999999151053</td><td>0.9904159155428753</td><td>0.99041591683236</td><td>0.9999999986980372</td><td>0.9909462007157559</td><td>0.9909462021821781</td><td>0.9999999985201798</td><td>0.9906450620438513</td><td>0.9906450638824392</td><td>0.9999999981440497</td><td>94.53350918211099</td><td>0.9951175872766098</td><td>PRIOR0</td><td>0.9951175879750264</td><td>0.9999999992981567</td></tr>\n",
       "<tr><td>208385</td><td>1237679323935408432</td><td>6.406524871937158</td><td>2</td><td>2.0337872155800483e-10</td><td>6.634758679465154e-08</td><td>7.507939407586007e-08</td><td>6.25504052494784e-08</td><td>7.523826220275946e-08</td><td>9.1275536867152e-08</td><td>6.984153139341309e-10</td><td>0.9951175879750264</td><td>7.018419957337328e-10</td><td>8.445269740772829e-10</td><td>0.994795518958133</td><td>8.489452937642612e-10</td><td>1.2894806026103423e-09</td><td>0.99041591683236</td><td>1.3019586829081652e-09</td><td>1.4664164175314302e-09</td><td>0.9909462021821781</td><td>1.4798143575324388e-09</td><td>1.838581628463497e-09</td><td>0.9906450638824392</td><td>1.8559438647560688e-09</td><td>6.634758679465154e-08</td><td>6.984153139341309e-10</td><td>PRIOR0</td><td>0.9951175879750264</td><td>7.018419957337328e-10</td></tr>\n",
       "<tr><td>208388</td><td>1237679323935408818</td><td>9.863831019638171</td><td>2</td><td>3.408446236748559e-11</td><td>4.626802709290628e-09</td><td>7.855988586236354e-09</td><td>8.940202892995305e-09</td><td>1.590212932739452e-08</td><td>1.4273206250636562e-08</td><td>9.97551147387905e-09</td><td>9.97551147387905e-09</td><td>1.0</td><td>1.6979158870847494e-08</td><td>1.6979158870847494e-08</td><td>1.0</td><td>1.9230097167702993e-08</td><td>1.9230097167702993e-08</td><td>1.0</td><td>3.4232848061618786e-08</td><td>3.4232848061618786e-08</td><td>1.0</td><td>3.073330189839391e-08</td><td>3.073330189839391e-08</td><td>1.0</td><td>1.590212932739452e-08</td><td>3.4232848061618786e-08</td><td>PRIOR3</td><td>3.4232848061618786e-08</td><td>1.0</td></tr>\n",
       "<tr><td>208389</td><td>1237679323935408611</td><td>3.8288362182024844</td><td>2</td><td>0.0001085887897345933</td><td>0.05517623985631659</td><td>0.06324928072306239</td><td>0.048118942910759605</td><td>0.050923081002043076</td><td>0.05426567685056176</td><td>0.10631417338693441</td><td>0.10631417338936677</td><td>0.999999999977121</td><td>0.12026099050576511</td><td>0.12026099050838242</td><td>0.9999999999782364</td><td>0.09379440434183274</td><td>0.09379440434406815</td><td>0.999999999976167</td><td>0.09879316829558117</td><td>0.09879316829834371</td><td>0.9999999999720371</td><td>0.10462120615842385</td><td>0.10462120616165022</td><td>0.9999999999691614</td><td>0.06324928072306239</td><td>0.12026099050576511</td><td>PRIOR1</td><td>0.12026099050838242</td><td>0.9999999999782364</td></tr>\n",
       "<tr><td>208389</td><td>1237679323935408620</td><td>7.964810803039035</td><td>2</td><td>3.728805296268797e-15</td><td>1.2623785022046937e-12</td><td>1.376527692405982e-12</td><td>1.1468175263924729e-12</td><td>1.4239543112019717e-12</td><td>1.6734725377499469e-12</td><td>2.4323644980669e-12</td><td>0.10631417338936677</td><td>2.287902375122241e-11</td><td>2.617303815235282e-12</td><td>0.12026099050838242</td><td>2.1763531168096032e-11</td><td>2.235399621646801e-12</td><td>0.09379440434406815</td><td>2.3832974229961882e-11</td><td>2.762538227138116e-12</td><td>0.09879316829834371</td><td>2.7962846770897926e-11</td><td>3.2263619572006774e-12</td><td>0.10462120616165022</td><td>3.083850851629091e-11</td><td>1.376527692405982e-12</td><td>2.617303815235282e-12</td><td>PRIOR1</td><td>0.12026099050838242</td><td>2.1763531168096032e-11</td></tr>\n",
       "<tr><td>208390</td><td>1237679323935408628</td><td>1.9930080259933138</td><td>2</td><td>0.02215064302411411</td><td>7.226133094659085</td><td>5.105411283859234</td><td>5.81001515326234</td><td>10.334397716374976</td><td>11.03879994247211</td><td>0.9396854153644124</td><td>0.93968541633459</td><td>0.9999999989675507</td><td>0.9169044063560485</td><td>0.916904407206265</td><td>0.9999999990727316</td><td>0.9259103330834975</td><td>0.9259103482100406</td><td>0.9999999836630585</td><td>0.956983836915188</td><td>0.9569838373823367</td><td>0.999999999511853</td><td>0.9596268313947135</td><td>0.9596268322920228</td><td>0.9999999990649393</td><td>11.03879994247211</td><td>0.9596268313947135</td><td>PRIOR4</td><td>0.9596268322920228</td><td>0.9999999990649393</td></tr>\n",
       "<tr><td>208390</td><td>1237679323935408629</td><td>6.841110673091843</td><td>2</td><td>2.0401606442224984e-11</td><td>7.46061641287106e-09</td><td>4.734086628658312e-09</td><td>9.491787874104861e-08</td><td>5.0447055180504535e-09</td><td>1.0321948555950023e-08</td><td>9.70177595813303e-10</td><td>0.93968541633459</td><td>1.0324493484188071e-09</td><td>8.50216495507659e-10</td><td>0.916904407206265</td><td>9.272684140522361e-10</td><td>1.5126543116045992e-08</td><td>0.9259103482100406</td><td>1.6336941416940047e-08</td><td>4.671488145962868e-10</td><td>0.9569838373823367</td><td>4.881470264681704e-10</td><td>8.973093849137474e-10</td><td>0.9596268322920228</td><td>9.350607493650077e-10</td><td>1.0321948555950023e-08</td><td>8.973093849137474e-10</td><td>PRIOR4</td><td>0.9596268322920228</td><td>9.350607493650077e-10</td></tr>\n",
       "<tr><td>...</td><td>...</td><td>...</td><td>...</td><td>...</td><td>...</td><td>...</td><td>...</td><td>...</td><td>...</td><td>...</td><td>...</td><td>...</td><td>...</td><td>...</td><td>...</td><td>...</td><td>...</td><td>...</td><td>...</td><td>...</td><td>...</td><td>...</td><td>...</td><td>...</td><td>...</td><td>...</td><td>...</td><td>...</td><td>...</td></tr>\n",
       "<tr><td>226736</td><td>1237679254134653533</td><td>1.0187393486991054</td><td>2</td><td>0.05602972893656763</td><td>20.489382367836935</td><td>12.914063489394662</td><td>14.696348715486497</td><td>26.140708517617902</td><td>25.145912758369008</td><td>0.9778641863924918</td><td>0.9778641869713055</td><td>0.9999999994080838</td><td>0.9654113077949742</td><td>0.9654113088342768</td><td>0.9999999989234613</td><td>0.969335864114507</td><td>0.9693358648121253</td><td>0.9999999992803131</td><td>0.982539964836245</td><td>0.9825399652569565</td><td>0.9999999995718123</td><td>0.9818658556118904</td><td>0.9818658560346509</td><td>0.9999999995694315</td><td>26.140708517617902</td><td>0.982539964836245</td><td>PRIOR3</td><td>0.9825399652569565</td><td>0.9999999995718123</td></tr>\n",
       "<tr><td>226737</td><td>1237679254134653363</td><td>9.379439075877661</td><td>2</td><td>6.38431756310969e-08</td><td>3.2440055556564884e-05</td><td>3.718648073721574e-05</td><td>2.8290822017106224e-05</td><td>2.4380400143631348e-05</td><td>2.673496221397148e-05</td><td>1.7798092316702496e-06</td><td>0.9745529366975176</td><td>1.8262827647942e-06</td><td>2.8424353933916634e-06</td><td>0.9646336543395249</td><td>2.946647549154659e-06</td><td>1.1330519573235131e-06</td><td>0.9813804085785334</td><td>1.154549191546086e-06</td><td>1.0542095859807264e-06</td><td>0.9799137730454185</td><td>1.0758187250541527e-06</td><td>9.031298476898102e-07</td><td>0.9843114456361904</td><td>9.17524480380384e-07</td><td>2.673496221397148e-05</td><td>9.031298476898102e-07</td><td>PRIOR4</td><td>0.9843114456361904</td><td>9.17524480380384e-07</td></tr>\n",
       "<tr><td>226737</td><td>1237679254134653369</td><td>0.2226224247674486</td><td>2</td><td>0.048573839090382</td><td>17.76285520358953</td><td>12.61989109367068</td><td>24.50375398563627</td><td>22.66215798903587</td><td>29.138119206264115</td><td>0.974551156888286</td><td>0.9745529366975176</td><td>0.9999981737172352</td><td>0.9646308119041315</td><td>0.9646336543395249</td><td>0.9999970533524508</td><td>0.981379275526576</td><td>0.9813804085785334</td><td>0.9999988454508084</td><td>0.9799127188358325</td><td>0.9799137730454185</td><td>0.999998924181275</td><td>0.9843105425063428</td><td>0.9843114456361904</td><td>0.9999990824755196</td><td>29.138119206264115</td><td>0.9843105425063428</td><td>PRIOR4</td><td>0.9843114456361904</td><td>0.9999990824755196</td></tr>\n",
       "<tr><td>226738</td><td>1237679254134652976</td><td>1.7228066823565693</td><td>2</td><td>0.03103560503960579</td><td>11.349338837486888</td><td>11.457120013839518</td><td>9.545195571683388</td><td>11.851861410176072</td><td>15.466631589558077</td><td>0.9607373232094266</td><td>0.9607373232094266</td><td>1.0</td><td>0.9611835742574235</td><td>0.9611835742574235</td><td>1.0</td><td>0.9535562402875932</td><td>0.9535562402875932</td><td>1.0</td><td>0.9622837236329094</td><td>0.9622837236329094</td><td>1.0</td><td>0.9708480358357344</td><td>0.9708480358357344</td><td>1.0</td><td>15.466631589558077</td><td>0.9708480358357344</td><td>PRIOR4</td><td>0.9708480358357344</td><td>1.0</td></tr>\n",
       "<tr><td>226754</td><td>1237679254134784231</td><td>7.03533235037819</td><td>2</td><td>3.944358973930431e-06</td><td>0.0034392232897297744</td><td>0.005220361864068783</td><td>0.002893522826478584</td><td>0.0022684368177474773</td><td>0.0021257834900997694</td><td>0.00018079320699747052</td><td>0.9756181003278135</td><td>0.00018531145223394575</td><td>0.0004942650858234423</td><td>0.9561929518922382</td><td>0.0005169093589796147</td><td>0.00048620455171568123</td><td>0.9218807625319851</td><td>0.0005274050305381138</td><td>0.00036180422185928335</td><td>0.9259100713481819</td><td>0.0003907552504882836</td><td>0.00037634947317984323</td><td>0.9177786527567525</td><td>0.0004100656209962977</td><td>0.0034392232897297744</td><td>0.00018079320699747052</td><td>PRIOR0</td><td>0.9756181003278135</td><td>0.00018531145223394575</td></tr>\n",
       "<tr><td>226754</td><td>1237679254134784232</td><td>2.8754669632535967</td><td>2</td><td>0.012374351552196785</td><td>18.555712131198277</td><td>10.09396196745928</td><td>5.483445550440057</td><td>5.802994102618032</td><td>5.1818822904736574</td><td>0.975437307120816</td><td>0.9756181003278135</td><td>0.999814688547766</td><td>0.9556986868064148</td><td>0.9561929518922382</td><td>0.9994830906410205</td><td>0.9213945579802695</td><td>0.9218807625319851</td><td>0.999472594969462</td><td>0.9255482671263227</td><td>0.9259100713481819</td><td>0.9996092447495117</td><td>0.9174023032835726</td><td>0.9177786527567525</td><td>0.9995899343790037</td><td>18.555712131198277</td><td>0.975437307120816</td><td>PRIOR0</td><td>0.9756181003278135</td><td>0.999814688547766</td></tr>\n",
       "<tr><td>226755</td><td>1237679254134784231</td><td>5.492235330560495</td><td>2</td><td>0.0001719364881277792</td><td>0.14991738283246697</td><td>0.22755806243714485</td><td>0.12613003947927887</td><td>0.09888224235194458</td><td>0.0926639157904938</td><td>0.2442234909291313</td><td>0.24441861956648972</td><td>0.9992016621413519</td><td>0.3296474255923898</td><td>0.3297418158274909</td><td>0.9997137450254399</td><td>0.21339192435005977</td><td>0.21345180974611933</td><td>0.9997194430155885</td><td>0.17549486634093223</td><td>0.17556134866335973</td><td>0.9996213157227735</td><td>0.16632701459825455</td><td>0.16638705555857014</td><td>0.9996391488501672</td><td>0.22755806243714485</td><td>0.3296474255923898</td><td>PRIOR1</td><td>0.3297418158274909</td><td>0.9997137450254399</td></tr>\n",
       "<tr><td>226755</td><td>1237679254134784232</td><td>8.33794108234263</td><td>2</td><td>7.98785904526488e-08</td><td>0.00011978034757078665</td><td>6.515827925546161e-05</td><td>3.539659428176194e-05</td><td>3.745933573706106e-05</td><td>3.344995101428944e-05</td><td>0.0001951286373584356</td><td>0.24441861956648972</td><td>0.0007983378586480984</td><td>9.439023510110018e-05</td><td>0.3297418158274909</td><td>0.0002862549745601018</td><td>5.9885396059551664e-05</td><td>0.21345180974611933</td><td>0.000280556984411515</td><td>6.648232242749455e-05</td><td>0.17556134866335973</td><td>0.0003786842772265035</td><td>6.00409603155944e-05</td><td>0.16638705555857014</td><td>0.0003608511498327422</td><td>6.515827925546161e-05</td><td>9.439023510110018e-05</td><td>PRIOR1</td><td>0.3297418158274909</td><td>0.0002862549745601018</td></tr>\n",
       "<tr><td>226800</td><td>1237679323397947782</td><td>5.821647381203046</td><td>2</td><td>8.76008876927189e-05</td><td>0.07638224997903424</td><td>0.032338789024204756</td><td>0.0269422040979387</td><td>0.0334529834046274</td><td>0.039314919441616955</td><td>0.13492525038451214</td><td>0.18069314243359705</td><td>0.7467093026737074</td><td>0.06293468677265145</td><td>0.09956786380720897</td><td>0.6320783068572252</td><td>0.05155913885420342</td><td>0.11031058977532868</td><td>0.4673997207268562</td><td>0.06353130412404774</td><td>0.11780386867263587</td><td>0.5392972645116971</td><td>0.07389613167068661</td><td>0.12707562556319363</td><td>0.5815130269332311</td><td>0.07638224997903424</td><td>0.13492525038451214</td><td>PRIOR0</td><td>0.18069314243359705</td><td>0.7467093026737074</td></tr>\n",
       "<tr><td>226800</td><td>1237679323397947788</td><td>6.039430083188515</td><td>2</td><td>5.099093984251449e-05</td><td>0.025909565196611563</td><td>0.01882384173431214</td><td>0.030700543433105423</td><td>0.028577710251712882</td><td>0.028293057715756454</td><td>0.0457678920490849</td><td>0.18069314243359705</td><td>0.25329069732629256</td><td>0.03663317703455752</td><td>0.09956786380720897</td><td>0.3679216931427747</td><td>0.05875145092112526</td><td>0.11031058977532868</td><td>0.5326002792731439</td><td>0.05427256454858813</td><td>0.11780386867263587</td><td>0.4607027354883028</td><td>0.05317949389250702</td><td>0.12707562556319363</td><td>0.4184869730667689</td><td>0.025909565196611563</td><td>0.0457678920490849</td><td>PRIOR0</td><td>0.18069314243359705</td><td>0.25329069732629256</td></tr>\n",
       "</table>"
      ],
      "text/plain": [
       "<Table length=1073>\n",
       "SRCID_xxl      SRCID_sdss     ...     prob_has_match        prob_this_match    \n",
       "                              ...                                              \n",
       "  str11          str21        ...        float64                float64        \n",
       "--------- ------------------- ... ---------------------- ----------------------\n",
       "   208384 1237679323935408452 ...      0.806397053283155                    1.0\n",
       "   208385 1237679323935408430 ...     0.9951175879750264 1.2417089082200474e-15\n",
       "   208385 1237679323935408431 ...     0.9951175879750264     0.9999999992981567\n",
       "   208385 1237679323935408432 ...     0.9951175879750264  7.018419957337328e-10\n",
       "   208388 1237679323935408818 ... 3.4232848061618786e-08                    1.0\n",
       "   208389 1237679323935408611 ...    0.12026099050838242     0.9999999999782364\n",
       "   208389 1237679323935408620 ...    0.12026099050838242 2.1763531168096032e-11\n",
       "   208390 1237679323935408628 ...     0.9596268322920228     0.9999999990649393\n",
       "   208390 1237679323935408629 ...     0.9596268322920228  9.350607493650077e-10\n",
       "      ...                 ... ...                    ...                    ...\n",
       "   226736 1237679254134653533 ...     0.9825399652569565     0.9999999995718123\n",
       "   226737 1237679254134653363 ...     0.9843114456361904   9.17524480380384e-07\n",
       "   226737 1237679254134653369 ...     0.9843114456361904     0.9999990824755196\n",
       "   226738 1237679254134652976 ...     0.9708480358357344                    1.0\n",
       "   226754 1237679254134784231 ...     0.9756181003278135 0.00018531145223394575\n",
       "   226754 1237679254134784232 ...     0.9756181003278135      0.999814688547766\n",
       "   226755 1237679254134784231 ...     0.3297418158274909     0.9997137450254399\n",
       "   226755 1237679254134784232 ...     0.3297418158274909  0.0002862549745601018\n",
       "   226800 1237679323397947782 ...    0.18069314243359705     0.7467093026737074\n",
       "   226800 1237679323397947788 ...    0.18069314243359705    0.25329069732629256"
      ]
     },
     "execution_count": 19,
     "metadata": {},
     "output_type": "execute_result"
    }
   ],
   "source": [
    "xm.lr"
   ]
  },
  {
   "cell_type": "markdown",
   "metadata": {},
   "source": [
    "All matches within the search radius (10 arcsec):"
   ]
  },
  {
   "cell_type": "code",
   "execution_count": 20,
   "metadata": {},
   "outputs": [
    {
     "data": {
      "text/html": [
       "<i>Table length=1073</i>\n",
       "<table id=\"table139932783538720\" class=\"table-striped table-bordered table-condensed\">\n",
       "<thead><tr><th>SRCID_xxl</th><th>SRCID_sdss</th><th>Separation_xxl_sdss</th><th>ncat</th><th>LR_BEST</th><th>REL_BEST</th><th>LR_BEST_MAG</th><th>match_flag</th><th>prob_has_match</th><th>prob_this_match</th></tr></thead>\n",
       "<thead><tr><th></th><th></th><th>arcsec</th><th></th><th></th><th></th><th></th><th></th><th></th><th></th></tr></thead>\n",
       "<thead><tr><th>str11</th><th>str21</th><th>float64</th><th>int64</th><th>float64</th><th>float64</th><th>bytes6</th><th>int64</th><th>float64</th><th>float64</th></tr></thead>\n",
       "<tr><td>225328</td><td>1237679322861011512</td><td>1.3714570888758941</td><td>2</td><td>46.68379428075735</td><td>0.9901862406293075</td><td>PRIOR1</td><td>1</td><td>0.9901862406293075</td><td>1.0</td></tr>\n",
       "<tr><td>214851</td><td>1237679323397882147</td><td>1.3144638565450806</td><td>2</td><td>56.412686099022395</td><td>0.9918452073221287</td><td>PRIOR0</td><td>1</td><td>0.9918452073221287</td><td>1.0</td></tr>\n",
       "<tr><td>225342</td><td>1237679322861011562</td><td>7.170840526164801</td><td>2</td><td>0.0033329625513313</td><td>0.007125453417599189</td><td>PRIOR4</td><td>1</td><td>0.007125453417599189</td><td>1.0</td></tr>\n",
       "<tr><td>215403</td><td>1237679323397948127</td><td>2.427267359409059</td><td>2</td><td>9.97973834624464</td><td>0.9554885031788347</td><td>PRIOR2</td><td>1</td><td>0.9554885031788347</td><td>1.0</td></tr>\n",
       "<tr><td>214878</td><td>1237679254134587627</td><td>1.9889052193363361</td><td>2</td><td>9.876985654339315</td><td>0.9551469900208761</td><td>PRIOR0</td><td>1</td><td>0.9551469900208761</td><td>1.0</td></tr>\n",
       "<tr><td>225341</td><td>1237679322861076661</td><td>1.5086594463281928</td><td>2</td><td>55.668857495643444</td><td>0.9917371460511851</td><td>PRIOR0</td><td>1</td><td>0.9917371460511851</td><td>1.0</td></tr>\n",
       "<tr><td>214858</td><td>1237679323397948131</td><td>5.848338687360705</td><td>2</td><td>2.9874786810323946e-06</td><td>6.432646931207171e-06</td><td>PRIOR4</td><td>1</td><td>6.433085669821996e-06</td><td>0.9999317996623481</td></tr>\n",
       "<tr><td>214858</td><td>1237679323397947748</td><td>7.292553467416126</td><td>2</td><td>2.0376095133996957e-10</td><td>4.3873861482551484e-10</td><td>PRIOR4</td><td>0</td><td>6.433085669821996e-06</td><td>6.820033765190862e-05</td></tr>\n",
       "<tr><td>226800</td><td>1237679323397947782</td><td>5.821647381203046</td><td>2</td><td>0.07638224997903424</td><td>0.13492525038451214</td><td>PRIOR0</td><td>1</td><td>0.18069314243359705</td><td>0.7467093026737074</td></tr>\n",
       "<tr><td>...</td><td>...</td><td>...</td><td>...</td><td>...</td><td>...</td><td>...</td><td>...</td><td>...</td><td>...</td></tr>\n",
       "<tr><td>217909</td><td>1237679322861863347</td><td>8.785452432742025</td><td>2</td><td>2.1108852255460115e-06</td><td>1.252363520328762e-07</td><td>PRIOR1</td><td>0</td><td>0.9725494877619115</td><td>1.2877118707972128e-07</td></tr>\n",
       "<tr><td>217303</td><td>1237679254135373933</td><td>4.439494436789353</td><td>2</td><td>0.5321474333801289</td><td>0.5349120577125793</td><td>PRIOR1</td><td>1</td><td>0.5349120577125793</td><td>1.0</td></tr>\n",
       "<tr><td>217313</td><td>1237679254135374545</td><td>1.0820380078272642</td><td>2</td><td>25.04210761975663</td><td>0.9818153583090452</td><td>PRIOR0</td><td>1</td><td>0.9818153583090452</td><td>1.0</td></tr>\n",
       "<tr><td>218676</td><td>1237679322861863376</td><td>0.5475653416462244</td><td>2</td><td>30.628625602668635</td><td>0.9850601080551571</td><td>PRIOR3</td><td>1</td><td>0.9850601080551571</td><td>1.0</td></tr>\n",
       "<tr><td>217294</td><td>1237679323398734463</td><td>1.558445586040676</td><td>2</td><td>19.64144062291717</td><td>0.9769856087182116</td><td>PRIOR1</td><td>1</td><td>0.9769856087182116</td><td>1.0</td></tr>\n",
       "<tr><td>217307</td><td>1237679254135374572</td><td>1.751286873484423</td><td>2</td><td>13.418007814564229</td><td>0.9665386529826065</td><td>PRIOR3</td><td>1</td><td>0.9665386529826065</td><td>1.0</td></tr>\n",
       "<tr><td>217928</td><td>1237679322861863452</td><td>3.669063421348808</td><td>2</td><td>0.09144874173342853</td><td>0.16451455172692533</td><td>PRIOR4</td><td>1</td><td>0.16451455172692533</td><td>1.0</td></tr>\n",
       "<tr><td>217919</td><td>1237679322861863461</td><td>0.338877570253551</td><td>2</td><td>41.17181418117628</td><td>0.9888457378300528</td><td>PRIOR4</td><td>1</td><td>0.9888457378300528</td><td>1.0</td></tr>\n",
       "<tr><td>217894</td><td>1237679254135374463</td><td>8.446828836341155</td><td>2</td><td>0.00024246618830966958</td><td>0.000522490509981865</td><td>PRIOR0</td><td>1</td><td>0.000522490509981865</td><td>1.0</td></tr>\n",
       "<tr><td>217882</td><td>1237679254135439695</td><td>0.8786664462688236</td><td>2</td><td>20.153997039591985</td><td>0.9774754068651131</td><td>PRIOR4</td><td>1</td><td>0.9774754068651131</td><td>1.0</td></tr>\n",
       "</table>"
      ],
      "text/plain": [
       "<Table length=1073>\n",
       "SRCID_xxl      SRCID_sdss     ...     prob_has_match       prob_this_match    \n",
       "                              ...                                             \n",
       "  str11          str21        ...        float64               float64        \n",
       "--------- ------------------- ... --------------------- ----------------------\n",
       "   225328 1237679322861011512 ...    0.9901862406293075                    1.0\n",
       "   214851 1237679323397882147 ...    0.9918452073221287                    1.0\n",
       "   225342 1237679322861011562 ...  0.007125453417599189                    1.0\n",
       "   215403 1237679323397948127 ...    0.9554885031788347                    1.0\n",
       "   214878 1237679254134587627 ...    0.9551469900208761                    1.0\n",
       "   225341 1237679322861076661 ...    0.9917371460511851                    1.0\n",
       "   214858 1237679323397948131 ... 6.433085669821996e-06     0.9999317996623481\n",
       "   214858 1237679323397947748 ... 6.433085669821996e-06  6.820033765190862e-05\n",
       "   226800 1237679323397947782 ...   0.18069314243359705     0.7467093026737074\n",
       "      ...                 ... ...                   ...                    ...\n",
       "   217909 1237679322861863347 ...    0.9725494877619115 1.2877118707972128e-07\n",
       "   217303 1237679254135373933 ...    0.5349120577125793                    1.0\n",
       "   217313 1237679254135374545 ...    0.9818153583090452                    1.0\n",
       "   218676 1237679322861863376 ...    0.9850601080551571                    1.0\n",
       "   217294 1237679323398734463 ...    0.9769856087182116                    1.0\n",
       "   217307 1237679254135374572 ...    0.9665386529826065                    1.0\n",
       "   217928 1237679322861863452 ...   0.16451455172692533                    1.0\n",
       "   217919 1237679322861863461 ...    0.9888457378300528                    1.0\n",
       "   217894 1237679254135374463 ...  0.000522490509981865                    1.0\n",
       "   217882 1237679254135439695 ...    0.9774754068651131                    1.0"
      ]
     },
     "execution_count": 20,
     "metadata": {},
     "output_type": "execute_result"
    }
   ],
   "source": [
    "all_matches = xm.get_matchs()\n",
    "all_matches"
   ]
  },
  {
   "cell_type": "markdown",
   "metadata": {},
   "source": [
    "List of most likely counterparts:"
   ]
  },
  {
   "cell_type": "code",
   "execution_count": 21,
   "metadata": {},
   "outputs": [
    {
     "data": {
      "text/html": [
       "<i>Table length=844</i>\n",
       "<table id=\"table139932998739808\" class=\"table-striped table-bordered table-condensed\">\n",
       "<thead><tr><th>SRCID_xxl</th><th>SRCID_sdss</th><th>Separation_xxl_sdss</th><th>ncat</th><th>LR_BEST</th><th>REL_BEST</th><th>LR_BEST_MAG</th><th>match_flag</th><th>prob_has_match</th><th>prob_this_match</th></tr></thead>\n",
       "<thead><tr><th></th><th></th><th>arcsec</th><th></th><th></th><th></th><th></th><th></th><th></th><th></th></tr></thead>\n",
       "<thead><tr><th>str11</th><th>str21</th><th>float64</th><th>int64</th><th>float64</th><th>float64</th><th>bytes6</th><th>int64</th><th>float64</th><th>float64</th></tr></thead>\n",
       "<tr><td>225328</td><td>1237679322861011512</td><td>1.3714570888758941</td><td>2</td><td>46.68379428075735</td><td>0.9901862406293075</td><td>PRIOR1</td><td>1</td><td>0.9901862406293075</td><td>1.0</td></tr>\n",
       "<tr><td>214851</td><td>1237679323397882147</td><td>1.3144638565450806</td><td>2</td><td>56.412686099022395</td><td>0.9918452073221287</td><td>PRIOR0</td><td>1</td><td>0.9918452073221287</td><td>1.0</td></tr>\n",
       "<tr><td>225342</td><td>1237679322861011562</td><td>7.170840526164801</td><td>2</td><td>0.0033329625513313</td><td>0.007125453417599189</td><td>PRIOR4</td><td>1</td><td>0.007125453417599189</td><td>1.0</td></tr>\n",
       "<tr><td>215403</td><td>1237679323397948127</td><td>2.427267359409059</td><td>2</td><td>9.97973834624464</td><td>0.9554885031788347</td><td>PRIOR2</td><td>1</td><td>0.9554885031788347</td><td>1.0</td></tr>\n",
       "<tr><td>214878</td><td>1237679254134587627</td><td>1.9889052193363361</td><td>2</td><td>9.876985654339315</td><td>0.9551469900208761</td><td>PRIOR0</td><td>1</td><td>0.9551469900208761</td><td>1.0</td></tr>\n",
       "<tr><td>225341</td><td>1237679322861076661</td><td>1.5086594463281928</td><td>2</td><td>55.668857495643444</td><td>0.9917371460511851</td><td>PRIOR0</td><td>1</td><td>0.9917371460511851</td><td>1.0</td></tr>\n",
       "<tr><td>214858</td><td>1237679323397948131</td><td>5.848338687360705</td><td>2</td><td>2.9874786810323946e-06</td><td>6.432646931207171e-06</td><td>PRIOR4</td><td>1</td><td>6.433085669821996e-06</td><td>0.9999317996623481</td></tr>\n",
       "<tr><td>226800</td><td>1237679323397947782</td><td>5.821647381203046</td><td>2</td><td>0.07638224997903424</td><td>0.13492525038451214</td><td>PRIOR0</td><td>1</td><td>0.18069314243359705</td><td>0.7467093026737074</td></tr>\n",
       "<tr><td>214857</td><td>1237679323397947789</td><td>1.7711934173395705</td><td>2</td><td>20.18104102237253</td><td>0.977499847596325</td><td>PRIOR3</td><td>1</td><td>0.9774998524097869</td><td>0.9999999950757416</td></tr>\n",
       "<tr><td>...</td><td>...</td><td>...</td><td>...</td><td>...</td><td>...</td><td>...</td><td>...</td><td>...</td><td>...</td></tr>\n",
       "<tr><td>217909</td><td>1237679322861863352</td><td>2.03633789927016</td><td>2</td><td>16.392525390155654</td><td>0.9725493625255595</td><td>PRIOR1</td><td>1</td><td>0.9725494877619115</td><td>0.9999998712288128</td></tr>\n",
       "<tr><td>217303</td><td>1237679254135373933</td><td>4.439494436789353</td><td>2</td><td>0.5321474333801289</td><td>0.5349120577125793</td><td>PRIOR1</td><td>1</td><td>0.5349120577125793</td><td>1.0</td></tr>\n",
       "<tr><td>217313</td><td>1237679254135374545</td><td>1.0820380078272642</td><td>2</td><td>25.04210761975663</td><td>0.9818153583090452</td><td>PRIOR0</td><td>1</td><td>0.9818153583090452</td><td>1.0</td></tr>\n",
       "<tr><td>218676</td><td>1237679322861863376</td><td>0.5475653416462244</td><td>2</td><td>30.628625602668635</td><td>0.9850601080551571</td><td>PRIOR3</td><td>1</td><td>0.9850601080551571</td><td>1.0</td></tr>\n",
       "<tr><td>217294</td><td>1237679323398734463</td><td>1.558445586040676</td><td>2</td><td>19.64144062291717</td><td>0.9769856087182116</td><td>PRIOR1</td><td>1</td><td>0.9769856087182116</td><td>1.0</td></tr>\n",
       "<tr><td>217307</td><td>1237679254135374572</td><td>1.751286873484423</td><td>2</td><td>13.418007814564229</td><td>0.9665386529826065</td><td>PRIOR3</td><td>1</td><td>0.9665386529826065</td><td>1.0</td></tr>\n",
       "<tr><td>217928</td><td>1237679322861863452</td><td>3.669063421348808</td><td>2</td><td>0.09144874173342853</td><td>0.16451455172692533</td><td>PRIOR4</td><td>1</td><td>0.16451455172692533</td><td>1.0</td></tr>\n",
       "<tr><td>217919</td><td>1237679322861863461</td><td>0.338877570253551</td><td>2</td><td>41.17181418117628</td><td>0.9888457378300528</td><td>PRIOR4</td><td>1</td><td>0.9888457378300528</td><td>1.0</td></tr>\n",
       "<tr><td>217894</td><td>1237679254135374463</td><td>8.446828836341155</td><td>2</td><td>0.00024246618830966958</td><td>0.000522490509981865</td><td>PRIOR0</td><td>1</td><td>0.000522490509981865</td><td>1.0</td></tr>\n",
       "<tr><td>217882</td><td>1237679254135439695</td><td>0.8786664462688236</td><td>2</td><td>20.153997039591985</td><td>0.9774754068651131</td><td>PRIOR4</td><td>1</td><td>0.9774754068651131</td><td>1.0</td></tr>\n",
       "</table>"
      ],
      "text/plain": [
       "<Table length=844>\n",
       "SRCID_xxl      SRCID_sdss     ...     prob_has_match     prob_this_match  \n",
       "                              ...                                         \n",
       "  str11          str21        ...        float64             float64      \n",
       "--------- ------------------- ... --------------------- ------------------\n",
       "   225328 1237679322861011512 ...    0.9901862406293075                1.0\n",
       "   214851 1237679323397882147 ...    0.9918452073221287                1.0\n",
       "   225342 1237679322861011562 ...  0.007125453417599189                1.0\n",
       "   215403 1237679323397948127 ...    0.9554885031788347                1.0\n",
       "   214878 1237679254134587627 ...    0.9551469900208761                1.0\n",
       "   225341 1237679322861076661 ...    0.9917371460511851                1.0\n",
       "   214858 1237679323397948131 ... 6.433085669821996e-06 0.9999317996623481\n",
       "   226800 1237679323397947782 ...   0.18069314243359705 0.7467093026737074\n",
       "   214857 1237679323397947789 ...    0.9774998524097869 0.9999999950757416\n",
       "      ...                 ... ...                   ...                ...\n",
       "   217909 1237679322861863352 ...    0.9725494877619115 0.9999998712288128\n",
       "   217303 1237679254135373933 ...    0.5349120577125793                1.0\n",
       "   217313 1237679254135374545 ...    0.9818153583090452                1.0\n",
       "   218676 1237679322861863376 ...    0.9850601080551571                1.0\n",
       "   217294 1237679323398734463 ...    0.9769856087182116                1.0\n",
       "   217307 1237679254135374572 ...    0.9665386529826065                1.0\n",
       "   217928 1237679322861863452 ...   0.16451455172692533                1.0\n",
       "   217919 1237679322861863461 ...    0.9888457378300528                1.0\n",
       "   217894 1237679254135374463 ...  0.000522490509981865                1.0\n",
       "   217882 1237679254135439695 ...    0.9774754068651131                1.0"
      ]
     },
     "execution_count": 21,
     "metadata": {},
     "output_type": "execute_result"
    }
   ],
   "source": [
    "primary_matches = xm.get_matchs(match_type='primary')\n",
    "primary_matches"
   ]
  },
  {
   "cell_type": "markdown",
   "metadata": {},
   "source": [
    "List of most likely counterparts, including X-ray sources with no counterparts:"
   ]
  },
  {
   "cell_type": "code",
   "execution_count": 22,
   "metadata": {},
   "outputs": [
    {
     "data": {
      "text/html": [
       "<i>Table length=1238</i>\n",
       "<table id=\"table139932783540784\" class=\"table-striped table-bordered table-condensed\">\n",
       "<thead><tr><th>SRCID_xxl</th><th>SRCID_sdss</th><th>Separation_xxl_sdss</th><th>ncat</th><th>LR_BEST</th><th>REL_BEST</th><th>LR_BEST_MAG</th><th>match_flag</th><th>prob_has_match</th><th>prob_this_match</th></tr></thead>\n",
       "<thead><tr><th></th><th></th><th>arcsec</th><th></th><th></th><th></th><th></th><th></th><th></th><th></th></tr></thead>\n",
       "<thead><tr><th>str11</th><th>str21</th><th>float64</th><th>int64</th><th>float64</th><th>float64</th><th>bytes6</th><th>int64</th><th>float64</th><th>float64</th></tr></thead>\n",
       "<tr><td>225328</td><td>1237679322861011512</td><td>1.3714570888758941</td><td>2</td><td>46.68379428075735</td><td>0.9901862406293075</td><td>PRIOR1</td><td>1</td><td>0.9901862406293075</td><td>1.0</td></tr>\n",
       "<tr><td>225285</td><td>--</td><td>--</td><td>1</td><td>--</td><td>--</td><td>0.0</td><td>1</td><td>0.0</td><td>0.0</td></tr>\n",
       "<tr><td>214851</td><td>1237679323397882147</td><td>1.3144638565450806</td><td>2</td><td>56.412686099022395</td><td>0.9918452073221287</td><td>PRIOR0</td><td>1</td><td>0.9918452073221287</td><td>1.0</td></tr>\n",
       "<tr><td>225342</td><td>1237679322861011562</td><td>7.170840526164801</td><td>2</td><td>0.0033329625513313</td><td>0.007125453417599189</td><td>PRIOR4</td><td>1</td><td>0.007125453417599189</td><td>1.0</td></tr>\n",
       "<tr><td>215403</td><td>1237679323397948127</td><td>2.427267359409059</td><td>2</td><td>9.97973834624464</td><td>0.9554885031788347</td><td>PRIOR2</td><td>1</td><td>0.9554885031788347</td><td>1.0</td></tr>\n",
       "<tr><td>225338</td><td>--</td><td>--</td><td>1</td><td>--</td><td>--</td><td>0.0</td><td>1</td><td>0.0</td><td>0.0</td></tr>\n",
       "<tr><td>214878</td><td>1237679254134587627</td><td>1.9889052193363361</td><td>2</td><td>9.876985654339315</td><td>0.9551469900208761</td><td>PRIOR0</td><td>1</td><td>0.9551469900208761</td><td>1.0</td></tr>\n",
       "<tr><td>225341</td><td>1237679322861076661</td><td>1.5086594463281928</td><td>2</td><td>55.668857495643444</td><td>0.9917371460511851</td><td>PRIOR0</td><td>1</td><td>0.9917371460511851</td><td>1.0</td></tr>\n",
       "<tr><td>225368</td><td>--</td><td>--</td><td>1</td><td>--</td><td>--</td><td>0.0</td><td>1</td><td>0.0</td><td>0.0</td></tr>\n",
       "<tr><td>...</td><td>...</td><td>...</td><td>...</td><td>...</td><td>...</td><td>...</td><td>...</td><td>...</td><td>...</td></tr>\n",
       "<tr><td>217268</td><td>--</td><td>--</td><td>1</td><td>--</td><td>--</td><td>0.0</td><td>1</td><td>0.0</td><td>0.0</td></tr>\n",
       "<tr><td>217929</td><td>--</td><td>--</td><td>1</td><td>--</td><td>--</td><td>0.0</td><td>1</td><td>0.0</td><td>0.0</td></tr>\n",
       "<tr><td>217307</td><td>1237679254135374572</td><td>1.751286873484423</td><td>2</td><td>13.418007814564229</td><td>0.9665386529826065</td><td>PRIOR3</td><td>1</td><td>0.9665386529826065</td><td>1.0</td></tr>\n",
       "<tr><td>217889</td><td>--</td><td>--</td><td>1</td><td>--</td><td>--</td><td>0.0</td><td>1</td><td>0.0</td><td>0.0</td></tr>\n",
       "<tr><td>217928</td><td>1237679322861863452</td><td>3.669063421348808</td><td>2</td><td>0.09144874173342853</td><td>0.16451455172692533</td><td>PRIOR4</td><td>1</td><td>0.16451455172692533</td><td>1.0</td></tr>\n",
       "<tr><td>217919</td><td>1237679322861863461</td><td>0.338877570253551</td><td>2</td><td>41.17181418117628</td><td>0.9888457378300528</td><td>PRIOR4</td><td>1</td><td>0.9888457378300528</td><td>1.0</td></tr>\n",
       "<tr><td>217296</td><td>--</td><td>--</td><td>1</td><td>--</td><td>--</td><td>0.0</td><td>1</td><td>0.0</td><td>0.0</td></tr>\n",
       "<tr><td>217927</td><td>--</td><td>--</td><td>1</td><td>--</td><td>--</td><td>0.0</td><td>1</td><td>0.0</td><td>0.0</td></tr>\n",
       "<tr><td>217894</td><td>1237679254135374463</td><td>8.446828836341155</td><td>2</td><td>0.00024246618830966958</td><td>0.000522490509981865</td><td>PRIOR0</td><td>1</td><td>0.000522490509981865</td><td>1.0</td></tr>\n",
       "<tr><td>217882</td><td>1237679254135439695</td><td>0.8786664462688236</td><td>2</td><td>20.153997039591985</td><td>0.9774754068651131</td><td>PRIOR4</td><td>1</td><td>0.9774754068651131</td><td>1.0</td></tr>\n",
       "</table>"
      ],
      "text/plain": [
       "<Table length=1238>\n",
       "SRCID_xxl      SRCID_sdss     ...    prob_has_match    prob_this_match\n",
       "                              ...                                     \n",
       "  str11          str21        ...       float64            float64    \n",
       "--------- ------------------- ... -------------------- ---------------\n",
       "   225328 1237679322861011512 ...   0.9901862406293075             1.0\n",
       "   225285                  -- ...                  0.0             0.0\n",
       "   214851 1237679323397882147 ...   0.9918452073221287             1.0\n",
       "   225342 1237679322861011562 ... 0.007125453417599189             1.0\n",
       "   215403 1237679323397948127 ...   0.9554885031788347             1.0\n",
       "   225338                  -- ...                  0.0             0.0\n",
       "   214878 1237679254134587627 ...   0.9551469900208761             1.0\n",
       "   225341 1237679322861076661 ...   0.9917371460511851             1.0\n",
       "   225368                  -- ...                  0.0             0.0\n",
       "      ...                 ... ...                  ...             ...\n",
       "   217268                  -- ...                  0.0             0.0\n",
       "   217929                  -- ...                  0.0             0.0\n",
       "   217307 1237679254135374572 ...   0.9665386529826065             1.0\n",
       "   217889                  -- ...                  0.0             0.0\n",
       "   217928 1237679322861863452 ...  0.16451455172692533             1.0\n",
       "   217919 1237679322861863461 ...   0.9888457378300528             1.0\n",
       "   217296                  -- ...                  0.0             0.0\n",
       "   217927                  -- ...                  0.0             0.0\n",
       "   217894 1237679254135374463 ... 0.000522490509981865             1.0\n",
       "   217882 1237679254135439695 ...   0.9774754068651131             1.0"
      ]
     },
     "execution_count": 22,
     "metadata": {},
     "output_type": "execute_result"
    }
   ],
   "source": [
    "primary_matches = xm.get_matchs(match_type='primary_all')\n",
    "primary_matches"
   ]
  },
  {
   "cell_type": "markdown",
   "metadata": {},
   "source": [
    "Set as best matches only counterparts with LR above a given threshold:"
   ]
  },
  {
   "cell_type": "code",
   "execution_count": 23,
   "metadata": {},
   "outputs": [
    {
     "data": {
      "text/html": [
       "<i>Table length=666</i>\n",
       "<table id=\"table139933208345328\" class=\"table-striped table-bordered table-condensed\">\n",
       "<thead><tr><th>SRCID_xxl</th><th>SRCID_sdss</th><th>Separation_xxl_sdss</th><th>ncat</th><th>LR_BEST</th><th>REL_BEST</th><th>LR_BEST_MAG</th><th>match_flag</th><th>prob_has_match</th><th>prob_this_match</th><th>best_match_flag</th></tr></thead>\n",
       "<thead><tr><th></th><th></th><th>arcsec</th><th></th><th></th><th></th><th></th><th></th><th></th><th></th><th></th></tr></thead>\n",
       "<thead><tr><th>str11</th><th>str21</th><th>float64</th><th>int64</th><th>float64</th><th>float64</th><th>bytes6</th><th>int64</th><th>float64</th><th>float64</th><th>int64</th></tr></thead>\n",
       "<tr><td>225328</td><td>1237679322861011512</td><td>1.3714570888758941</td><td>2</td><td>46.68379428075735</td><td>0.9901862406293075</td><td>PRIOR1</td><td>1</td><td>0.9901862406293075</td><td>1.0</td><td>1</td></tr>\n",
       "<tr><td>214851</td><td>1237679323397882147</td><td>1.3144638565450806</td><td>2</td><td>56.412686099022395</td><td>0.9918452073221287</td><td>PRIOR0</td><td>1</td><td>0.9918452073221287</td><td>1.0</td><td>1</td></tr>\n",
       "<tr><td>215403</td><td>1237679323397948127</td><td>2.427267359409059</td><td>2</td><td>9.97973834624464</td><td>0.9554885031788347</td><td>PRIOR2</td><td>1</td><td>0.9554885031788347</td><td>1.0</td><td>1</td></tr>\n",
       "<tr><td>214878</td><td>1237679254134587627</td><td>1.9889052193363361</td><td>2</td><td>9.876985654339315</td><td>0.9551469900208761</td><td>PRIOR0</td><td>1</td><td>0.9551469900208761</td><td>1.0</td><td>1</td></tr>\n",
       "<tr><td>225341</td><td>1237679322861076661</td><td>1.5086594463281928</td><td>2</td><td>55.668857495643444</td><td>0.9917371460511851</td><td>PRIOR0</td><td>1</td><td>0.9917371460511851</td><td>1.0</td><td>1</td></tr>\n",
       "<tr><td>214857</td><td>1237679323397947789</td><td>1.7711934173395705</td><td>2</td><td>20.18104102237253</td><td>0.977499847596325</td><td>PRIOR3</td><td>1</td><td>0.9774998524097869</td><td>0.9999999950757416</td><td>1</td></tr>\n",
       "<tr><td>225416</td><td>1237679253597716770</td><td>2.0121705162664454</td><td>2</td><td>17.15217184562247</td><td>0.9737332968336132</td><td>PRIOR1</td><td>1</td><td>0.9737332968336132</td><td>1.0</td><td>1</td></tr>\n",
       "<tr><td>225370</td><td>1237679322861076786</td><td>4.746065774034002</td><td>2</td><td>1.0744255555312368</td><td>0.6691300326843204</td><td>PRIOR4</td><td>1</td><td>0.7107678944049352</td><td>0.941418482674327</td><td>1</td></tr>\n",
       "<tr><td>214924</td><td>1237679254134587794</td><td>2.1276531024306267</td><td>2</td><td>14.000731503424989</td><td>0.9678866218232455</td><td>PRIOR3</td><td>1</td><td>0.9678866218232455</td><td>1.0</td><td>1</td></tr>\n",
       "<tr><td>...</td><td>...</td><td>...</td><td>...</td><td>...</td><td>...</td><td>...</td><td>...</td><td>...</td><td>...</td><td>...</td></tr>\n",
       "<tr><td>218678</td><td>1237679253598503462</td><td>1.2999506812016144</td><td>2</td><td>20.279317501482108</td><td>0.9776114861137444</td><td>PRIOR4</td><td>1</td><td>0.9776114861137444</td><td>1.0</td><td>1</td></tr>\n",
       "<tr><td>217238</td><td>1237679323398734414</td><td>1.5270863141427915</td><td>2</td><td>34.34244190437629</td><td>0.9867064353217462</td><td>PRIOR1</td><td>1</td><td>0.9867064353217462</td><td>1.0</td><td>1</td></tr>\n",
       "<tr><td>217909</td><td>1237679322861863352</td><td>2.03633789927016</td><td>2</td><td>16.392525390155654</td><td>0.9725493625255595</td><td>PRIOR1</td><td>1</td><td>0.9725494877619115</td><td>0.9999998712288128</td><td>1</td></tr>\n",
       "<tr><td>217303</td><td>1237679254135373933</td><td>4.439494436789353</td><td>2</td><td>0.5321474333801289</td><td>0.5349120577125793</td><td>PRIOR1</td><td>1</td><td>0.5349120577125793</td><td>1.0</td><td>1</td></tr>\n",
       "<tr><td>217313</td><td>1237679254135374545</td><td>1.0820380078272642</td><td>2</td><td>25.04210761975663</td><td>0.9818153583090452</td><td>PRIOR0</td><td>1</td><td>0.9818153583090452</td><td>1.0</td><td>1</td></tr>\n",
       "<tr><td>218676</td><td>1237679322861863376</td><td>0.5475653416462244</td><td>2</td><td>30.628625602668635</td><td>0.9850601080551571</td><td>PRIOR3</td><td>1</td><td>0.9850601080551571</td><td>1.0</td><td>1</td></tr>\n",
       "<tr><td>217294</td><td>1237679323398734463</td><td>1.558445586040676</td><td>2</td><td>19.64144062291717</td><td>0.9769856087182116</td><td>PRIOR1</td><td>1</td><td>0.9769856087182116</td><td>1.0</td><td>1</td></tr>\n",
       "<tr><td>217307</td><td>1237679254135374572</td><td>1.751286873484423</td><td>2</td><td>13.418007814564229</td><td>0.9665386529826065</td><td>PRIOR3</td><td>1</td><td>0.9665386529826065</td><td>1.0</td><td>1</td></tr>\n",
       "<tr><td>217919</td><td>1237679322861863461</td><td>0.338877570253551</td><td>2</td><td>41.17181418117628</td><td>0.9888457378300528</td><td>PRIOR4</td><td>1</td><td>0.9888457378300528</td><td>1.0</td><td>1</td></tr>\n",
       "<tr><td>217882</td><td>1237679254135439695</td><td>0.8786664462688236</td><td>2</td><td>20.153997039591985</td><td>0.9774754068651131</td><td>PRIOR4</td><td>1</td><td>0.9774754068651131</td><td>1.0</td><td>1</td></tr>\n",
       "</table>"
      ],
      "text/plain": [
       "<Table length=666>\n",
       "SRCID_xxl      SRCID_sdss     ...  prob_this_match   best_match_flag\n",
       "                              ...                                   \n",
       "  str11          str21        ...      float64            int64     \n",
       "--------- ------------------- ... ------------------ ---------------\n",
       "   225328 1237679322861011512 ...                1.0               1\n",
       "   214851 1237679323397882147 ...                1.0               1\n",
       "   215403 1237679323397948127 ...                1.0               1\n",
       "   214878 1237679254134587627 ...                1.0               1\n",
       "   225341 1237679322861076661 ...                1.0               1\n",
       "   214857 1237679323397947789 ... 0.9999999950757416               1\n",
       "   225416 1237679253597716770 ...                1.0               1\n",
       "   225370 1237679322861076786 ...  0.941418482674327               1\n",
       "   214924 1237679254134587794 ...                1.0               1\n",
       "      ...                 ... ...                ...             ...\n",
       "   218678 1237679253598503462 ...                1.0               1\n",
       "   217238 1237679323398734414 ...                1.0               1\n",
       "   217909 1237679322861863352 ... 0.9999998712288128               1\n",
       "   217303 1237679254135373933 ...                1.0               1\n",
       "   217313 1237679254135374545 ...                1.0               1\n",
       "   218676 1237679322861863376 ...                1.0               1\n",
       "   217294 1237679323398734463 ...                1.0               1\n",
       "   217307 1237679254135374572 ...                1.0               1\n",
       "   217919 1237679322861863461 ...                1.0               1\n",
       "   217882 1237679254135439695 ...                1.0               1"
      ]
     },
     "execution_count": 23,
     "metadata": {},
     "output_type": "execute_result"
    }
   ],
   "source": [
    "xm.set_best_matchs(cutoff=0.5)\n",
    "\n",
    "best_matches = xm.get_matchs(match_type='best')\n",
    "best_matches"
   ]
  },
  {
   "cell_type": "markdown",
   "metadata": {},
   "source": [
    "If no LR threshold is given, the method will try to find the optimum threshold (maximizing the completeness while minimizing the error rate):"
   ]
  },
  {
   "cell_type": "code",
   "execution_count": 24,
   "metadata": {},
   "outputs": [
    {
     "name": "stdout",
     "output_type": "stream",
     "text": [
      "Optimal threshold is 0.30000000000000004:\n",
      "Selects ~55% of matches with a false detection rate of < 6%\n"
     ]
    },
    {
     "data": {
      "text/html": [
       "<i>Table length=679</i>\n",
       "<table id=\"table139932999228048\" class=\"table-striped table-bordered table-condensed\">\n",
       "<thead><tr><th>SRCID_xxl</th><th>SRCID_sdss</th><th>Separation_xxl_sdss</th><th>ncat</th><th>LR_BEST</th><th>REL_BEST</th><th>LR_BEST_MAG</th><th>match_flag</th><th>prob_has_match</th><th>prob_this_match</th><th>best_match_flag</th></tr></thead>\n",
       "<thead><tr><th></th><th></th><th>arcsec</th><th></th><th></th><th></th><th></th><th></th><th></th><th></th><th></th></tr></thead>\n",
       "<thead><tr><th>str11</th><th>str21</th><th>float64</th><th>int64</th><th>float64</th><th>float64</th><th>bytes6</th><th>int64</th><th>float64</th><th>float64</th><th>int64</th></tr></thead>\n",
       "<tr><td>225328</td><td>1237679322861011512</td><td>1.3714570888758941</td><td>2</td><td>46.68379428075735</td><td>0.9901862406293075</td><td>PRIOR1</td><td>1</td><td>0.9901862406293075</td><td>1.0</td><td>1</td></tr>\n",
       "<tr><td>214851</td><td>1237679323397882147</td><td>1.3144638565450806</td><td>2</td><td>56.412686099022395</td><td>0.9918452073221287</td><td>PRIOR0</td><td>1</td><td>0.9918452073221287</td><td>1.0</td><td>1</td></tr>\n",
       "<tr><td>215403</td><td>1237679323397948127</td><td>2.427267359409059</td><td>2</td><td>9.97973834624464</td><td>0.9554885031788347</td><td>PRIOR2</td><td>1</td><td>0.9554885031788347</td><td>1.0</td><td>1</td></tr>\n",
       "<tr><td>214878</td><td>1237679254134587627</td><td>1.9889052193363361</td><td>2</td><td>9.876985654339315</td><td>0.9551469900208761</td><td>PRIOR0</td><td>1</td><td>0.9551469900208761</td><td>1.0</td><td>1</td></tr>\n",
       "<tr><td>225341</td><td>1237679322861076661</td><td>1.5086594463281928</td><td>2</td><td>55.668857495643444</td><td>0.9917371460511851</td><td>PRIOR0</td><td>1</td><td>0.9917371460511851</td><td>1.0</td><td>1</td></tr>\n",
       "<tr><td>214857</td><td>1237679323397947789</td><td>1.7711934173395705</td><td>2</td><td>20.18104102237253</td><td>0.977499847596325</td><td>PRIOR3</td><td>1</td><td>0.9774998524097869</td><td>0.9999999950757416</td><td>1</td></tr>\n",
       "<tr><td>225416</td><td>1237679253597716770</td><td>2.0121705162664454</td><td>2</td><td>17.15217184562247</td><td>0.9737332968336132</td><td>PRIOR1</td><td>1</td><td>0.9737332968336132</td><td>1.0</td><td>1</td></tr>\n",
       "<tr><td>225370</td><td>1237679322861076786</td><td>4.746065774034002</td><td>2</td><td>1.0744255555312368</td><td>0.6691300326843204</td><td>PRIOR4</td><td>1</td><td>0.7107678944049352</td><td>0.941418482674327</td><td>1</td></tr>\n",
       "<tr><td>214924</td><td>1237679254134587794</td><td>2.1276531024306267</td><td>2</td><td>14.000731503424989</td><td>0.9678866218232455</td><td>PRIOR3</td><td>1</td><td>0.9678866218232455</td><td>1.0</td><td>1</td></tr>\n",
       "<tr><td>...</td><td>...</td><td>...</td><td>...</td><td>...</td><td>...</td><td>...</td><td>...</td><td>...</td><td>...</td><td>...</td></tr>\n",
       "<tr><td>218678</td><td>1237679253598503462</td><td>1.2999506812016144</td><td>2</td><td>20.279317501482108</td><td>0.9776114861137444</td><td>PRIOR4</td><td>1</td><td>0.9776114861137444</td><td>1.0</td><td>1</td></tr>\n",
       "<tr><td>217238</td><td>1237679323398734414</td><td>1.5270863141427915</td><td>2</td><td>34.34244190437629</td><td>0.9867064353217462</td><td>PRIOR1</td><td>1</td><td>0.9867064353217462</td><td>1.0</td><td>1</td></tr>\n",
       "<tr><td>217909</td><td>1237679322861863352</td><td>2.03633789927016</td><td>2</td><td>16.392525390155654</td><td>0.9725493625255595</td><td>PRIOR1</td><td>1</td><td>0.9725494877619115</td><td>0.9999998712288128</td><td>1</td></tr>\n",
       "<tr><td>217303</td><td>1237679254135373933</td><td>4.439494436789353</td><td>2</td><td>0.5321474333801289</td><td>0.5349120577125793</td><td>PRIOR1</td><td>1</td><td>0.5349120577125793</td><td>1.0</td><td>1</td></tr>\n",
       "<tr><td>217313</td><td>1237679254135374545</td><td>1.0820380078272642</td><td>2</td><td>25.04210761975663</td><td>0.9818153583090452</td><td>PRIOR0</td><td>1</td><td>0.9818153583090452</td><td>1.0</td><td>1</td></tr>\n",
       "<tr><td>218676</td><td>1237679322861863376</td><td>0.5475653416462244</td><td>2</td><td>30.628625602668635</td><td>0.9850601080551571</td><td>PRIOR3</td><td>1</td><td>0.9850601080551571</td><td>1.0</td><td>1</td></tr>\n",
       "<tr><td>217294</td><td>1237679323398734463</td><td>1.558445586040676</td><td>2</td><td>19.64144062291717</td><td>0.9769856087182116</td><td>PRIOR1</td><td>1</td><td>0.9769856087182116</td><td>1.0</td><td>1</td></tr>\n",
       "<tr><td>217307</td><td>1237679254135374572</td><td>1.751286873484423</td><td>2</td><td>13.418007814564229</td><td>0.9665386529826065</td><td>PRIOR3</td><td>1</td><td>0.9665386529826065</td><td>1.0</td><td>1</td></tr>\n",
       "<tr><td>217919</td><td>1237679322861863461</td><td>0.338877570253551</td><td>2</td><td>41.17181418117628</td><td>0.9888457378300528</td><td>PRIOR4</td><td>1</td><td>0.9888457378300528</td><td>1.0</td><td>1</td></tr>\n",
       "<tr><td>217882</td><td>1237679254135439695</td><td>0.8786664462688236</td><td>2</td><td>20.153997039591985</td><td>0.9774754068651131</td><td>PRIOR4</td><td>1</td><td>0.9774754068651131</td><td>1.0</td><td>1</td></tr>\n",
       "</table>"
      ],
      "text/plain": [
       "<Table length=679>\n",
       "SRCID_xxl      SRCID_sdss     ...  prob_this_match   best_match_flag\n",
       "                              ...                                   \n",
       "  str11          str21        ...      float64            int64     \n",
       "--------- ------------------- ... ------------------ ---------------\n",
       "   225328 1237679322861011512 ...                1.0               1\n",
       "   214851 1237679323397882147 ...                1.0               1\n",
       "   215403 1237679323397948127 ...                1.0               1\n",
       "   214878 1237679254134587627 ...                1.0               1\n",
       "   225341 1237679322861076661 ...                1.0               1\n",
       "   214857 1237679323397947789 ... 0.9999999950757416               1\n",
       "   225416 1237679253597716770 ...                1.0               1\n",
       "   225370 1237679322861076786 ...  0.941418482674327               1\n",
       "   214924 1237679254134587794 ...                1.0               1\n",
       "      ...                 ... ...                ...             ...\n",
       "   218678 1237679253598503462 ...                1.0               1\n",
       "   217238 1237679323398734414 ...                1.0               1\n",
       "   217909 1237679322861863352 ... 0.9999998712288128               1\n",
       "   217303 1237679254135373933 ...                1.0               1\n",
       "   217313 1237679254135374545 ...                1.0               1\n",
       "   218676 1237679322861863376 ...                1.0               1\n",
       "   217294 1237679323398734463 ...                1.0               1\n",
       "   217307 1237679254135374572 ...                1.0               1\n",
       "   217919 1237679322861863461 ...                1.0               1\n",
       "   217882 1237679254135439695 ...                1.0               1"
      ]
     },
     "execution_count": 24,
     "metadata": {},
     "output_type": "execute_result"
    }
   ],
   "source": [
    "xm.set_best_matchs()\n",
    "\n",
    "best_matches = xm.get_matchs(match_type='best')\n",
    "best_matches"
   ]
  },
  {
   "cell_type": "markdown",
   "metadata": {},
   "source": [
    "DRA, DDEC offsets between matches:"
   ]
  },
  {
   "cell_type": "code",
   "execution_count": 25,
   "metadata": {},
   "outputs": [],
   "source": [
    "from matplotlib import pyplot as plt\n",
    "from scipy.stats import norm\n",
    "\n",
    "dra, ddec = xm.offset('xxl', 'sdss', match_type='best')"
   ]
  },
  {
   "cell_type": "code",
   "execution_count": 26,
   "metadata": {},
   "outputs": [
    {
     "data": {
      "image/png": "[encoded data removed]",
      "text/plain": [
       "<Figure size 936x360 with 2 Axes>"
      ]
     },
     "metadata": {
      "needs_background": "light"
     },
     "output_type": "display_data"
    }
   ],
   "source": [
    "x = np.linspace(-10, 10, num=100)\n",
    "\n",
    "fig = plt.figure(figsize=(13, 5))\n",
    "\n",
    "plt.subplot(121)\n",
    "plt.hist(dra.value, bins='auto', density=True)\n",
    "plt.plot(x, norm.pdf(x, np.mean(dra), np.std(dra)))\n",
    "plt.xlabel('DRA / arcsec')\n",
    "\n",
    "plt.subplot(122)\n",
    "plt.hist(ddec.value, bins='auto', density=True)\n",
    "plt.plot(x, norm.pdf(x, np.mean(ddec), np.std(ddec)))\n",
    "plt.xlabel('DDEC / arcsec')\n",
    "\n",
    "plt.show()"
   ]
  },
  {
   "cell_type": "markdown",
   "metadata": {},
   "source": [
    "How to obtain the information in the optical and X-ray catalogues for the primary counterparts:"
   ]
  },
  {
   "cell_type": "code",
   "execution_count": 27,
   "metadata": {},
   "outputs": [
    {
     "data": {
      "text/plain": [
       "     SRCID_sdss         RA       DEC    e_RA_ICRS ...  rmag   imag   zmag \n",
       "                       deg       deg      arcsec  ...  mag    mag    mag  \n",
       "------------------- --------- --------- --------- ... ------ ------ ------\n",
       "1237679322861011512 34.311354 -4.600466     0.024 ... 20.062 19.671 19.333\n",
       "1237679323397882147 34.319672 -4.283898     0.025 ... 20.590 20.662 20.694\n",
       "1237679323397948127 34.340016 -4.189702     0.088 ... 22.611 22.353 21.180\n",
       "1237679254134587627 34.344256  -4.37099     0.022 ... 20.801 20.766 20.311\n",
       "1237679322861076661 34.345445 -4.628632     0.047 ... 21.579 21.498 21.188\n",
       "1237679323397947789 34.363663  -4.31552     0.082 ... 22.112 22.576 21.722\n",
       "1237679253597716770 34.362917 -4.810162     0.018 ... 20.557 19.961 19.497\n",
       "1237679322861076786 34.367421 -4.700677     0.089 ... 21.764 21.845 21.954\n",
       "1237679254134587794 34.375441 -4.519295     0.071 ... 22.544 22.683 22.686\n",
       "1237679323397947552 34.378941 -4.306573     0.009 ... 19.443 19.272 19.039\n",
       "                ...       ...       ...       ... ...    ...    ...    ...\n",
       "1237679253598503462 36.226313 -4.719962     0.094 ... 22.028 21.498 21.388\n",
       "1237679323398734414 36.228419  -4.10802     0.059 ... 21.395 21.137 21.121\n",
       "1237679322861863352 36.232427 -4.533076     0.076 ... 21.375 21.025 21.663\n",
       "1237679254135373933 36.233767 -4.290447     0.216 ... 21.514 21.702 21.500\n",
       "1237679254135374545 36.233673 -4.329557     0.121 ... 22.358 21.962 21.302\n",
       "1237679322861863376 36.246582 -4.697877     0.118 ... 21.983 22.091 21.495\n",
       "1237679323398734463 36.253822 -4.220832      0.09 ... 22.002 21.816 22.337\n",
       "1237679254135374572 36.270566 -4.307527     0.105 ... 22.164 22.086 21.460\n",
       "1237679322861863461 36.280666 -4.567879     0.069 ... 21.635 21.209 20.965\n",
       "1237679254135439695 36.299244 -4.461509     0.065 ... 21.548 21.210 21.170\n",
       "Length = 679 rows"
      ]
     },
     "execution_count": 27,
     "metadata": {},
     "output_type": "execute_result"
    }
   ],
   "source": [
    "ocat_best = ocat.select_by_id(best_matches['SRCID_sdss'])\n",
    "ocat_best"
   ]
  },
  {
   "cell_type": "code",
   "execution_count": 28,
   "metadata": {},
   "outputs": [
    {
     "data": {
      "text/plain": [
       "SRCID_xxl    RA      DEC    e_Bpos\n",
       "            deg      deg    arcsec\n",
       "--------- -------- -------- ------\n",
       "   225328 34.31101  -4.6003    0.8\n",
       "   214851  34.3196 -4.28354    1.8\n",
       "   215403 34.33934 -4.18971    1.8\n",
       "   214878 34.34372 -4.37113    0.8\n",
       "   225341 34.34508 -4.62884    1.7\n",
       "   214857 34.36319 -4.31538    1.5\n",
       "   225416 34.36344 -4.80996    1.0\n",
       "   225370 34.36855 -4.69999    2.0\n",
       "   214924   34.375 -4.51969    1.8\n",
       "   214856 34.37853 -4.30686    1.0\n",
       "      ...      ...      ...    ...\n",
       "   218678 36.22601 -4.72016    1.5\n",
       "   217238 36.22823 -4.10764    1.5\n",
       "   217909 36.23192 -4.53333    1.5\n",
       "   217303 36.23278 -4.29119    1.5\n",
       "   217313 36.23379 -4.32928    1.6\n",
       "   218676 36.24653 -4.69802    1.5\n",
       "   217294 36.25385  -4.2204    1.8\n",
       "   217307 36.27068   -4.308    1.9\n",
       "   217919 36.28076 -4.56787    1.3\n",
       "   217882 36.29906 -4.46167    1.7\n",
       "Length = 679 rows"
      ]
     },
     "execution_count": 28,
     "metadata": {},
     "output_type": "execute_result"
    }
   ],
   "source": [
    "xcat_best = xcat.select_by_id(best_matches['SRCID_xxl'])\n",
    "xcat_best"
   ]
  },
  {
   "cell_type": "markdown",
   "metadata": {},
   "source": [
    "Join X-ray and optical information of the best matches in a single Astropy Table:"
   ]
  },
  {
   "cell_type": "code",
   "execution_count": 29,
   "metadata": {
    "scrolled": false
   },
   "outputs": [
    {
     "data": {
      "text/html": [
       "<i>Table length=679</i>\n",
       "<table id=\"table139932782304320\" class=\"table-striped table-bordered table-condensed\">\n",
       "<thead><tr><th>SRCID_xxl</th><th>RA_xxl</th><th>DEC_xxl</th><th>e_Bpos</th><th>SRCID_sdss</th><th>RA_sdss</th><th>DEC_sdss</th><th>e_RA_ICRS</th><th>e_DE_ICRS</th><th>umag</th><th>gmag</th><th>rmag</th><th>imag</th><th>zmag</th></tr></thead>\n",
       "<thead><tr><th></th><th>deg</th><th>deg</th><th>arcsec</th><th></th><th>deg</th><th>deg</th><th>arcsec</th><th>arcsec</th><th>mag</th><th>mag</th><th>mag</th><th>mag</th><th>mag</th></tr></thead>\n",
       "<thead><tr><th>str11</th><th>float64</th><th>float64</th><th>float32</th><th>str21</th><th>float64</th><th>float64</th><th>float32</th><th>float32</th><th>float32</th><th>float32</th><th>float32</th><th>float32</th><th>float32</th></tr></thead>\n",
       "<tr><td>225328</td><td>34.31101</td><td>-4.6003</td><td>0.8</td><td>1237679322861011512</td><td>34.311354</td><td>-4.600466</td><td>0.024</td><td>0.021</td><td>23.089</td><td>21.392</td><td>20.062</td><td>19.671</td><td>19.333</td></tr>\n",
       "<tr><td>214851</td><td>34.3196</td><td>-4.28354</td><td>1.8</td><td>1237679323397882147</td><td>34.319672</td><td>-4.283898</td><td>0.025</td><td>0.022</td><td>21.144</td><td>20.703</td><td>20.590</td><td>20.662</td><td>20.694</td></tr>\n",
       "<tr><td>215403</td><td>34.33934</td><td>-4.18971</td><td>1.8</td><td>1237679323397948127</td><td>34.340016</td><td>-4.189702</td><td>0.088</td><td>0.115</td><td>23.631</td><td>23.822</td><td>22.611</td><td>22.353</td><td>21.180</td></tr>\n",
       "<tr><td>214878</td><td>34.34372</td><td>-4.37113</td><td>0.8</td><td>1237679254134587627</td><td>34.344256</td><td>-4.37099</td><td>0.022</td><td>0.021</td><td>21.645</td><td>21.046</td><td>20.801</td><td>20.766</td><td>20.311</td></tr>\n",
       "<tr><td>225341</td><td>34.34508</td><td>-4.62884</td><td>1.7</td><td>1237679322861076661</td><td>34.345445</td><td>-4.628632</td><td>0.047</td><td>0.058</td><td>21.358</td><td>21.705</td><td>21.579</td><td>21.498</td><td>21.188</td></tr>\n",
       "<tr><td>214857</td><td>34.36319</td><td>-4.31538</td><td>1.5</td><td>1237679323397947789</td><td>34.363663</td><td>-4.31552</td><td>0.082</td><td>0.096</td><td>23.996</td><td>22.407</td><td>22.112</td><td>22.576</td><td>21.722</td></tr>\n",
       "<tr><td>225416</td><td>34.36344</td><td>-4.80996</td><td>1.0</td><td>1237679253597716770</td><td>34.362917</td><td>-4.810162</td><td>0.018</td><td>0.019</td><td>23.055</td><td>21.299</td><td>20.557</td><td>19.961</td><td>19.497</td></tr>\n",
       "<tr><td>225370</td><td>34.36855</td><td>-4.69999</td><td>2.0</td><td>1237679322861076786</td><td>34.367421</td><td>-4.700677</td><td>0.089</td><td>0.125</td><td>23.424</td><td>22.809</td><td>21.764</td><td>21.845</td><td>21.954</td></tr>\n",
       "<tr><td>214924</td><td>34.375</td><td>-4.51969</td><td>1.8</td><td>1237679254134587794</td><td>34.375441</td><td>-4.519295</td><td>0.071</td><td>0.09</td><td>22.714</td><td>22.410</td><td>22.544</td><td>22.683</td><td>22.686</td></tr>\n",
       "<tr><td>...</td><td>...</td><td>...</td><td>...</td><td>...</td><td>...</td><td>...</td><td>...</td><td>...</td><td>...</td><td>...</td><td>...</td><td>...</td><td>...</td></tr>\n",
       "<tr><td>218678</td><td>36.22601</td><td>-4.72016</td><td>1.5</td><td>1237679253598503462</td><td>36.226313</td><td>-4.719962</td><td>0.094</td><td>0.129</td><td>25.564</td><td>22.878</td><td>22.028</td><td>21.498</td><td>21.388</td></tr>\n",
       "<tr><td>217238</td><td>36.22823</td><td>-4.10764</td><td>1.5</td><td>1237679323398734414</td><td>36.228419</td><td>-4.10802</td><td>0.059</td><td>0.052</td><td>22.946</td><td>21.472</td><td>21.395</td><td>21.137</td><td>21.121</td></tr>\n",
       "<tr><td>217909</td><td>36.23192</td><td>-4.53333</td><td>1.5</td><td>1237679322861863352</td><td>36.232427</td><td>-4.533076</td><td>0.076</td><td>0.058</td><td>22.324</td><td>21.713</td><td>21.375</td><td>21.025</td><td>21.663</td></tr>\n",
       "<tr><td>217303</td><td>36.23278</td><td>-4.29119</td><td>1.5</td><td>1237679254135373933</td><td>36.233767</td><td>-4.290447</td><td>0.216</td><td>0.095</td><td>22.468</td><td>21.813</td><td>21.514</td><td>21.702</td><td>21.500</td></tr>\n",
       "<tr><td>217313</td><td>36.23379</td><td>-4.32928</td><td>1.6</td><td>1237679254135374545</td><td>36.233673</td><td>-4.329557</td><td>0.121</td><td>0.099</td><td>22.341</td><td>23.148</td><td>22.358</td><td>21.962</td><td>21.302</td></tr>\n",
       "<tr><td>218676</td><td>36.24653</td><td>-4.69802</td><td>1.5</td><td>1237679322861863376</td><td>36.246582</td><td>-4.697877</td><td>0.118</td><td>0.164</td><td>23.839</td><td>22.289</td><td>21.983</td><td>22.091</td><td>21.495</td></tr>\n",
       "<tr><td>217294</td><td>36.25385</td><td>-4.2204</td><td>1.8</td><td>1237679323398734463</td><td>36.253822</td><td>-4.220832</td><td>0.09</td><td>0.079</td><td>22.482</td><td>21.943</td><td>22.002</td><td>21.816</td><td>22.337</td></tr>\n",
       "<tr><td>217307</td><td>36.27068</td><td>-4.308</td><td>1.9</td><td>1237679254135374572</td><td>36.270566</td><td>-4.307527</td><td>0.105</td><td>0.143</td><td>23.583</td><td>23.752</td><td>22.164</td><td>22.086</td><td>21.460</td></tr>\n",
       "<tr><td>217919</td><td>36.28076</td><td>-4.56787</td><td>1.3</td><td>1237679322861863461</td><td>36.280666</td><td>-4.567879</td><td>0.069</td><td>0.074</td><td>23.573</td><td>22.825</td><td>21.635</td><td>21.209</td><td>20.965</td></tr>\n",
       "<tr><td>217882</td><td>36.29906</td><td>-4.46167</td><td>1.7</td><td>1237679254135439695</td><td>36.299244</td><td>-4.461509</td><td>0.065</td><td>0.061</td><td>25.124</td><td>22.586</td><td>21.548</td><td>21.210</td><td>21.170</td></tr>\n",
       "</table>"
      ],
      "text/plain": [
       "<Table length=679>\n",
       "SRCID_xxl  RA_xxl  DEC_xxl   e_Bpos ...   gmag    rmag    imag    zmag \n",
       "            deg      deg     arcsec ...   mag     mag     mag     mag  \n",
       "  str11   float64  float64  float32 ... float32 float32 float32 float32\n",
       "--------- -------- -------- ------- ... ------- ------- ------- -------\n",
       "   225328 34.31101  -4.6003     0.8 ...  21.392  20.062  19.671  19.333\n",
       "   214851  34.3196 -4.28354     1.8 ...  20.703  20.590  20.662  20.694\n",
       "   215403 34.33934 -4.18971     1.8 ...  23.822  22.611  22.353  21.180\n",
       "   214878 34.34372 -4.37113     0.8 ...  21.046  20.801  20.766  20.311\n",
       "   225341 34.34508 -4.62884     1.7 ...  21.705  21.579  21.498  21.188\n",
       "   214857 34.36319 -4.31538     1.5 ...  22.407  22.112  22.576  21.722\n",
       "   225416 34.36344 -4.80996     1.0 ...  21.299  20.557  19.961  19.497\n",
       "   225370 34.36855 -4.69999     2.0 ...  22.809  21.764  21.845  21.954\n",
       "   214924   34.375 -4.51969     1.8 ...  22.410  22.544  22.683  22.686\n",
       "      ...      ...      ...     ... ...     ...     ...     ...     ...\n",
       "   218678 36.22601 -4.72016     1.5 ...  22.878  22.028  21.498  21.388\n",
       "   217238 36.22823 -4.10764     1.5 ...  21.472  21.395  21.137  21.121\n",
       "   217909 36.23192 -4.53333     1.5 ...  21.713  21.375  21.025  21.663\n",
       "   217303 36.23278 -4.29119     1.5 ...  21.813  21.514  21.702  21.500\n",
       "   217313 36.23379 -4.32928     1.6 ...  23.148  22.358  21.962  21.302\n",
       "   218676 36.24653 -4.69802     1.5 ...  22.289  21.983  22.091  21.495\n",
       "   217294 36.25385  -4.2204     1.8 ...  21.943  22.002  21.816  22.337\n",
       "   217307 36.27068   -4.308     1.9 ...  23.752  22.164  22.086  21.460\n",
       "   217919 36.28076 -4.56787     1.3 ...  22.825  21.635  21.209  20.965\n",
       "   217882 36.29906 -4.46167     1.7 ...  22.586  21.548  21.210  21.170"
      ]
     },
     "execution_count": 29,
     "metadata": {},
     "output_type": "execute_result"
    }
   ],
   "source": [
    "from astropy.table import hstack\n",
    "\n",
    "best_all = hstack(\n",
    "    [xcat_best.save(), ocat_best.save()],  # Catalogues can be converted into Tables using the `save` method\n",
    "    table_names=[xcat_best.name, ocat_best.name],\n",
    "    join_type='exact')\n",
    "best_all"
   ]
  },
  {
   "cell_type": "markdown",
   "metadata": {},
   "source": [
    "There are differents methods to characterize the statistical properties of the cross-match.\n",
    "\n",
    "Using the probabilities estimated by the LR algorithm:"
   ]
  },
  {
   "cell_type": "code",
   "execution_count": 30,
   "metadata": {},
   "outputs": [],
   "source": [
    "lr_stats = xm.stats(ncutoff=501, maxcutoff=10.0)"
   ]
  },
  {
   "cell_type": "markdown",
   "metadata": {},
   "source": [
    "By cross-matching with a randomized catalogue of X-ray sources:"
   ]
  },
  {
   "cell_type": "code",
   "execution_count": 31,
   "metadata": {},
   "outputs": [
    {
     "name": "stdout",
     "output_type": "stream",
     "text": [
      "INFO: Randomizing primary catalogue... [astromatch.lr]\n",
      "INFO: Cross-matching with randomized catalogue... [astromatch.lr]\n"
     ]
    }
   ],
   "source": [
    "lr_stats_rnd = xm.stats(match_rnd=True, ncutoff=501, maxcutoff=10.0, poserr_dist=\"normal\")\n"
   ]
  },
  {
   "cell_type": "markdown",
   "metadata": {},
   "source": [
    "By using the randomization method described in Broos et al. 2006:"
   ]
  },
  {
   "cell_type": "code",
   "execution_count": 32,
   "metadata": {},
   "outputs": [
    {
     "name": "stdout",
     "output_type": "stream",
     "text": [
      "INFO: Randomizing primary catalogue... [astromatch.lr]\n",
      "INFO: Cross-matching with randomized catalogue... [astromatch.lr]\n"
     ]
    },
    {
     "name": "stderr",
     "output_type": "stream",
     "text": [
      "WARNING: MergeConflictWarning: Cannot merge meta key 'null' types <class 'float'> and <class 'float'>, choosing null=nan [astropy.utils.metadata]\n"
     ]
    }
   ],
   "source": [
    "lr_stats_broos = xm.stats(use_broos=True, ntest=1, ncutoff=501, maxcutoff=10.0, poserr_dist=\"normal\")"
   ]
  },
  {
   "cell_type": "code",
   "execution_count": 33,
   "metadata": {},
   "outputs": [
    {
     "data": {
      "image/png": "[encoded data removed]",
      "text/plain": [
       "<Figure size 936x360 with 2 Axes>"
      ]
     },
     "metadata": {
      "needs_background": "light"
     },
     "output_type": "display_data"
    }
   ],
   "source": [
    "fig = plt.figure(figsize=(13, 5))\n",
    "\n",
    "plt.subplot(121)\n",
    "plt.plot(lr_stats['cutoff'], lr_stats['error_rate'], lw=3, label=\"stats\")\n",
    "plt.plot(lr_stats_rnd['cutoff'], lr_stats_rnd['error_rate'], lw=3, ls=':', label=\"rand\")\n",
    "plt.plot(lr_stats_broos['cutoff'], lr_stats_broos['error_rate'], lw=3, ls='--', label=\"broos\")\n",
    "plt.legend()\n",
    "\n",
    "plt.xlabel('LR')\n",
    "plt.ylabel('error rate')\n",
    "\n",
    "\n",
    "plt.subplot(122)\n",
    "plt.plot(lr_stats['reliability'], lr_stats['completeness'], lw=3)\n",
    "plt.plot(lr_stats_rnd['reliability'], lr_stats_rnd['completeness'], lw=3, ls=':')\n",
    "plt.plot(lr_stats_broos['reliability'], lr_stats_broos['completeness'], lw=3, ls='--')\n",
    "\n",
    "plt.xlabel('purity')\n",
    "plt.ylabel('completeness')\n",
    "\n",
    "plt.tight_layout()\n",
    "plt.show()"
   ]
  },
  {
   "cell_type": "markdown",
   "metadata": {},
   "source": [
    "We repeat the cross-matching of our two catalogues using NWAY:"
   ]
  },
  {
   "cell_type": "code",
   "execution_count": 34,
   "metadata": {},
   "outputs": [
    {
     "name": "stderr",
     "output_type": "stream",
     "text": [
      "    adding angular separation columns\n",
      "matching:   2311 matches after filtering by search radius\n",
      "Primary catalogue \"xxl\" (1238), density gives 1.62e+07 objects on entire sky\n",
      "Catalogue \"sdss\" (43559), density gives 5.69e+08 objects on entire sky\n",
      "Computing distance-based probabilities ...\n",
      "    correcting for unrelated associations ...\n",
      "\r",
      "  0%|          | 0/1238 [00:00<?, ?it/s]"
     ]
    },
    {
     "name": "stdout",
     "output_type": "stream",
     "text": [
      "INFO: Using NWAY method: [astromatch.core]\n"
     ]
    },
    {
     "name": "stderr",
     "output_type": "stream",
     "text": [
      "100%|██████████| 1238/1238 [00:02<00:00, 594.49it/s]\n",
      "\n",
      "Computing final probabilities ...\n",
      "    grouping by primary catalogue ID and flagging ...\n"
     ]
    }
   ],
   "source": [
    "match_nway_nomags = xm.run(method='nway', radius=10.0*u.arcsec, prior_completeness=0.55)"
   ]
  },
  {
   "cell_type": "markdown",
   "metadata": {},
   "source": [
    "The match we have just performed does not take into account the optical magnitudes of the SDSS sources. If we want to use that information during the cross-matching, we set the `use_mags` parameter to `True` and astromatch automatically estimates magnitude priors from the photometric data contained in the optical catalogue:"
   ]
  },
  {
   "cell_type": "code",
   "execution_count": 35,
   "metadata": {},
   "outputs": [
    {
     "name": "stderr",
     "output_type": "stream",
     "text": [
      "    adding angular separation columns\n",
      "matching:   2311 matches after filtering by search radius\n",
      "Primary catalogue \"xxl\" (1238), density gives 1.62e+07 objects on entire sky\n",
      "Catalogue \"sdss\" (43559), density gives 5.69e+08 objects on entire sky\n",
      "Computing distance-based probabilities ...\n",
      "    correcting for unrelated associations ...\n",
      "\r",
      "  0%|          | 0/1238 [00:00<?, ?it/s]"
     ]
    },
    {
     "name": "stdout",
     "output_type": "stream",
     "text": [
      "INFO: Using NWAY method: [astromatch.core]\n"
     ]
    },
    {
     "name": "stderr",
     "output_type": "stream",
     "text": [
      "100%|██████████| 1238/1238 [00:02<00:00, 589.27it/s]\n",
      "Incorporating bias \"sdss:umag\" ...\n",
      "magnitude histogram of column \"sdss_umag\": 490 secure matches, 792 insecure matches and 42767 secure non-matches of 43559 total entries (43559 valid)\n",
      "magnitude histogram stored to \"sdss_umag_fit.txt\".\n",
      "Incorporating bias \"sdss:gmag\" ...\n",
      "magnitude histogram of column \"sdss_gmag\": 490 secure matches, 792 insecure matches and 42767 secure non-matches of 43559 total entries (43559 valid)\n",
      "magnitude histogram stored to \"sdss_gmag_fit.txt\".\n",
      "Incorporating bias \"sdss:rmag\" ...\n",
      "magnitude histogram of column \"sdss_rmag\": 490 secure matches, 792 insecure matches and 42767 secure non-matches of 43559 total entries (43559 valid)\n",
      "magnitude histogram stored to \"sdss_rmag_fit.txt\".\n",
      "Incorporating bias \"sdss:imag\" ...\n",
      "magnitude histogram of column \"sdss_imag\": 490 secure matches, 792 insecure matches and 42767 secure non-matches of 43559 total entries (43559 valid)\n",
      "magnitude histogram stored to \"sdss_imag_fit.txt\".\n",
      "Incorporating bias \"sdss:zmag\" ...\n",
      "magnitude histogram of column \"sdss_zmag\": 490 secure matches, 792 insecure matches and 42767 secure non-matches of 43559 total entries (43559 valid)\n",
      "magnitude histogram stored to \"sdss_zmag_fit.txt\".\n",
      "\n",
      "Computing final probabilities ...\n",
      "    grouping by primary catalogue ID and flagging ...\n"
     ]
    },
    {
     "name": "stdout",
     "output_type": "stream",
     "text": [
      "INFO: Using provided prior... [astromatch.priors]\n"
     ]
    }
   ],
   "source": [
    "match_nway_mags_default = xm.run(method='nway', radius=10.0*u.arcsec, use_mags=True, prior_completeness=0.55)"
   ]
  },
  {
   "cell_type": "markdown",
   "metadata": {},
   "source": [
    "By default NWAY uses high likelihood counterparts (matches with high posterior probability estimated using only the positional information) to calculate the magnitude priors. This is controlled by the argument `dist_post_min`, by default using a value of 0.9 (i.e. only matches with a posterior positional probability above 0.9 are used for building the magnitude priors). Alternatively, if `dist_post_min` is `None`, you can build priors using the same method implemented in the LR algorithm:"
   ]
  },
  {
   "cell_type": "code",
   "execution_count": 36,
   "metadata": {},
   "outputs": [
    {
     "name": "stdout",
     "output_type": "stream",
     "text": [
      "INFO: Using NWAY method: [astromatch.core]\n",
      "INFO: Estimating priors using Catalogues: xxl and sdss... [astromatch.priors]\n"
     ]
    },
    {
     "name": "stderr",
     "output_type": "stream",
     "text": [
      "    adding angular separation columns\n",
      "matching:   2311 matches after filtering by search radius\n",
      "Primary catalogue \"xxl\" (1238), density gives 1.62e+07 objects on entire sky\n",
      "Catalogue \"sdss\" (43559), density gives 5.69e+08 objects on entire sky\n",
      "Computing distance-based probabilities ...\n",
      "    correcting for unrelated associations ...\n",
      "\r",
      "  0%|          | 0/1238 [00:00<?, ?it/s]"
     ]
    },
    {
     "name": "stdout",
     "output_type": "stream",
     "text": [
      "INFO: Using columns: ['umag', 'gmag', 'rmag', 'imag', 'zmag'] [astromatch.priors]\n"
     ]
    },
    {
     "name": "stderr",
     "output_type": "stream",
     "text": [
      "100%|██████████| 1238/1238 [00:02<00:00, 611.58it/s]\n",
      "Incorporating bias \"sdss:umag\" ...\n",
      "magnitude histogramming: using user-supplied histogram for \"sdss_umag\"\n",
      "Incorporating bias \"sdss:gmag\" ...\n",
      "magnitude histogramming: using user-supplied histogram for \"sdss_gmag\"\n",
      "Incorporating bias \"sdss:rmag\" ...\n",
      "magnitude histogramming: using user-supplied histogram for \"sdss_rmag\"\n",
      "Incorporating bias \"sdss:imag\" ...\n",
      "magnitude histogramming: using user-supplied histogram for \"sdss_imag\"\n",
      "Incorporating bias \"sdss:zmag\" ...\n",
      "magnitude histogramming: using user-supplied histogram for \"sdss_zmag\"\n",
      "\n",
      "Computing final probabilities ...\n",
      "    grouping by primary catalogue ID and flagging ...\n"
     ]
    }
   ],
   "source": [
    "match_nway_mags_custom = xm.run(\n",
    "    method='nway',\n",
    "    radius=10.0*u.arcsec,\n",
    "    prior_completeness=0.55,\n",
    "    use_mags=True,\n",
    "    dist_post_min=None,\n",
    "# Default settings for LR magnitude priors\n",
    "    mag_include_radius=10*u.arcsec,\n",
    "    magmin=10.0,\n",
    "    magmax=30.0,\n",
    "    magbinsize=0.5,\n",
    "    rndcat=True,\n",
    ")"
   ]
  },
  {
   "cell_type": "markdown",
   "metadata": {},
   "source": [
    "Or we can just use the magnitude prior we calculated during the LR match. In this case we need to define a dictionary containing the priors for each secondary catalogue that is included in the match (only the SDSS catalogue in this particular example):"
   ]
  },
  {
   "cell_type": "code",
   "execution_count": 37,
   "metadata": {},
   "outputs": [
    {
     "name": "stdout",
     "output_type": "stream",
     "text": [
      "INFO: Using provided prior... [astromatch.priors]\n",
      "INFO: Using NWAY method: [astromatch.core]\n"
     ]
    },
    {
     "name": "stderr",
     "output_type": "stream",
     "text": [
      "    adding angular separation columns\n",
      "matching:   2311 matches after filtering by search radius\n",
      "Primary catalogue \"xxl\" (1238), density gives 1.62e+07 objects on entire sky\n",
      "Catalogue \"sdss\" (43559), density gives 5.69e+08 objects on entire sky\n",
      "Computing distance-based probabilities ...\n",
      "    correcting for unrelated associations ...\n",
      "100%|██████████| 1238/1238 [00:03<00:00, 411.17it/s]\n",
      "Incorporating bias \"sdss:umag\" ...\n",
      "magnitude histogramming: using user-supplied histogram for \"sdss_umag\"\n",
      "Incorporating bias \"sdss:gmag\" ...\n",
      "magnitude histogramming: using user-supplied histogram for \"sdss_gmag\"\n",
      "Incorporating bias \"sdss:rmag\" ...\n",
      "magnitude histogramming: using user-supplied histogram for \"sdss_rmag\"\n",
      "Incorporating bias \"sdss:imag\" ...\n",
      "magnitude histogramming: using user-supplied histogram for \"sdss_imag\"\n",
      "Incorporating bias \"sdss:zmag\" ...\n",
      "magnitude histogramming: using user-supplied histogram for \"sdss_zmag\"\n",
      "\n",
      "Computing final probabilities ...\n",
      "    grouping by primary catalogue ID and flagging ...\n"
     ]
    }
   ],
   "source": [
    "from astromatch.priors import Prior\n",
    "\n",
    "prior_labels = [f\"PRIOR{i}\" for i in range(5)]\n",
    "priors = {'sdss': Prior.from_table(\"lrpriors.fits\", prior_labels)}\n",
    "\n",
    "match_nway_mags_custom2 = xm.run(\n",
    "    method='nway', radius=10.0*u.arcsec, prior_completeness=0.55, use_mags=True, priors=priors\n",
    ")"
   ]
  },
  {
   "cell_type": "code",
   "execution_count": 38,
   "metadata": {},
   "outputs": [
    {
     "data": {
      "image/png": "[encoded data removed]",
      "text/plain": [
       "<Figure size 288x360 with 1 Axes>"
      ]
     },
     "metadata": {
      "needs_background": "light"
     },
     "output_type": "display_data"
    }
   ],
   "source": [
    "fig = plt.figure(figsize=(4, 5))\n",
    "\n",
    "plt.hist(match_nway_nomags['prob_has_match'], bins='auto')\n",
    "plt.hist(match_nway_mags_default['prob_has_match'], bins='auto', histtype='step', lw=3)\n",
    "plt.hist(match_nway_mags_custom['prob_has_match'], bins='auto', histtype='step', lw=3, ls='--')\n",
    "plt.hist(match_nway_mags_custom2['prob_has_match'], bins='auto', histtype='step', lw=3, ls=':')\n",
    "\n",
    "plt.show()"
   ]
  },
  {
   "cell_type": "markdown",
   "metadata": {},
   "source": [
    "DRA, DDEC offsets between matches for NWAY results:"
   ]
  },
  {
   "cell_type": "code",
   "execution_count": 39,
   "metadata": {},
   "outputs": [
    {
     "data": {
      "image/png": "[encoded data removed]",
      "text/plain": [
       "<Figure size 936x360 with 2 Axes>"
      ]
     },
     "metadata": {
      "needs_background": "light"
     },
     "output_type": "display_data"
    }
   ],
   "source": [
    "from matplotlib import pyplot as plt\n",
    "from scipy.stats import norm\n",
    "\n",
    "xm.set_best_matchs(cutoff=0.8)\n",
    "dra, ddec = xm.offset('xxl', 'sdss', match_type='best')\n",
    "x = np.linspace(-10, 10, num=100)\n",
    "\n",
    "fig = plt.figure(figsize=(13, 5))\n",
    "\n",
    "plt.subplot(121)\n",
    "plt.hist(dra.value, bins='auto', density=True)\n",
    "plt.plot(x, norm.pdf(x, np.mean(dra), np.std(dra)))\n",
    "plt.xlabel('DRA / arcsec')\n",
    "\n",
    "plt.subplot(122)\n",
    "plt.hist(ddec.value, bins='auto', density=True)\n",
    "plt.plot(x, norm.pdf(x, np.mean(ddec), np.std(ddec)))\n",
    "plt.xlabel('DDEC / arcsec')\n",
    "\n",
    "plt.show()"
   ]
  },
  {
   "cell_type": "code",
   "execution_count": 40,
   "metadata": {
    "scrolled": true
   },
   "outputs": [
    {
     "name": "stderr",
     "output_type": "stream",
     "text": [
      "matching: using fast flat-sky approximation for this match\n",
      "100%|██████████| 44797/44797 [00:00<00:00, 89395.87it/s]\n",
      "matching: collecting from 4948 buckets, creating cartesian products ...\n",
      "100%|██████████| 4948/4948 [00:00<00:00, 75756.77it/s]\n",
      "matching:   2381 unique matches from cartesian product. sorting ...\n",
      "    adding angular separation columns\n",
      "matching:   1650 matches after filtering by search radius\n",
      "Primary catalogue \"xxl\" (1238), density gives 1.62e+07 objects on entire sky\n",
      "Catalogue \"sdss\" (43559), density gives 5.69e+08 objects on entire sky\n",
      "Computing distance-based probabilities ...\n",
      "    correcting for unrelated associations ...\n",
      "100%|██████████| 1238/1238 [00:02<00:00, 487.81it/s]\n",
      "Incorporating bias \"sdss:umag\" ...\n",
      "magnitude histogramming: using user-supplied histogram for \"sdss_umag\"\n",
      "Incorporating bias \"sdss:gmag\" ...\n",
      "magnitude histogramming: using user-supplied histogram for \"sdss_gmag\"\n",
      "Incorporating bias \"sdss:rmag\" ...\n",
      "magnitude histogramming: using user-supplied histogram for \"sdss_rmag\"\n",
      "Incorporating bias \"sdss:imag\" ...\n",
      "magnitude histogramming: using user-supplied histogram for \"sdss_imag\"\n",
      "Incorporating bias \"sdss:zmag\" ...\n",
      "magnitude histogramming: using user-supplied histogram for \"sdss_zmag\"\n",
      "\n",
      "Computing final probabilities ...\n",
      "    grouping by primary catalogue ID and flagging ...\n",
      "matching: using fast flat-sky approximation for this match\n",
      "100%|██████████| 44797/44797 [00:00<00:00, 206866.67it/s]\n",
      "matching: collecting from 4951 buckets, creating cartesian products ...\n",
      "100%|██████████| 4951/4951 [00:00<00:00, 92793.18it/s]\n",
      "matching:   2455 unique matches from cartesian product. sorting ...\n",
      "    adding angular separation columns\n",
      "matching:   1678 matches after filtering by search radius\n",
      "Primary catalogue \"xxl\" (1238), density gives 1.62e+07 objects on entire sky\n",
      "Catalogue \"sdss\" (43559), density gives 5.69e+08 objects on entire sky\n",
      "Computing distance-based probabilities ...\n",
      "    correcting for unrelated associations ...\n",
      "100%|██████████| 1238/1238 [00:02<00:00, 611.37it/s]\n",
      "Incorporating bias \"sdss:umag\" ...\n",
      "magnitude histogramming: using user-supplied histogram for \"sdss_umag\"\n",
      "Incorporating bias \"sdss:gmag\" ...\n",
      "magnitude histogramming: using user-supplied histogram for \"sdss_gmag\"\n",
      "Incorporating bias \"sdss:rmag\" ...\n",
      "magnitude histogramming: using user-supplied histogram for \"sdss_rmag\"\n",
      "Incorporating bias \"sdss:imag\" ...\n",
      "magnitude histogramming: using user-supplied histogram for \"sdss_imag\"\n",
      "Incorporating bias \"sdss:zmag\" ...\n",
      "magnitude histogramming: using user-supplied histogram for \"sdss_zmag\"\n",
      "\n",
      "Computing final probabilities ...\n",
      "    grouping by primary catalogue ID and flagging ...\n",
      "WARNING: MergeConflictWarning: Cannot merge meta key 'null' types <class 'float'> and <class 'float'>, choosing null=nan [astropy.utils.metadata]\n",
      "matching: using fast flat-sky approximation for this match\n",
      "100%|██████████| 45637/45637 [00:00<00:00, 159592.27it/s]\n",
      "matching: collecting from 4951 buckets, creating cartesian products ...\n",
      "100%|██████████| 4951/4951 [00:00<00:00, 98025.42it/s]\n",
      "matching:   3705 unique matches from cartesian product. sorting ...\n",
      "    adding angular separation columns\n",
      "matching:   2892 matches after filtering by search radius\n",
      "Primary catalogue \"xxl\" (1238), density gives 1.62e+07 objects on entire sky\n",
      "Catalogue \"sdss\" (44399), density gives 5.80e+08 objects on entire sky\n",
      "Computing distance-based probabilities ...\n",
      "    correcting for unrelated associations ...\n",
      "100%|██████████| 1238/1238 [00:01<00:00, 666.14it/s]\n",
      "Incorporating bias \"sdss:umag\" ...\n",
      "magnitude histogramming: using user-supplied histogram for \"sdss_umag\"\n",
      "Incorporating bias \"sdss:gmag\" ...\n",
      "magnitude histogramming: using user-supplied histogram for \"sdss_gmag\"\n",
      "Incorporating bias \"sdss:rmag\" ...\n",
      "magnitude histogramming: using user-supplied histogram for \"sdss_rmag\"\n",
      "Incorporating bias \"sdss:imag\" ...\n",
      "magnitude histogramming: using user-supplied histogram for \"sdss_imag\"\n",
      "Incorporating bias \"sdss:zmag\" ...\n",
      "magnitude histogramming: using user-supplied histogram for \"sdss_zmag\"\n",
      "\n",
      "Computing final probabilities ...\n",
      "    grouping by primary catalogue ID and flagging ...\n",
      "matching: using fast flat-sky approximation for this match\n",
      "100%|██████████| 44797/44797 [00:00<00:00, 117653.47it/s]\n",
      "matching: collecting from 4951 buckets, creating cartesian products ...\n",
      "100%|██████████| 4951/4951 [00:00<00:00, 61402.99it/s]\n",
      "matching:   2399 unique matches from cartesian product. sorting ...\n",
      "    adding angular separation columns\n",
      "matching:   1667 matches after filtering by search radius\n",
      "Primary catalogue \"xxl\" (1238), density gives 1.62e+07 objects on entire sky\n",
      "Catalogue \"sdss\" (43559), density gives 5.69e+08 objects on entire sky\n",
      "Computing distance-based probabilities ...\n",
      "    correcting for unrelated associations ...\n",
      "100%|██████████| 1238/1238 [00:03<00:00, 399.62it/s]\n",
      "Incorporating bias \"sdss:umag\" ...\n",
      "magnitude histogramming: using user-supplied histogram for \"sdss_umag\"\n",
      "Incorporating bias \"sdss:gmag\" ...\n",
      "magnitude histogramming: using user-supplied histogram for \"sdss_gmag\"\n",
      "Incorporating bias \"sdss:rmag\" ...\n",
      "magnitude histogramming: using user-supplied histogram for \"sdss_rmag\"\n",
      "Incorporating bias \"sdss:imag\" ...\n",
      "magnitude histogramming: using user-supplied histogram for \"sdss_imag\"\n",
      "Incorporating bias \"sdss:zmag\" ...\n",
      "magnitude histogramming: using user-supplied histogram for \"sdss_zmag\"\n",
      "\n",
      "Computing final probabilities ...\n",
      "    grouping by primary catalogue ID and flagging ...\n",
      "WARNING: MergeConflictWarning: Cannot merge meta key 'null' types <class 'float'> and <class 'float'>, choosing null=nan [astropy.utils.metadata]\n",
      "matching: using fast flat-sky approximation for this match\n",
      "100%|██████████| 45637/45637 [00:00<00:00, 108139.74it/s]\n",
      "matching: collecting from 4950 buckets, creating cartesian products ...\n",
      "100%|██████████| 4950/4950 [00:00<00:00, 179445.16it/s]\n",
      "matching:   3630 unique matches from cartesian product. sorting ...\n",
      "    adding angular separation columns\n",
      "matching:   2876 matches after filtering by search radius\n",
      "Primary catalogue \"xxl\" (1238), density gives 1.62e+07 objects on entire sky\n",
      "Catalogue \"sdss\" (44399), density gives 5.80e+08 objects on entire sky\n",
      "Computing distance-based probabilities ...\n",
      "    correcting for unrelated associations ...\n",
      "100%|██████████| 1238/1238 [00:02<00:00, 590.56it/s]\n",
      "Incorporating bias \"sdss:umag\" ...\n",
      "magnitude histogramming: using user-supplied histogram for \"sdss_umag\"\n",
      "Incorporating bias \"sdss:gmag\" ...\n",
      "magnitude histogramming: using user-supplied histogram for \"sdss_gmag\"\n",
      "Incorporating bias \"sdss:rmag\" ...\n",
      "magnitude histogramming: using user-supplied histogram for \"sdss_rmag\"\n",
      "Incorporating bias \"sdss:imag\" ...\n",
      "magnitude histogramming: using user-supplied histogram for \"sdss_imag\"\n",
      "Incorporating bias \"sdss:zmag\" ...\n",
      "magnitude histogramming: using user-supplied histogram for \"sdss_zmag\"\n",
      "\n",
      "Computing final probabilities ...\n",
      "    grouping by primary catalogue ID and flagging ...\n",
      "matching: using fast flat-sky approximation for this match\n",
      "100%|██████████| 44797/44797 [00:00<00:00, 148099.29it/s]\n",
      "matching: collecting from 4952 buckets, creating cartesian products ...\n",
      "100%|██████████| 4952/4952 [00:00<00:00, 133999.52it/s]\n",
      "matching:   2349 unique matches from cartesian product. sorting ...\n",
      "    adding angular separation columns\n",
      "matching:   1644 matches after filtering by search radius\n",
      "Primary catalogue \"xxl\" (1238), density gives 1.62e+07 objects on entire sky\n",
      "Catalogue \"sdss\" (43559), density gives 5.69e+08 objects on entire sky\n",
      "Computing distance-based probabilities ...\n",
      "    correcting for unrelated associations ...\n",
      "100%|██████████| 1238/1238 [00:02<00:00, 568.10it/s]\n",
      "Incorporating bias \"sdss:umag\" ...\n",
      "magnitude histogramming: using user-supplied histogram for \"sdss_umag\"\n",
      "Incorporating bias \"sdss:gmag\" ...\n",
      "magnitude histogramming: using user-supplied histogram for \"sdss_gmag\"\n",
      "Incorporating bias \"sdss:rmag\" ...\n",
      "magnitude histogramming: using user-supplied histogram for \"sdss_rmag\"\n",
      "Incorporating bias \"sdss:imag\" ...\n",
      "magnitude histogramming: using user-supplied histogram for \"sdss_imag\"\n",
      "Incorporating bias \"sdss:zmag\" ...\n",
      "magnitude histogramming: using user-supplied histogram for \"sdss_zmag\"\n",
      "\n",
      "Computing final probabilities ...\n",
      "    grouping by primary catalogue ID and flagging ...\n"
     ]
    },
    {
     "name": "stderr",
     "output_type": "stream",
     "text": [
      "WARNING: MergeConflictWarning: Cannot merge meta key 'null' types <class 'float'> and <class 'float'>, choosing null=nan [astropy.utils.metadata]\n",
      "matching: using fast flat-sky approximation for this match\n",
      "100%|██████████| 45637/45637 [00:00<00:00, 144103.42it/s]\n",
      "matching: collecting from 4952 buckets, creating cartesian products ...\n",
      "100%|██████████| 4952/4952 [00:00<00:00, 117966.88it/s]\n",
      "matching:   3628 unique matches from cartesian product. sorting ...\n",
      "    adding angular separation columns\n",
      "matching:   2885 matches after filtering by search radius\n",
      "Primary catalogue \"xxl\" (1238), density gives 1.62e+07 objects on entire sky\n",
      "Catalogue \"sdss\" (44399), density gives 5.80e+08 objects on entire sky\n",
      "Computing distance-based probabilities ...\n",
      "    correcting for unrelated associations ...\n",
      "100%|██████████| 1238/1238 [00:01<00:00, 669.80it/s]\n",
      "Incorporating bias \"sdss:umag\" ...\n",
      "magnitude histogramming: using user-supplied histogram for \"sdss_umag\"\n",
      "Incorporating bias \"sdss:gmag\" ...\n",
      "magnitude histogramming: using user-supplied histogram for \"sdss_gmag\"\n",
      "Incorporating bias \"sdss:rmag\" ...\n",
      "magnitude histogramming: using user-supplied histogram for \"sdss_rmag\"\n",
      "Incorporating bias \"sdss:imag\" ...\n",
      "magnitude histogramming: using user-supplied histogram for \"sdss_imag\"\n",
      "Incorporating bias \"sdss:zmag\" ...\n",
      "magnitude histogramming: using user-supplied histogram for \"sdss_zmag\"\n",
      "\n",
      "Computing final probabilities ...\n",
      "    grouping by primary catalogue ID and flagging ...\n",
      "matching: using fast flat-sky approximation for this match\n",
      "100%|██████████| 44797/44797 [00:00<00:00, 128999.47it/s]\n",
      "matching: collecting from 4951 buckets, creating cartesian products ...\n",
      "100%|██████████| 4951/4951 [00:00<00:00, 123732.34it/s]\n",
      "matching:   2406 unique matches from cartesian product. sorting ...\n",
      "    adding angular separation columns\n",
      "matching:   1647 matches after filtering by search radius\n",
      "Primary catalogue \"xxl\" (1238), density gives 1.62e+07 objects on entire sky\n",
      "Catalogue \"sdss\" (43559), density gives 5.69e+08 objects on entire sky\n",
      "Computing distance-based probabilities ...\n",
      "    correcting for unrelated associations ...\n",
      "100%|██████████| 1238/1238 [00:01<00:00, 653.97it/s]\n",
      "Incorporating bias \"sdss:umag\" ...\n",
      "magnitude histogramming: using user-supplied histogram for \"sdss_umag\"\n",
      "Incorporating bias \"sdss:gmag\" ...\n",
      "magnitude histogramming: using user-supplied histogram for \"sdss_gmag\"\n",
      "Incorporating bias \"sdss:rmag\" ...\n",
      "magnitude histogramming: using user-supplied histogram for \"sdss_rmag\"\n",
      "Incorporating bias \"sdss:imag\" ...\n",
      "magnitude histogramming: using user-supplied histogram for \"sdss_imag\"\n",
      "Incorporating bias \"sdss:zmag\" ...\n",
      "magnitude histogramming: using user-supplied histogram for \"sdss_zmag\"\n",
      "\n",
      "Computing final probabilities ...\n",
      "    grouping by primary catalogue ID and flagging ...\n",
      "WARNING: MergeConflictWarning: Cannot merge meta key 'null' types <class 'float'> and <class 'float'>, choosing null=nan [astropy.utils.metadata]\n",
      "matching: using fast flat-sky approximation for this match\n",
      "100%|██████████| 45637/45637 [00:00<00:00, 132410.72it/s]\n",
      "matching: collecting from 4948 buckets, creating cartesian products ...\n",
      "100%|██████████| 4948/4948 [00:00<00:00, 147833.20it/s]\n",
      "matching:   3664 unique matches from cartesian product. sorting ...\n",
      "    adding angular separation columns\n",
      "matching:   2909 matches after filtering by search radius\n",
      "Primary catalogue \"xxl\" (1238), density gives 1.62e+07 objects on entire sky\n",
      "Catalogue \"sdss\" (44399), density gives 5.80e+08 objects on entire sky\n",
      "Computing distance-based probabilities ...\n",
      "    correcting for unrelated associations ...\n",
      "100%|██████████| 1238/1238 [00:01<00:00, 676.09it/s]\n",
      "Incorporating bias \"sdss:umag\" ...\n",
      "magnitude histogramming: using user-supplied histogram for \"sdss_umag\"\n",
      "Incorporating bias \"sdss:gmag\" ...\n",
      "magnitude histogramming: using user-supplied histogram for \"sdss_gmag\"\n",
      "Incorporating bias \"sdss:rmag\" ...\n",
      "magnitude histogramming: using user-supplied histogram for \"sdss_rmag\"\n",
      "Incorporating bias \"sdss:imag\" ...\n",
      "magnitude histogramming: using user-supplied histogram for \"sdss_imag\"\n",
      "Incorporating bias \"sdss:zmag\" ...\n",
      "magnitude histogramming: using user-supplied histogram for \"sdss_zmag\"\n",
      "\n",
      "Computing final probabilities ...\n",
      "    grouping by primary catalogue ID and flagging ...\n",
      "matching: using fast flat-sky approximation for this match\n",
      "100%|██████████| 44797/44797 [00:00<00:00, 144306.26it/s]\n",
      "matching: collecting from 4949 buckets, creating cartesian products ...\n",
      "100%|██████████| 4949/4949 [00:00<00:00, 98647.53it/s]\n",
      "matching:   2381 unique matches from cartesian product. sorting ...\n",
      "    adding angular separation columns\n",
      "matching:   1639 matches after filtering by search radius\n",
      "Primary catalogue \"xxl\" (1238), density gives 1.62e+07 objects on entire sky\n",
      "Catalogue \"sdss\" (43559), density gives 5.69e+08 objects on entire sky\n",
      "Computing distance-based probabilities ...\n",
      "    correcting for unrelated associations ...\n",
      "100%|██████████| 1238/1238 [00:01<00:00, 620.04it/s]\n",
      "Incorporating bias \"sdss:umag\" ...\n",
      "magnitude histogramming: using user-supplied histogram for \"sdss_umag\"\n",
      "Incorporating bias \"sdss:gmag\" ...\n",
      "magnitude histogramming: using user-supplied histogram for \"sdss_gmag\"\n",
      "Incorporating bias \"sdss:rmag\" ...\n",
      "magnitude histogramming: using user-supplied histogram for \"sdss_rmag\"\n",
      "Incorporating bias \"sdss:imag\" ...\n",
      "magnitude histogramming: using user-supplied histogram for \"sdss_imag\"\n",
      "Incorporating bias \"sdss:zmag\" ...\n",
      "magnitude histogramming: using user-supplied histogram for \"sdss_zmag\"\n",
      "\n",
      "Computing final probabilities ...\n",
      "    grouping by primary catalogue ID and flagging ...\n",
      "WARNING: MergeConflictWarning: Cannot merge meta key 'null' types <class 'float'> and <class 'float'>, choosing null=nan [astropy.utils.metadata]\n",
      "matching: using fast flat-sky approximation for this match\n",
      "100%|██████████| 45637/45637 [00:00<00:00, 137204.66it/s]\n",
      "matching: collecting from 4949 buckets, creating cartesian products ...\n",
      "100%|██████████| 4949/4949 [00:00<00:00, 154964.21it/s]\n",
      "matching:   3680 unique matches from cartesian product. sorting ...\n",
      "    adding angular separation columns\n",
      "matching:   2920 matches after filtering by search radius\n",
      "Primary catalogue \"xxl\" (1238), density gives 1.62e+07 objects on entire sky\n",
      "Catalogue \"sdss\" (44399), density gives 5.80e+08 objects on entire sky\n",
      "Computing distance-based probabilities ...\n",
      "    correcting for unrelated associations ...\n",
      "100%|██████████| 1238/1238 [00:02<00:00, 480.40it/s]\n",
      "Incorporating bias \"sdss:umag\" ...\n",
      "magnitude histogramming: using user-supplied histogram for \"sdss_umag\"\n",
      "Incorporating bias \"sdss:gmag\" ...\n",
      "magnitude histogramming: using user-supplied histogram for \"sdss_gmag\"\n",
      "Incorporating bias \"sdss:rmag\" ...\n",
      "magnitude histogramming: using user-supplied histogram for \"sdss_rmag\"\n",
      "Incorporating bias \"sdss:imag\" ...\n",
      "magnitude histogramming: using user-supplied histogram for \"sdss_imag\"\n",
      "Incorporating bias \"sdss:zmag\" ...\n",
      "magnitude histogramming: using user-supplied histogram for \"sdss_zmag\"\n",
      "\n",
      "Computing final probabilities ...\n",
      "    grouping by primary catalogue ID and flagging ...\n"
     ]
    }
   ],
   "source": [
    "nway_stats = xm.stats(ncutoff=100, maxcutoff=0.99)\n",
    "nway_stats_rnd = xm.stats(match_rnd=True, ncutoff=100, maxcutoff=0.99, prior_completeness=0.55)\n",
    "nway_stats_broos = xm.stats(use_broos=True, ntest=5, ncutoff=100, maxcutoff=0.99, prior_completeness=0.55)"
   ]
  },
  {
   "cell_type": "code",
   "execution_count": 41,
   "metadata": {},
   "outputs": [
    {
     "data": {
      "image/png": "[encoded data removed]",
      "text/plain": [
       "<Figure size 936x360 with 2 Axes>"
      ]
     },
     "metadata": {
      "needs_background": "light"
     },
     "output_type": "display_data"
    }
   ],
   "source": [
    "fig = plt.figure(figsize=(13, 5))\n",
    "\n",
    "plt.subplot(121)\n",
    "plt.plot(nway_stats['cutoff'], nway_stats['error_rate'], lw=3, label='stats')\n",
    "plt.plot(nway_stats_rnd['cutoff'], nway_stats_rnd['error_rate'], lw=3, ls=':', label='random')\n",
    "plt.plot(nway_stats_broos['cutoff'], nway_stats_broos['error_rate'], lw=3, ls='--', label='broos')\n",
    "plt.legend()\n",
    "\n",
    "plt.xlabel('prob_has_match')\n",
    "plt.ylabel('error rate')\n",
    "\n",
    "\n",
    "plt.subplot(122)\n",
    "plt.plot(nway_stats['reliability'], nway_stats['completeness'], lw=3)\n",
    "plt.plot(nway_stats_rnd['reliability'], nway_stats_rnd['completeness'], lw=3, ls=':')\n",
    "plt.plot(nway_stats_broos['reliability'], nway_stats_broos['completeness'], lw=3, ls='--')\n",
    "\n",
    "plt.xlabel('purity')\n",
    "plt.ylabel('completeness')\n",
    "\n",
    "plt.tight_layout()\n",
    "plt.show()"
   ]
  }
 ],
 "metadata": {
  "kernelspec": {
   "display_name": "Python 3",
   "language": "python",
   "name": "python3"
  },
  "language_info": {
   "codemirror_mode": {
    "name": "ipython",
    "version": 3
   },
   "file_extension": ".py",
   "mimetype": "text/x-python",
   "name": "python",
   "nbconvert_exporter": "python",
   "pygments_lexer": "ipython3",
   "version": "3.8.3"
  }
 },
 "nbformat": 4,
 "nbformat_minor": 2
}
