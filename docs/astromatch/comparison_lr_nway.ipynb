{
 "cells": [
  {
   "cell_type": "markdown",
   "metadata": {},
   "source": [
    "A comparison between LR and NWAY methods\n",
    "======================================\n",
    "\n",
    "We crossmatch XXL-North X-ray sources with SDSS optical sources, both selected within a 1 deg radius circle, using the LR and NWAY methods, and compare the results."
   ]
  },
  {
   "cell_type": "markdown",
   "metadata": {},
   "source": [
    "Definition of the catalogues and set crossmatch:"
   ]
  },
  {
   "cell_type": "code",
   "execution_count": null,
   "metadata": {},
   "outputs": [],
   "source": [
    "from astropy import units as u\n",
    "from astropy.coordinates import SkyCoord\n",
    "from mocpy import MOC\n",
    "\n",
    "from astromatch import Catalogue, Match\n",
    "\n",
    "\n",
    "# Common MOC\n",
    "region_center = SkyCoord(ra=35.30109, dec=-4.45962, unit='deg')\n",
    "search_radius = 1*u.deg\n",
    "\n",
    "moc_xxl = MOC.from_elliptical_cone(\n",
    "    lon=region_center.ra,\n",
    "    lat=region_center.dec,\n",
    "    a=search_radius,\n",
    "    b=search_radius,\n",
    "    pa=0*u.deg,\n",
    "    max_depth=14\n",
    ")\n",
    "\n",
    "# X-rays\n",
    "xcat = Catalogue(\n",
    "    'xxl_1deg.fits',\n",
    "    name='xxl',\n",
    "    id_col='Xseq',\n",
    "    coord_cols=['RABdeg', 'DEBdeg'],\n",
    "    poserr_cols=['e_Bpos'],\n",
    "    poserr_type='circle',\n",
    "    area=moc_xxl,\n",
    ")\n",
    "\n",
    "# Optical\n",
    "ocat = Catalogue(\n",
    "    'sdss_1deg.fits',\n",
    "    name='sdss',\n",
    "    id_col='objID',\n",
    "    coord_cols=['RA_ICRS', 'DE_ICRS'],\n",
    "    poserr_cols=['e_RA_ICRS', 'e_DE_ICRS'],\n",
    "    poserr_type='rcd_dec_ellipse',\n",
    "    area=moc_xxl,\n",
    "    mag_cols=['umag', 'gmag', 'rmag', 'imag', 'zmag'],\n",
    ")\n",
    "\n",
    "xm = Match(xcat, ocat)"
   ]
  },
  {
   "cell_type": "markdown",
   "metadata": {},
   "source": [
    "Cross-matching using LR method:"
   ]
  },
  {
   "cell_type": "code",
   "execution_count": null,
   "metadata": {},
   "outputs": [],
   "source": [
    "results_lr = xm.run(method='lr', radius=10.0*u.arcsec)\n",
    "matchs_lr_primary = xm.get_matchs(match_type='primary')"
   ]
  },
  {
   "cell_type": "markdown",
   "metadata": {},
   "source": [
    "Save calculated magnitude priors for later use:"
   ]
  },
  {
   "cell_type": "code",
   "execution_count": null,
   "metadata": {},
   "outputs": [],
   "source": [
    "prior_table = xm.priors.to_table(include_bkg_priors=True)\n",
    "prior_table.write(\"lrpriors.fits\", format=\"fits\", overwrite=True)"
   ]
  },
  {
   "cell_type": "markdown",
   "metadata": {},
   "source": [
    "Cross-matching using NWAY (default magnitude priors):"
   ]
  },
  {
   "cell_type": "code",
   "execution_count": null,
   "metadata": {},
   "outputs": [],
   "source": [
    "results_nway_dfprior = xm.run(method='nway', radius=10.0*u.arcsec, use_mags=True, prior_completeness=0.55)\n",
    "matchs_nway_dfprior_primary = xm.get_matchs(match_type='primary')"
   ]
  },
  {
   "cell_type": "markdown",
   "metadata": {},
   "source": [
    "Cross-matching using NWAY (LR magnitude priors):"
   ]
  },
  {
   "cell_type": "code",
   "execution_count": null,
   "metadata": {},
   "outputs": [],
   "source": [
    "from astromatch.priors import Prior\n",
    "\n",
    "priors = {'sdss': Prior.from_table(\"lrpriors.fits\", ['umag', 'gmag', 'rmag', 'imag', 'zmag'])}\n",
    "\n",
    "results_nway_lrprior = xm.run(\n",
    "    method='nway', radius=10.0*u.arcsec, prior_completeness=0.55, use_mags=True, priors=priors\n",
    ")\n",
    "matchs_nway_lrprior_primary = xm.get_matchs(match_type='primary')"
   ]
  },
  {
   "cell_type": "markdown",
   "metadata": {},
   "source": [
    "Comparison of results\n",
    "-------------------------------\n",
    "\n",
    "Identification rate:"
   ]
  },
  {
   "cell_type": "code",
   "execution_count": null,
   "metadata": {},
   "outputs": [],
   "source": [
    "lr_id_rate = 100 * len(matchs_lr_primary) / len(xcat)\n",
    "print(f\"LR identification rate :{lr_id_rate:.1f}%\")\n",
    "\n",
    "lr_nway_dfprior_rate = 100 * len(matchs_nway_dfprior_primary) / len(xcat)\n",
    "print(f\"NWAY (default prior) identification rate :{lr_nway_dfprior_rate:.1f}%\")\n",
    "\n",
    "lr_nway_lrprior_rate = 100 * len(matchs_nway_lrprior_primary) / len(xcat)\n",
    "print(f\"NWAY (LR prior) identification rate :{lr_nway_lrprior_rate:.1f}%\")\n"
   ]
  },
  {
   "cell_type": "markdown",
   "metadata": {},
   "source": [
    "prob_has_match distributions:"
   ]
  },
  {
   "cell_type": "code",
   "execution_count": null,
   "metadata": {},
   "outputs": [],
   "source": [
    "%matplotlib inline\n",
    "import matplotlib.pyplot as plt\n",
    "\n",
    "plt.figure(figsize=(9,7))\n",
    "\n",
    "_, bins, _ = plt.hist(matchs_lr_primary[\"prob_has_match\"], label=\"LR\",\n",
    "         bins=\"auto\")\n",
    "plt.hist(matchs_nway_dfprior_primary[\"prob_has_match\"], label=\"NWAY (default prior)\",\n",
    "         histtype='step', lw=5, ls=\":\", bins=bins)\n",
    "plt.hist(matchs_nway_lrprior_primary[\"prob_has_match\"], label=\"NWAY (LR prior)\",\n",
    "         histtype='step', lw=5, ls=\"--\", bins=bins)\n",
    "\n",
    "plt.legend()\n",
    "\n",
    "plt.xlim(0, 1)\n",
    "plt.xlabel(\"prob_has_match\")\n",
    "\n",
    "plt.show()"
   ]
  },
  {
   "cell_type": "code",
   "execution_count": null,
   "metadata": {},
   "outputs": [],
   "source": [
    "import numpy as np\n",
    "from astropy.table import join\n",
    "\n",
    "matchs_lr_primary_ids = matchs_lr_primary[[\"SRCID_xxl\", \"SRCID_sdss\"]]\n",
    "matchs_nway_dfprior_primary_ids = matchs_nway_dfprior_primary[[\"SRCID_xxl\", \"SRCID_sdss\"]]\n",
    "matchs_nway_lrprior_primary_ids = matchs_nway_lrprior_primary[[\"SRCID_xxl\", \"SRCID_sdss\"]]\n",
    "\n",
    "lr_nway_dfprior = join(matchs_lr_primary_ids, matchs_nway_dfprior_primary_ids,\n",
    "                       join_type=\"left\", keys=[\"SRCID_xxl\"], table_names=[\"lr\", \"nway\"])\n",
    "\n",
    "equal_ids = len(np.where(lr_nway_dfprior[\"SRCID_sdss_lr\"] == lr_nway_dfprior[\"SRCID_sdss_nway\"])[0])\n",
    "percent_equal_ids = 100 * equal_ids / len(lr_nway_dfprior)\n",
    "\n",
    "print(f\"LR and NWAY (default prior) get the same counterpart for {percent_equal_ids:.1f}% of the X-ray sources.\")\n",
    "\n",
    "\n",
    "lr_nway_lrprior = join(matchs_lr_primary_ids, matchs_nway_lrprior_primary_ids,\n",
    "                       join_type=\"left\", keys=[\"SRCID_xxl\"], table_names=[\"lr\", \"nway\"])\n",
    "\n",
    "equal_ids = len(np.where(lr_nway_lrprior[\"SRCID_sdss_lr\"] == lr_nway_lrprior[\"SRCID_sdss_nway\"])[0])\n",
    "percent_equal_ids = 100 * equal_ids / len(lr_nway_lrprior)\n",
    "\n",
    "print(f\"LR and NWAY (LR prior) get the same counterpart for {percent_equal_ids:.1f}% of the X-ray sources.\")"
   ]
  }
 ],
 "metadata": {
  "kernelspec": {
   "display_name": "Python 3",
   "language": "python",
   "name": "python3"
  },
  "language_info": {
   "codemirror_mode": {
    "name": "ipython",
    "version": 3
   },
   "file_extension": ".py",
   "mimetype": "text/x-python",
   "name": "python",
   "nbconvert_exporter": "python",
   "pygments_lexer": "ipython3",
   "version": "3.8.2"
  }
 },
 "nbformat": 4,
 "nbformat_minor": 2
}
