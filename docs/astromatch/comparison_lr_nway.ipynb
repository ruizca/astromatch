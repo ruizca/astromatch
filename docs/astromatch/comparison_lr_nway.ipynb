{
 "cells": [
  {
   "cell_type": "markdown",
   "metadata": {},
   "source": [
    "A comparison between LR and NWAY methods\n",
    "======================================\n",
    "\n",
    "We crossmatch XXL-North X-ray sources with SDSS optical sources, both selected within a 1 deg radius circle, using the LR and NWAY methods, and compare the results."
   ]
  },
  {
   "cell_type": "markdown",
   "metadata": {},
   "source": [
    "Definition of the catalogues and set crossmatch:"
   ]
  },
  {
   "cell_type": "code",
   "execution_count": 1,
   "metadata": {},
   "outputs": [],
   "source": [
    "%load_ext autoreload\n",
    "%autoreload 2"
   ]
  },
  {
   "cell_type": "code",
   "execution_count": 2,
   "metadata": {},
   "outputs": [
    {
     "name": "stdout",
     "output_type": "stream",
     "text": [
      "INFO: Selecting sources in common area... [astromatch.core]\n",
      "INFO: xxl catalogue: 1238 sources in common area. [astromatch.core]\n",
      "INFO: sdss catalogue: 43559 sources in common area. [astromatch.core]\n"
     ]
    }
   ],
   "source": [
    "import numpy as np\n",
    "from astropy import units as u\n",
    "from astropy.coordinates import SkyCoord\n",
    "from astropy.table import Table\n",
    "from mocpy import MOC\n",
    "\n",
    "from astromatch import Catalogue, Match\n",
    "\n",
    "\n",
    "# Common MOC\n",
    "region_center = SkyCoord(ra=35.30109, dec=-4.45962, unit='deg')\n",
    "search_radius = 1*u.deg\n",
    "\n",
    "moc_xxl = MOC.from_elliptical_cone(\n",
    "    lon=region_center.ra,\n",
    "    lat=region_center.dec,\n",
    "    a=search_radius,\n",
    "    b=search_radius,\n",
    "    pa=0*u.deg,\n",
    "    max_depth=14\n",
    ")\n",
    "\n",
    "# X-rays\n",
    "xcat = Catalogue(\n",
    "    'xxl_1deg.fits',\n",
    "    name='xxl',\n",
    "    id_col='Xseq',\n",
    "    coord_cols=['RABdeg', 'DEBdeg'],\n",
    "    poserr_cols=['e_Bpos'],\n",
    "    poserr_type='circle',\n",
    "    area=moc_xxl,\n",
    ")\n",
    "xcat.poserr.components = Table([xcat.poserr.components['e_Bpos'] / np.sqrt(2)])\n",
    "\n",
    "# Optical\n",
    "ocat = Catalogue(\n",
    "    'sdss_1deg.fits',\n",
    "    name='sdss',\n",
    "    id_col='objID',\n",
    "    coord_cols=['RA_ICRS', 'DE_ICRS'],\n",
    "    poserr_cols=['e_RA_ICRS', 'e_DE_ICRS'],\n",
    "    poserr_type='rcd_dec_ellipse',\n",
    "    area=moc_xxl,\n",
    "    mag_cols=['umag', 'gmag', 'rmag', 'imag', 'zmag'],\n",
    ")\n",
    "\n",
    "xm = Match(xcat, ocat)"
   ]
  },
  {
   "cell_type": "markdown",
   "metadata": {},
   "source": [
    "Cross-matching using LR method:"
   ]
  },
  {
   "cell_type": "code",
   "execution_count": 13,
   "metadata": {},
   "outputs": [
    {
     "name": "stdout",
     "output_type": "stream",
     "text": [
      "INFO: Using LR method: [astromatch.core]\n",
      "INFO: Searching for match candidates within 10.0 arcsec... [astromatch.lr]\n",
      "INFO: Calculating priors... [astromatch.lr]\n",
      "INFO: Estimating priors using Catalogues: xxl and sdss... [astromatch.priors]\n",
      "INFO: Using columns: ['umag', 'gmag', 'rmag', 'imag', 'zmag'] [astromatch.priors]\n",
      "INFO: Calculating likelihood ratios for match candidates... [astromatch.lr]\n",
      "INFO: Sorting and flagging match results... [astromatch.lr]\n"
     ]
    }
   ],
   "source": [
    "results_lr = xm.run(method='lr', radius=10.0*u.arcsec, poserr_dist=\"normal\")\n",
    "matchs_lr_primary = xm.get_matchs(match_type='primary')"
   ]
  },
  {
   "cell_type": "markdown",
   "metadata": {},
   "source": [
    "Save calculated magnitude priors for later use:"
   ]
  },
  {
   "cell_type": "code",
   "execution_count": 4,
   "metadata": {},
   "outputs": [],
   "source": [
    "prior_table = xm.priors.to_table(include_bkg_priors=True)\n",
    "prior_table.write(\"lrpriors.fits\", format=\"fits\", overwrite=True)"
   ]
  },
  {
   "cell_type": "markdown",
   "metadata": {},
   "source": [
    "Cross-matching using NWAY (default magnitude priors):"
   ]
  },
  {
   "cell_type": "code",
   "execution_count": 5,
   "metadata": {},
   "outputs": [
    {
     "name": "stderr",
     "output_type": "stream",
     "text": [
      "    adding angular separation columns\n",
      "matching:   2311 matches after filtering by search radius\n",
      "Primary catalogue \"xxl\" (1238), density gives 1.62e+07 objects on entire sky\n",
      "Catalogue \"sdss\" (43559), density gives 5.69e+08 objects on entire sky\n",
      "Computing distance-based probabilities ...\n",
      "    correcting for unrelated associations ...\n",
      "\r",
      "  0%|          | 0/1238 [00:00<?, ?it/s]"
     ]
    },
    {
     "name": "stdout",
     "output_type": "stream",
     "text": [
      "INFO: Using NWAY method: [astromatch.core]\n"
     ]
    },
    {
     "name": "stderr",
     "output_type": "stream",
     "text": [
      "100%|██████████| 1238/1238 [00:01<00:00, 1027.76it/s]\n",
      "Incorporating bias \"sdss:umag\" ...\n",
      "magnitude histogram of column \"sdss_umag\": 439 secure matches, 683 insecure matches and 42876 secure non-matches of 43559 total entries (43559 valid)\n",
      "magnitude histogram stored to \"sdss_umag_fit.txt\".\n",
      "Incorporating bias \"sdss:gmag\" ...\n",
      "magnitude histogram of column \"sdss_gmag\": 439 secure matches, 683 insecure matches and 42876 secure non-matches of 43559 total entries (43559 valid)\n",
      "magnitude histogram stored to \"sdss_gmag_fit.txt\".\n",
      "Incorporating bias \"sdss:rmag\" ...\n",
      "magnitude histogram of column \"sdss_rmag\": 439 secure matches, 683 insecure matches and 42876 secure non-matches of 43559 total entries (43559 valid)\n",
      "magnitude histogram stored to \"sdss_rmag_fit.txt\".\n",
      "Incorporating bias \"sdss:imag\" ...\n",
      "magnitude histogram of column \"sdss_imag\": 439 secure matches, 683 insecure matches and 42876 secure non-matches of 43559 total entries (43559 valid)\n",
      "magnitude histogram stored to \"sdss_imag_fit.txt\".\n",
      "Incorporating bias \"sdss:zmag\" ...\n",
      "magnitude histogram of column \"sdss_zmag\": 439 secure matches, 683 insecure matches and 42876 secure non-matches of 43559 total entries (43559 valid)\n",
      "magnitude histogram stored to \"sdss_zmag_fit.txt\".\n",
      "\n",
      "Computing final probabilities ...\n",
      "    grouping by primary catalogue ID and flagging ...\n"
     ]
    },
    {
     "name": "stdout",
     "output_type": "stream",
     "text": [
      "INFO: Using provided prior... [astromatch.priors]\n"
     ]
    }
   ],
   "source": [
    "results_nway_dfprior = xm.run(method='nway', radius=10.0*u.arcsec, use_mags=True, prior_completeness=0.55)\n",
    "matchs_nway_dfprior_primary = xm.get_matchs(match_type='primary')"
   ]
  },
  {
   "cell_type": "markdown",
   "metadata": {},
   "source": [
    "Cross-matching using NWAY (LR magnitude priors):"
   ]
  },
  {
   "cell_type": "code",
   "execution_count": 6,
   "metadata": {},
   "outputs": [
    {
     "name": "stderr",
     "output_type": "stream",
     "text": [
      "    adding angular separation columns\n",
      "matching:   2311 matches after filtering by search radius\n",
      "Primary catalogue \"xxl\" (1238), density gives 1.62e+07 objects on entire sky\n",
      "Catalogue \"sdss\" (43559), density gives 5.69e+08 objects on entire sky\n",
      "Computing distance-based probabilities ...\n",
      "    correcting for unrelated associations ...\n",
      " 17%|█▋        | 215/1238 [00:00<00:00, 1061.40it/s]"
     ]
    },
    {
     "name": "stdout",
     "output_type": "stream",
     "text": [
      "INFO: Using provided prior... [astromatch.priors]\n",
      "INFO: Using NWAY method: [astromatch.core]\n"
     ]
    },
    {
     "name": "stderr",
     "output_type": "stream",
     "text": [
      "100%|██████████| 1238/1238 [00:01<00:00, 1062.10it/s]\n",
      "Incorporating bias \"sdss:umag\" ...\n",
      "magnitude histogramming: using user-supplied histogram for \"sdss_umag\"\n",
      "Incorporating bias \"sdss:gmag\" ...\n",
      "magnitude histogramming: using user-supplied histogram for \"sdss_gmag\"\n",
      "Incorporating bias \"sdss:rmag\" ...\n",
      "magnitude histogramming: using user-supplied histogram for \"sdss_rmag\"\n",
      "Incorporating bias \"sdss:imag\" ...\n",
      "magnitude histogramming: using user-supplied histogram for \"sdss_imag\"\n",
      "Incorporating bias \"sdss:zmag\" ...\n",
      "magnitude histogramming: using user-supplied histogram for \"sdss_zmag\"\n",
      "\n",
      "Computing final probabilities ...\n",
      "    grouping by primary catalogue ID and flagging ...\n"
     ]
    }
   ],
   "source": [
    "from astromatch.priors import Prior\n",
    "\n",
    "prior_labels = [f\"PRIOR{i}\" for i in range(5)]\n",
    "priors = {'sdss': Prior.from_table(\"lrpriors.fits\", prior_labels)}\n",
    "\n",
    "results_nway_lrprior = xm.run(\n",
    "    method='nway', radius=10.0*u.arcsec, prior_completeness=0.55, use_mags=True, priors=priors\n",
    ")\n",
    "matchs_nway_lrprior_primary = xm.get_matchs(match_type='primary')"
   ]
  },
  {
   "cell_type": "markdown",
   "metadata": {},
   "source": [
    "Comparison of results\n",
    "-------------------------------\n",
    "\n",
    "Identification rate:"
   ]
  },
  {
   "cell_type": "code",
   "execution_count": 7,
   "metadata": {},
   "outputs": [
    {
     "name": "stdout",
     "output_type": "stream",
     "text": [
      "LR identification rate :68.2%\n",
      "NWAY (default prior) identification rate :68.2%\n",
      "NWAY (LR prior) identification rate :68.2%\n"
     ]
    }
   ],
   "source": [
    "lr_id_rate = 100 * len(matchs_lr_primary) / len(xcat)\n",
    "print(f\"LR identification rate :{lr_id_rate:.1f}%\")\n",
    "\n",
    "lr_nway_dfprior_rate = 100 * len(matchs_nway_dfprior_primary) / len(xcat)\n",
    "print(f\"NWAY (default prior) identification rate :{lr_nway_dfprior_rate:.1f}%\")\n",
    "\n",
    "lr_nway_lrprior_rate = 100 * len(matchs_nway_lrprior_primary) / len(xcat)\n",
    "print(f\"NWAY (LR prior) identification rate :{lr_nway_lrprior_rate:.1f}%\")"
   ]
  },
  {
   "cell_type": "markdown",
   "metadata": {},
   "source": [
    "prob_has_match distributions:"
   ]
  },
  {
   "cell_type": "code",
   "execution_count": null,
   "metadata": {},
   "outputs": [],
   "source": [
    "plt.hist(\n",
    "    matchs_lr_primary[\"prob_has_match\"], label=\"LR\", bins=20,\n",
    ")"
   ]
  },
  {
   "cell_type": "code",
   "execution_count": 14,
   "metadata": {},
   "outputs": [
    {
     "data": {
      "image/png": "[encoded data removed]",
      "text/plain": [
       "<Figure size 648x504 with 1 Axes>"
      ]
     },
     "metadata": {
      "needs_background": "light"
     },
     "output_type": "display_data"
    }
   ],
   "source": [
    "%matplotlib inline\n",
    "import matplotlib.pyplot as plt\n",
    "\n",
    "plt.figure(figsize=(9,7))\n",
    "\n",
    "_, bins, _ = plt.hist(\n",
    "    matchs_lr_primary[\"prob_has_match\"], label=\"LR\", range=(0,1), bins=20,\n",
    ")\n",
    "plt.hist(\n",
    "    matchs_nway_dfprior_primary[\"prob_has_match\"],\n",
    "    label=\"NWAY (default prior)\",\n",
    "    histtype='step',\n",
    "    lw=5,\n",
    "    ls=\":\",\n",
    "    bins=bins\n",
    ")\n",
    "plt.hist(\n",
    "    matchs_nway_lrprior_primary[\"prob_has_match\"],\n",
    "    label=\"NWAY (LR prior)\",\n",
    "    histtype='step',\n",
    "    lw=5,\n",
    "    ls=\"--\",\n",
    "    bins=bins\n",
    ")\n",
    "\n",
    "plt.legend()\n",
    "\n",
    "plt.xlim(0, 1)\n",
    "plt.xlabel(\"prob_has_match\")\n",
    "\n",
    "plt.show()"
   ]
  },
  {
   "cell_type": "code",
   "execution_count": null,
   "metadata": {},
   "outputs": [],
   "source": [
    "import numpy as np\n",
    "from astropy.table import join\n",
    "\n",
    "matchs_lr_primary_ids = matchs_lr_primary[[\"SRCID_xxl\", \"SRCID_sdss\"]]\n",
    "matchs_nway_dfprior_primary_ids = matchs_nway_dfprior_primary[[\"SRCID_xxl\", \"SRCID_sdss\"]]\n",
    "matchs_nway_lrprior_primary_ids = matchs_nway_lrprior_primary[[\"SRCID_xxl\", \"SRCID_sdss\"]]\n",
    "\n",
    "lr_nway_dfprior = join(\n",
    "    matchs_lr_primary_ids,\n",
    "    matchs_nway_dfprior_primary_ids,\n",
    "    join_type=\"left\",\n",
    "    keys=[\"SRCID_xxl\"],\n",
    "    table_names=[\"lr\", \"nway\"],\n",
    ")\n",
    "\n",
    "equal_ids = len(np.where(lr_nway_dfprior[\"SRCID_sdss_lr\"] == lr_nway_dfprior[\"SRCID_sdss_nway\"])[0])\n",
    "percent_equal_ids = 100 * equal_ids / len(lr_nway_dfprior)\n",
    "\n",
    "print(f\"LR and NWAY (default prior) get the same counterpart for {percent_equal_ids:.1f}% of the X-ray sources.\")\n",
    "\n",
    "\n",
    "lr_nway_lrprior = join(matchs_lr_primary_ids, matchs_nway_lrprior_primary_ids,\n",
    "                       join_type=\"left\", keys=[\"SRCID_xxl\"], table_names=[\"lr\", \"nway\"])\n",
    "\n",
    "equal_ids = len(np.where(lr_nway_lrprior[\"SRCID_sdss_lr\"] == lr_nway_lrprior[\"SRCID_sdss_nway\"])[0])\n",
    "percent_equal_ids = 100 * equal_ids / len(lr_nway_lrprior)\n",
    "\n",
    "print(f\"LR and NWAY (LR prior) get the same counterpart for {percent_equal_ids:.1f}% of the X-ray sources.\")"
   ]
  },
  {
   "cell_type": "code",
   "execution_count": null,
   "metadata": {},
   "outputs": [],
   "source": [
    "#import numpy as np\n",
    "\n",
    "x = np.linspace(0, 10, num=500)\n",
    "sigma2 = 3\n",
    "y = np.abs(x) * np.exp(-x**2/(2*sigma2))\n",
    "\n",
    "\n",
    "plt.plot(x,y)\n",
    "plt.show()"
   ]
  },
  {
   "cell_type": "code",
   "execution_count": null,
   "metadata": {},
   "outputs": [],
   "source": []
  }
 ],
 "metadata": {
  "kernelspec": {
   "display_name": "Python 3",
   "language": "python",
   "name": "python3"
  },
  "language_info": {
   "codemirror_mode": {
    "name": "ipython",
    "version": 3
   },
   "file_extension": ".py",
   "mimetype": "text/x-python",
   "name": "python",
   "nbconvert_exporter": "python",
   "pygments_lexer": "ipython3",
   "version": "3.8.3"
  }
 },
 "nbformat": 4,
 "nbformat_minor": 2
}
